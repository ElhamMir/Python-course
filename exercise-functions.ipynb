{
 "cells": [
  {
   "cell_type": "markdown",
   "id": "d4132de9",
   "metadata": {
    "papermill": {
     "duration": 0.009646,
     "end_time": "2023-08-02T02:35:18.637418",
     "exception": false,
     "start_time": "2023-08-02T02:35:18.627772",
     "status": "completed"
    },
    "tags": []
   },
   "source": [
    "**This notebook is an exercise in the [Intro to Programming](https://www.kaggle.com/learn/intro-to-programming) course.  You can reference the tutorial at [this link](https://www.kaggle.com/alexisbcook/functions).**\n",
    "\n",
    "---\n"
   ]
  },
  {
   "cell_type": "markdown",
   "id": "09487a72",
   "metadata": {
    "papermill": {
     "duration": 0.007948,
     "end_time": "2023-08-02T02:35:18.653861",
     "exception": false,
     "start_time": "2023-08-02T02:35:18.645913",
     "status": "completed"
    },
    "tags": []
   },
   "source": [
    "In the tutorial, you learned about functions. In this exercise, you'll write some of your own!\n",
    "\n",
    "# Set up the notebook\n",
    "\n",
    "Run the next code cell without changes to set up the notebook."
   ]
  },
  {
   "cell_type": "code",
   "execution_count": 1,
   "id": "21a226c4",
   "metadata": {
    "execution": {
     "iopub.execute_input": "2023-08-02T02:35:18.672938Z",
     "iopub.status.busy": "2023-08-02T02:35:18.671837Z",
     "iopub.status.idle": "2023-08-02T02:35:18.732726Z",
     "shell.execute_reply": "2023-08-02T02:35:18.731359Z"
    },
    "papermill": {
     "duration": 0.074176,
     "end_time": "2023-08-02T02:35:18.736241",
     "exception": false,
     "start_time": "2023-08-02T02:35:18.662065",
     "status": "completed"
    },
    "tags": []
   },
   "outputs": [
    {
     "name": "stdout",
     "output_type": "stream",
     "text": [
      "Setup complete.\n"
     ]
    }
   ],
   "source": [
    "# Set up the exercise\n",
    "import math\n",
    "from learntools.core import binder\n",
    "binder.bind(globals())\n",
    "from learntools.intro_to_programming.ex2 import *\n",
    "print('Setup complete.')"
   ]
  },
  {
   "cell_type": "markdown",
   "id": "6ad0722a",
   "metadata": {
    "papermill": {
     "duration": 0.008122,
     "end_time": "2023-08-02T02:35:18.753322",
     "exception": false,
     "start_time": "2023-08-02T02:35:18.745200",
     "status": "completed"
    },
    "tags": []
   },
   "source": [
    "# Question 1\n",
    "\n",
    "In the [House Prices - Advanced Regression Techniques competition](https://www.kaggle.com/c/house-prices-advanced-regression-techniques/overview), you need to use information like the number of bedrooms and bathrooms to predict the price of a house.  Inspired by this competition, you'll write your own function to do this.\n",
    "\n",
    "In the next code cell, create a function `get_expected_cost()` that has two arguments:\n",
    "- `beds` - number of bedrooms \n",
    "- `baths` - number of bathrooms\n",
    "\n",
    "It should return the expected cost of a house with that number of bedrooms and bathrooms.  Assume that:\n",
    "- the expected cost for a house with 0 bedrooms and 0 bathrooms is `80000`.  \n",
    "- each bedroom adds `30000` to the expected cost\n",
    "- each bathroom adds `10000` to the expected cost.\n",
    "\n",
    "For instance, \n",
    "- a house with 1 bedroom and 1 bathroom has an expected cost of `120000`, and \n",
    "- a house with 2 bedrooms and 1 bathroom has an expected cost of `150000`."
   ]
  },
  {
   "cell_type": "code",
   "execution_count": 2,
   "id": "dd75be58",
   "metadata": {
    "execution": {
     "iopub.execute_input": "2023-08-02T02:35:18.774651Z",
     "iopub.status.busy": "2023-08-02T02:35:18.774185Z",
     "iopub.status.idle": "2023-08-02T02:35:18.789401Z",
     "shell.execute_reply": "2023-08-02T02:35:18.787924Z"
    },
    "papermill": {
     "duration": 0.029407,
     "end_time": "2023-08-02T02:35:18.791827",
     "exception": false,
     "start_time": "2023-08-02T02:35:18.762420",
     "status": "completed"
    },
    "tags": []
   },
   "outputs": [
    {
     "name": "stdout",
     "output_type": "stream",
     "text": [
      "80000\n",
      "90000\n"
     ]
    },
    {
     "data": {
      "application/javascript": [
       "parent.postMessage({\"jupyterEvent\": \"custom.exercise_interaction\", \"data\": {\"outcomeType\": 1, \"valueTowardsCompletion\": 0.2, \"interactionType\": 1, \"questionType\": 2, \"questionId\": \"1_GetExpectedCost\", \"learnToolsVersion\": \"0.3.4\", \"failureMessage\": \"\", \"exceptionClass\": \"\", \"trace\": \"\"}}, \"*\")"
      ],
      "text/plain": [
       "<IPython.core.display.Javascript object>"
      ]
     },
     "metadata": {},
     "output_type": "display_data"
    },
    {
     "data": {
      "text/markdown": [
       "<span style=\"color:#33cc33\">Correct</span>"
      ],
      "text/plain": [
       "Correct"
      ]
     },
     "metadata": {},
     "output_type": "display_data"
    }
   ],
   "source": [
    "# TODO: Complete the function\n",
    "def get_expected_cost(beds, baths):\n",
    "    if(beds==0):\n",
    "        if(baths==0):\n",
    "            return 80000\n",
    "    #bedroom=3000\n",
    "    #bathroom=1000\n",
    "    house=80000\n",
    "    return (beds*30000)+ (baths*10000)+house \n",
    "    #return value\n",
    "\n",
    "print(get_expected_cost(0,0))   \n",
    "print(get_expected_cost(0,1))  \n",
    "# Check your answer \n",
    "q1.check()"
   ]
  },
  {
   "cell_type": "code",
   "execution_count": null,
   "id": "2b651f09",
   "metadata": {
    "papermill": {
     "duration": 0.008754,
     "end_time": "2023-08-02T02:35:18.810581",
     "exception": false,
     "start_time": "2023-08-02T02:35:18.801827",
     "status": "completed"
    },
    "tags": []
   },
   "outputs": [],
   "source": []
  },
  {
   "cell_type": "code",
   "execution_count": 3,
   "id": "7b729111",
   "metadata": {
    "execution": {
     "iopub.execute_input": "2023-08-02T02:35:18.830639Z",
     "iopub.status.busy": "2023-08-02T02:35:18.830215Z",
     "iopub.status.idle": "2023-08-02T02:35:18.845632Z",
     "shell.execute_reply": "2023-08-02T02:35:18.844442Z"
    },
    "papermill": {
     "duration": 0.028586,
     "end_time": "2023-08-02T02:35:18.848360",
     "exception": false,
     "start_time": "2023-08-02T02:35:18.819774",
     "status": "completed"
    },
    "tags": []
   },
   "outputs": [
    {
     "data": {
      "application/javascript": [
       "parent.postMessage({\"jupyterEvent\": \"custom.exercise_interaction\", \"data\": {\"interactionType\": 2, \"questionType\": 2, \"questionId\": \"1_GetExpectedCost\", \"learnToolsVersion\": \"0.3.4\", \"valueTowardsCompletion\": 0.0, \"failureMessage\": \"\", \"exceptionClass\": \"\", \"trace\": \"\", \"outcomeType\": 4}}, \"*\")"
      ],
      "text/plain": [
       "<IPython.core.display.Javascript object>"
      ]
     },
     "metadata": {},
     "output_type": "display_data"
    },
    {
     "data": {
      "text/markdown": [
       "<span style=\"color:#3366cc\">Hint:</span> The value should be the base cost (`80000`), plus the total cost of the bedrooms (`30000 * beds`), plus the total cost of the bathrooms (`10000 * baths`)."
      ],
      "text/plain": [
       "Hint: The value should be the base cost (`80000`), plus the total cost of the bedrooms (`30000 * beds`), plus the total cost of the bathrooms (`10000 * baths`)."
      ]
     },
     "metadata": {},
     "output_type": "display_data"
    },
    {
     "data": {
      "application/javascript": [
       "parent.postMessage({\"jupyterEvent\": \"custom.exercise_interaction\", \"data\": {\"interactionType\": 3, \"questionType\": 2, \"questionId\": \"1_GetExpectedCost\", \"learnToolsVersion\": \"0.3.4\", \"valueTowardsCompletion\": 0.0, \"failureMessage\": \"\", \"exceptionClass\": \"\", \"trace\": \"\", \"outcomeType\": 4}}, \"*\")"
      ],
      "text/plain": [
       "<IPython.core.display.Javascript object>"
      ]
     },
     "metadata": {},
     "output_type": "display_data"
    },
    {
     "data": {
      "text/markdown": [
       "<span style=\"color:#33cc99\">Solution:</span> \n",
       "```python\n",
       "\n",
       "def get_expected_cost(beds, baths):\n",
       "    value = 80000 + 30000 * beds + 10000 * baths\n",
       "    return value\n",
       "\n",
       "```"
      ],
      "text/plain": [
       "Solution: \n",
       "```python\n",
       "\n",
       "def get_expected_cost(beds, baths):\n",
       "    value = 80000 + 30000 * beds + 10000 * baths\n",
       "    return value\n",
       "\n",
       "```"
      ]
     },
     "metadata": {},
     "output_type": "display_data"
    }
   ],
   "source": [
    "# Uncomment to see a hint\n",
    "q1.hint()\n",
    "\n",
    "#Uncomment to view the solution\n",
    "q1.solution()"
   ]
  },
  {
   "cell_type": "code",
   "execution_count": null,
   "id": "25aeae00",
   "metadata": {
    "papermill": {
     "duration": 0.009575,
     "end_time": "2023-08-02T02:35:18.869306",
     "exception": false,
     "start_time": "2023-08-02T02:35:18.859731",
     "status": "completed"
    },
    "tags": []
   },
   "outputs": [],
   "source": []
  },
  {
   "cell_type": "markdown",
   "id": "52025e1c",
   "metadata": {
    "papermill": {
     "duration": 0.009255,
     "end_time": "2023-08-02T02:35:18.888509",
     "exception": false,
     "start_time": "2023-08-02T02:35:18.879254",
     "status": "completed"
    },
    "tags": []
   },
   "source": [
    "# Question 2\n",
    "\n",
    "You are thinking about buying a home and want to get an idea of how much you will spend, based on the number of bedrooms and bathrooms.  You are trying to decide between four different options:\n",
    "- Option 1: house with two bedrooms and three bathrooms\n",
    "- Option 2: house with three bedrooms and two bathrooms\n",
    "- Option 3: house with three bedrooms and three bathrooms\n",
    "- Option 4: house with three bedrooms and four bathrooms\n",
    "\n",
    "Use the `get_expected_cost()` function you defined in question 1 to set `option_1`, `option_2`, `option_3`, and `option_4` to the expected cost of each option."
   ]
  },
  {
   "cell_type": "code",
   "execution_count": 4,
   "id": "ea9898d0",
   "metadata": {
    "execution": {
     "iopub.execute_input": "2023-08-02T02:35:18.910029Z",
     "iopub.status.busy": "2023-08-02T02:35:18.909588Z",
     "iopub.status.idle": "2023-08-02T02:35:18.922768Z",
     "shell.execute_reply": "2023-08-02T02:35:18.920993Z"
    },
    "papermill": {
     "duration": 0.027512,
     "end_time": "2023-08-02T02:35:18.925660",
     "exception": false,
     "start_time": "2023-08-02T02:35:18.898148",
     "status": "completed"
    },
    "tags": []
   },
   "outputs": [
    {
     "name": "stdout",
     "output_type": "stream",
     "text": [
      "<learntools.core.constants.PlaceholderValue object at 0x79eaa0e3f6a0>\n",
      "<learntools.core.constants.PlaceholderValue object at 0x79eaa0e3f6a0>\n",
      "<learntools.core.constants.PlaceholderValue object at 0x79eaa0e3f6a0>\n",
      "<learntools.core.constants.PlaceholderValue object at 0x79eaa0e3f6a0>\n"
     ]
    },
    {
     "data": {
      "application/javascript": [
       "parent.postMessage({\"jupyterEvent\": \"custom.exercise_interaction\", \"data\": {\"outcomeType\": 4, \"interactionType\": 1, \"questionType\": 1, \"questionId\": \"2_RunGetExpectedCost\", \"learnToolsVersion\": \"0.3.4\", \"valueTowardsCompletion\": 0.0, \"failureMessage\": \"\", \"exceptionClass\": \"\", \"trace\": \"\"}}, \"*\")"
      ],
      "text/plain": [
       "<IPython.core.display.Javascript object>"
      ]
     },
     "metadata": {},
     "output_type": "display_data"
    },
    {
     "data": {
      "text/markdown": [
       "<span style=\"color:#ccaa33\">Check:</span> When you've updated the starter code, `check()` will tell you whether your code is correct. You need to update the code that creates variables `option_one`, `option_two`, `option_three`, `option_four`"
      ],
      "text/plain": [
       "Check: When you've updated the starter code, `check()` will tell you whether your code is correct. You need to update the code that creates variables `option_one`, `option_two`, `option_three`, `option_four`"
      ]
     },
     "metadata": {},
     "output_type": "display_data"
    }
   ],
   "source": [
    "# TODO: Use the get_expected_cost function to fill in each value\n",
    "option_one = ____\n",
    "option_two = ____\n",
    "option_three = ____\n",
    "option_four = ____\n",
    "\n",
    "print(option_one)\n",
    "print(option_two)\n",
    "print(option_three)\n",
    "print(option_four)\n",
    "\n",
    "# Check your answer\n",
    "q2.check()"
   ]
  },
  {
   "cell_type": "code",
   "execution_count": 5,
   "id": "44d806c1",
   "metadata": {
    "execution": {
     "iopub.execute_input": "2023-08-02T02:35:18.948194Z",
     "iopub.status.busy": "2023-08-02T02:35:18.947703Z",
     "iopub.status.idle": "2023-08-02T02:35:18.953370Z",
     "shell.execute_reply": "2023-08-02T02:35:18.951810Z"
    },
    "papermill": {
     "duration": 0.020111,
     "end_time": "2023-08-02T02:35:18.955960",
     "exception": false,
     "start_time": "2023-08-02T02:35:18.935849",
     "status": "completed"
    },
    "tags": []
   },
   "outputs": [],
   "source": [
    "# Uncomment to see a hint\n",
    "#q2.hint()\n",
    "\n",
    "# Uncomment to view the solution\n",
    "#q2.solution()"
   ]
  },
  {
   "cell_type": "markdown",
   "id": "f304f7d3",
   "metadata": {
    "papermill": {
     "duration": 0.00973,
     "end_time": "2023-08-02T02:35:18.975968",
     "exception": false,
     "start_time": "2023-08-02T02:35:18.966238",
     "status": "completed"
    },
    "tags": []
   },
   "source": [
    "# Question 3\n",
    "\n",
    "You're a home decorator, and you'd like to use Python to streamline some of your work.  Specifically, you're creating a tool that you intend to use to calculate the cost of painting a room.\n",
    "\n",
    "As a first step, define a function `get_cost()` that takes as input:\n",
    "- `sqft_walls` = total square feet of walls to be painted\n",
    "- `sqft_ceiling` = square feet of ceiling to be painted\n",
    "- `sqft_per_gallon` = number of square feet that you can cover with one gallon of paint\n",
    "- `cost_per_gallon` = cost (in dollars) of one gallon of paint\n",
    "\n",
    "It should return the cost (in dollars) of putting one coat of paint on all walls and the ceiling.  Assume you can buy the exact amount of paint that you need, so you can buy partial gallons (e.g., if you need 7.523 gallons, you can buy that exact amount, instead of needing to buy 8 gallons and waste some paint).  Do not round your answer."
   ]
  },
  {
   "cell_type": "code",
   "execution_count": 6,
   "id": "a3e48cb6",
   "metadata": {
    "execution": {
     "iopub.execute_input": "2023-08-02T02:35:18.998487Z",
     "iopub.status.busy": "2023-08-02T02:35:18.997994Z",
     "iopub.status.idle": "2023-08-02T02:35:19.009659Z",
     "shell.execute_reply": "2023-08-02T02:35:19.008158Z"
    },
    "papermill": {
     "duration": 0.026394,
     "end_time": "2023-08-02T02:35:19.012518",
     "exception": false,
     "start_time": "2023-08-02T02:35:18.986124",
     "status": "completed"
    },
    "tags": []
   },
   "outputs": [
    {
     "data": {
      "application/javascript": [
       "parent.postMessage({\"jupyterEvent\": \"custom.exercise_interaction\", \"data\": {\"outcomeType\": 2, \"failureMessage\": \"Expected return value of `21.599999999999998` given `sqft_walls=432`, `sqft_ceiling=144`, `sqft_per_gallon=400`, `cost_per_gallon=15`, but got `<learntools.core.constants.PlaceholderValue object at 0x79eaa0e3f6a0>` instead.\", \"interactionType\": 1, \"questionType\": 2, \"questionId\": \"3_GetCostPaint\", \"learnToolsVersion\": \"0.3.4\", \"valueTowardsCompletion\": 0.0, \"exceptionClass\": \"\", \"trace\": \"\"}}, \"*\")"
      ],
      "text/plain": [
       "<IPython.core.display.Javascript object>"
      ]
     },
     "metadata": {},
     "output_type": "display_data"
    },
    {
     "data": {
      "text/markdown": [
       "<span style=\"color:#cc3333\">Incorrect:</span> Expected return value of `21.599999999999998` given `sqft_walls=432`, `sqft_ceiling=144`, `sqft_per_gallon=400`, `cost_per_gallon=15`, but got `<learntools.core.constants.PlaceholderValue object at 0x79eaa0e3f6a0>` instead."
      ],
      "text/plain": [
       "Incorrect: Expected return value of `21.599999999999998` given `sqft_walls=432`, `sqft_ceiling=144`, `sqft_per_gallon=400`, `cost_per_gallon=15`, but got `<learntools.core.constants.PlaceholderValue object at 0x79eaa0e3f6a0>` instead."
      ]
     },
     "metadata": {},
     "output_type": "display_data"
    }
   ],
   "source": [
    "# TODO: Finish defining the function\n",
    "def get_cost(sqft_walls, sqft_ceiling, sqft_per_gallon, cost_per_gallon):\n",
    "    cost = ____\n",
    "    return cost\n",
    "\n",
    "# Check your answer\n",
    "q3.check()"
   ]
  },
  {
   "cell_type": "code",
   "execution_count": 7,
   "id": "7d653ac3",
   "metadata": {
    "execution": {
     "iopub.execute_input": "2023-08-02T02:35:19.036158Z",
     "iopub.status.busy": "2023-08-02T02:35:19.035662Z",
     "iopub.status.idle": "2023-08-02T02:35:19.041149Z",
     "shell.execute_reply": "2023-08-02T02:35:19.039749Z"
    },
    "papermill": {
     "duration": 0.020347,
     "end_time": "2023-08-02T02:35:19.043718",
     "exception": false,
     "start_time": "2023-08-02T02:35:19.023371",
     "status": "completed"
    },
    "tags": []
   },
   "outputs": [],
   "source": [
    "# Uncomment to see a hint\n",
    "#q3.hint()\n",
    "\n",
    "# Uncomment to view the solution\n",
    "#q3.solution()"
   ]
  },
  {
   "cell_type": "markdown",
   "id": "5eb7e2f5",
   "metadata": {
    "papermill": {
     "duration": 0.010087,
     "end_time": "2023-08-02T02:35:19.064348",
     "exception": false,
     "start_time": "2023-08-02T02:35:19.054261",
     "status": "completed"
    },
    "tags": []
   },
   "source": [
    "# Question 4\n",
    "\n",
    "Use the `get_cost()` function you defined in Question 3 to calculate the cost of applying one coat of paint to a room with:\n",
    "- 432 square feet of walls, and\n",
    "- 144 square feet of ceiling.\n",
    "\n",
    "Assume that one gallon of paint covers 400 square feet and costs $15.  As in Question 3, assume you can buy partial gallons of paint.  Do not round your answer."
   ]
  },
  {
   "cell_type": "code",
   "execution_count": 8,
   "id": "c633fc34",
   "metadata": {
    "execution": {
     "iopub.execute_input": "2023-08-02T02:35:19.087893Z",
     "iopub.status.busy": "2023-08-02T02:35:19.087435Z",
     "iopub.status.idle": "2023-08-02T02:35:19.098503Z",
     "shell.execute_reply": "2023-08-02T02:35:19.097203Z"
    },
    "papermill": {
     "duration": 0.026559,
     "end_time": "2023-08-02T02:35:19.101617",
     "exception": false,
     "start_time": "2023-08-02T02:35:19.075058",
     "status": "completed"
    },
    "tags": []
   },
   "outputs": [
    {
     "data": {
      "application/javascript": [
       "parent.postMessage({\"jupyterEvent\": \"custom.exercise_interaction\", \"data\": {\"outcomeType\": 4, \"interactionType\": 1, \"questionType\": 1, \"questionId\": \"4_GetCostPaintExample\", \"learnToolsVersion\": \"0.3.4\", \"valueTowardsCompletion\": 0.0, \"failureMessage\": \"\", \"exceptionClass\": \"\", \"trace\": \"\"}}, \"*\")"
      ],
      "text/plain": [
       "<IPython.core.display.Javascript object>"
      ]
     },
     "metadata": {},
     "output_type": "display_data"
    },
    {
     "data": {
      "text/markdown": [
       "<span style=\"color:#ccaa33\">Check:</span> When you've updated the starter code, `check()` will tell you whether your code is correct. You need to update the code that creates variable `project_cost`"
      ],
      "text/plain": [
       "Check: When you've updated the starter code, `check()` will tell you whether your code is correct. You need to update the code that creates variable `project_cost`"
      ]
     },
     "metadata": {},
     "output_type": "display_data"
    }
   ],
   "source": [
    "# TODO: Set the project_cost variable to the cost of the project\n",
    "project_cost = ____\n",
    "\n",
    "# Check your answer\n",
    "q4.check()"
   ]
  },
  {
   "cell_type": "code",
   "execution_count": 9,
   "id": "a4b835d9",
   "metadata": {
    "execution": {
     "iopub.execute_input": "2023-08-02T02:35:19.127228Z",
     "iopub.status.busy": "2023-08-02T02:35:19.126751Z",
     "iopub.status.idle": "2023-08-02T02:35:19.132276Z",
     "shell.execute_reply": "2023-08-02T02:35:19.130871Z"
    },
    "papermill": {
     "duration": 0.021494,
     "end_time": "2023-08-02T02:35:19.135367",
     "exception": false,
     "start_time": "2023-08-02T02:35:19.113873",
     "status": "completed"
    },
    "tags": []
   },
   "outputs": [],
   "source": [
    "# Uncomment to see a hint\n",
    "#q4.hint()\n",
    "\n",
    "# Uncomment to view the solution\n",
    "#q4.solution()"
   ]
  },
  {
   "cell_type": "markdown",
   "id": "e08fe91c",
   "metadata": {
    "papermill": {
     "duration": 0.012259,
     "end_time": "2023-08-02T02:35:19.160992",
     "exception": false,
     "start_time": "2023-08-02T02:35:19.148733",
     "status": "completed"
    },
    "tags": []
   },
   "source": [
    "# 🌶️ Question 5\n",
    "\n",
    "Now say you can no longer buy fractions of a gallon.  (For instance, if you need 4.3 gallons to do a project, then you have to buy 5 gallons of paint.)\n",
    "\n",
    "With this new scenario, you will create a new function `get_actual_cost` that uses the same inputs and calculates the cost of your project.\n",
    "\n",
    "One function that you'll need to use to do this is `math.ceil()`.  We demonstrate usage of this function in the code cell below.  It takes as a number as input and rounds the number up to the nearest integer.  \n",
    "\n",
    "Run the next code cell to test this function for yourself.  Feel free to change the value of `test_value` and make sure `math.ceil()` returns the number you expect."
   ]
  },
  {
   "cell_type": "code",
   "execution_count": 10,
   "id": "cd7f2650",
   "metadata": {
    "execution": {
     "iopub.execute_input": "2023-08-02T02:35:19.186079Z",
     "iopub.status.busy": "2023-08-02T02:35:19.185650Z",
     "iopub.status.idle": "2023-08-02T02:35:19.192099Z",
     "shell.execute_reply": "2023-08-02T02:35:19.190798Z"
    },
    "papermill": {
     "duration": 0.022658,
     "end_time": "2023-08-02T02:35:19.195151",
     "exception": false,
     "start_time": "2023-08-02T02:35:19.172493",
     "status": "completed"
    },
    "tags": []
   },
   "outputs": [
    {
     "name": "stdout",
     "output_type": "stream",
     "text": [
      "3\n"
     ]
    }
   ],
   "source": [
    "test_value = 2.17\n",
    "\n",
    "rounded_value = math.ceil(test_value)\n",
    "print(rounded_value)"
   ]
  },
  {
   "cell_type": "markdown",
   "id": "6928e751",
   "metadata": {
    "papermill": {
     "duration": 0.011242,
     "end_time": "2023-08-02T02:35:19.218853",
     "exception": false,
     "start_time": "2023-08-02T02:35:19.207611",
     "status": "completed"
    },
    "tags": []
   },
   "source": [
    "Use the next code cell to define the function `get_actual_cost()`.  You'll need to use the `math.ceil()` function to do this.\n",
    "\n",
    "When answering this question, note that it's completely valid to define a function that makes use of another function.  For instance, we can define a function `round_up_and_divide_by_three` that makes use of the `math.ceil` function:\n",
    "```\n",
    "def round_up_and_divide_by_three(num):\n",
    "    new_value = math.ceil(num)\n",
    "    final_value = new_value / 3\n",
    "    return final_value\n",
    "```"
   ]
  },
  {
   "cell_type": "code",
   "execution_count": 11,
   "id": "748d9f06",
   "metadata": {
    "execution": {
     "iopub.execute_input": "2023-08-02T02:35:19.244324Z",
     "iopub.status.busy": "2023-08-02T02:35:19.243849Z",
     "iopub.status.idle": "2023-08-02T02:35:19.254238Z",
     "shell.execute_reply": "2023-08-02T02:35:19.253214Z"
    },
    "papermill": {
     "duration": 0.025697,
     "end_time": "2023-08-02T02:35:19.256673",
     "exception": false,
     "start_time": "2023-08-02T02:35:19.230976",
     "status": "completed"
    },
    "tags": []
   },
   "outputs": [
    {
     "data": {
      "application/javascript": [
       "parent.postMessage({\"jupyterEvent\": \"custom.exercise_interaction\", \"data\": {\"outcomeType\": 2, \"failureMessage\": \"Expected return value of `30` given `sqft_walls=432`, `sqft_ceiling=144`, `sqft_per_gallon=400`, `cost_per_gallon=15`, but got `<learntools.core.constants.PlaceholderValue object at 0x79eaa0e3f6a0>` instead.\", \"interactionType\": 1, \"questionType\": 2, \"questionId\": \"5_NoMoreFractions\", \"learnToolsVersion\": \"0.3.4\", \"valueTowardsCompletion\": 0.0, \"exceptionClass\": \"\", \"trace\": \"\"}}, \"*\")"
      ],
      "text/plain": [
       "<IPython.core.display.Javascript object>"
      ]
     },
     "metadata": {},
     "output_type": "display_data"
    },
    {
     "data": {
      "text/markdown": [
       "<span style=\"color:#cc3333\">Incorrect:</span> Expected return value of `30` given `sqft_walls=432`, `sqft_ceiling=144`, `sqft_per_gallon=400`, `cost_per_gallon=15`, but got `<learntools.core.constants.PlaceholderValue object at 0x79eaa0e3f6a0>` instead."
      ],
      "text/plain": [
       "Incorrect: Expected return value of `30` given `sqft_walls=432`, `sqft_ceiling=144`, `sqft_per_gallon=400`, `cost_per_gallon=15`, but got `<learntools.core.constants.PlaceholderValue object at 0x79eaa0e3f6a0>` instead."
      ]
     },
     "metadata": {},
     "output_type": "display_data"
    }
   ],
   "source": [
    "def get_actual_cost(sqft_walls, sqft_ceiling, sqft_per_gallon, cost_per_gallon):\n",
    "    cost = ____\n",
    "    return cost\n",
    "\n",
    "# Check your answer\n",
    "q5.check()"
   ]
  },
  {
   "cell_type": "code",
   "execution_count": 12,
   "id": "9fa8eb91",
   "metadata": {
    "execution": {
     "iopub.execute_input": "2023-08-02T02:35:19.282300Z",
     "iopub.status.busy": "2023-08-02T02:35:19.281655Z",
     "iopub.status.idle": "2023-08-02T02:35:19.287423Z",
     "shell.execute_reply": "2023-08-02T02:35:19.286122Z"
    },
    "papermill": {
     "duration": 0.021488,
     "end_time": "2023-08-02T02:35:19.289877",
     "exception": false,
     "start_time": "2023-08-02T02:35:19.268389",
     "status": "completed"
    },
    "tags": []
   },
   "outputs": [],
   "source": [
    "# Uncomment to see a hint\n",
    "#q5.hint()\n",
    "\n",
    "# Uncomment to view the solution\n",
    "#q5.solution()"
   ]
  },
  {
   "cell_type": "markdown",
   "id": "bfbeb94c",
   "metadata": {
    "papermill": {
     "duration": 0.010902,
     "end_time": "2023-08-02T02:35:19.312147",
     "exception": false,
     "start_time": "2023-08-02T02:35:19.301245",
     "status": "completed"
    },
    "tags": []
   },
   "source": [
    "Once your function is verified as correct, run the next code cell to calculate the updated cost of your project."
   ]
  },
  {
   "cell_type": "code",
   "execution_count": 13,
   "id": "e997ea44",
   "metadata": {
    "execution": {
     "iopub.execute_input": "2023-08-02T02:35:19.336615Z",
     "iopub.status.busy": "2023-08-02T02:35:19.336224Z",
     "iopub.status.idle": "2023-08-02T02:35:19.344390Z",
     "shell.execute_reply": "2023-08-02T02:35:19.342934Z"
    },
    "papermill": {
     "duration": 0.023999,
     "end_time": "2023-08-02T02:35:19.347306",
     "exception": false,
     "start_time": "2023-08-02T02:35:19.323307",
     "status": "completed"
    },
    "tags": []
   },
   "outputs": [
    {
     "data": {
      "text/markdown": [],
      "text/plain": [
       "<learntools.core.constants.PlaceholderValue at 0x79eaa0e3f6a0>"
      ]
     },
     "execution_count": 13,
     "metadata": {},
     "output_type": "execute_result"
    }
   ],
   "source": [
    "get_actual_cost(432, 144, 400, 15) "
   ]
  },
  {
   "cell_type": "markdown",
   "id": "e3e50a91",
   "metadata": {
    "papermill": {
     "duration": 0.01117,
     "end_time": "2023-08-02T02:35:19.369979",
     "exception": false,
     "start_time": "2023-08-02T02:35:19.358809",
     "status": "completed"
    },
    "tags": []
   },
   "source": [
    "Say you're working with a slightly larger room.  Run the next code cell to calculate the cost of the project."
   ]
  },
  {
   "cell_type": "code",
   "execution_count": 14,
   "id": "3cce930a",
   "metadata": {
    "execution": {
     "iopub.execute_input": "2023-08-02T02:35:19.394459Z",
     "iopub.status.busy": "2023-08-02T02:35:19.394048Z",
     "iopub.status.idle": "2023-08-02T02:35:19.402025Z",
     "shell.execute_reply": "2023-08-02T02:35:19.400831Z"
    },
    "papermill": {
     "duration": 0.023335,
     "end_time": "2023-08-02T02:35:19.404474",
     "exception": false,
     "start_time": "2023-08-02T02:35:19.381139",
     "status": "completed"
    },
    "tags": []
   },
   "outputs": [
    {
     "data": {
      "text/markdown": [],
      "text/plain": [
       "<learntools.core.constants.PlaceholderValue at 0x79eaa0e3f6a0>"
      ]
     },
     "execution_count": 14,
     "metadata": {},
     "output_type": "execute_result"
    }
   ],
   "source": [
    "get_actual_cost(594, 288, 400, 15) "
   ]
  },
  {
   "cell_type": "markdown",
   "id": "dac6bd58",
   "metadata": {
    "papermill": {
     "duration": 0.010943,
     "end_time": "2023-08-02T02:35:19.426771",
     "exception": false,
     "start_time": "2023-08-02T02:35:19.415828",
     "status": "completed"
    },
    "tags": []
   },
   "source": [
    "# Keep going\n",
    "\n",
    "Continue to learn about **[data types](https://www.kaggle.com/alexisbcook/data-types)**."
   ]
  },
  {
   "cell_type": "markdown",
   "id": "9dac2d8e",
   "metadata": {
    "papermill": {
     "duration": 0.010867,
     "end_time": "2023-08-02T02:35:19.449022",
     "exception": false,
     "start_time": "2023-08-02T02:35:19.438155",
     "status": "completed"
    },
    "tags": []
   },
   "source": [
    "---\n",
    "\n",
    "\n",
    "\n",
    "\n",
    "*Have questions or comments? Visit the [course discussion forum](https://www.kaggle.com/learn/intro-to-programming/discussion) to chat with other learners.*"
   ]
  }
 ],
 "metadata": {
  "kernelspec": {
   "display_name": "Python 3",
   "language": "python",
   "name": "python3"
  },
  "language_info": {
   "codemirror_mode": {
    "name": "ipython",
    "version": 3
   },
   "file_extension": ".py",
   "mimetype": "text/x-python",
   "name": "python",
   "nbconvert_exporter": "python",
   "pygments_lexer": "ipython3",
   "version": "3.10.12"
  },
  "papermill": {
   "default_parameters": {},
   "duration": 15.045591,
   "end_time": "2023-08-02T02:35:20.484876",
   "environment_variables": {},
   "exception": null,
   "input_path": "__notebook__.ipynb",
   "output_path": "__notebook__.ipynb",
   "parameters": {},
   "start_time": "2023-08-02T02:35:05.439285",
   "version": "2.4.0"
  }
 },
 "nbformat": 4,
 "nbformat_minor": 5
}
