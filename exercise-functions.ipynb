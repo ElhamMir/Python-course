{
 "cells": [
  {
   "cell_type": "markdown",
   "id": "b1a8ca3d",
   "metadata": {
    "papermill": {
     "duration": 0.008901,
     "end_time": "2023-08-02T03:28:13.399449",
     "exception": false,
     "start_time": "2023-08-02T03:28:13.390548",
     "status": "completed"
    },
    "tags": []
   },
   "source": [
    "**This notebook is an exercise in the [Intro to Programming](https://www.kaggle.com/learn/intro-to-programming) course.  You can reference the tutorial at [this link](https://www.kaggle.com/alexisbcook/functions).**\n",
    "\n",
    "---\n"
   ]
  },
  {
   "cell_type": "markdown",
   "id": "bce319a4",
   "metadata": {
    "papermill": {
     "duration": 0.008277,
     "end_time": "2023-08-02T03:28:13.416695",
     "exception": false,
     "start_time": "2023-08-02T03:28:13.408418",
     "status": "completed"
    },
    "tags": []
   },
   "source": [
    "In the tutorial, you learned about functions. In this exercise, you'll write some of your own!\n",
    "\n",
    "# Set up the notebook\n",
    "\n",
    "Run the next code cell without changes to set up the notebook."
   ]
  },
  {
   "cell_type": "code",
   "execution_count": 1,
   "id": "bb6cba41",
   "metadata": {
    "execution": {
     "iopub.execute_input": "2023-08-02T03:28:13.435395Z",
     "iopub.status.busy": "2023-08-02T03:28:13.434503Z",
     "iopub.status.idle": "2023-08-02T03:28:13.484947Z",
     "shell.execute_reply": "2023-08-02T03:28:13.483284Z"
    },
    "papermill": {
     "duration": 0.062917,
     "end_time": "2023-08-02T03:28:13.487648",
     "exception": false,
     "start_time": "2023-08-02T03:28:13.424731",
     "status": "completed"
    },
    "tags": []
   },
   "outputs": [
    {
     "name": "stdout",
     "output_type": "stream",
     "text": [
      "Setup complete.\n"
     ]
    }
   ],
   "source": [
    "# Set up the exercise\n",
    "import math\n",
    "from learntools.core import binder\n",
    "binder.bind(globals())\n",
    "from learntools.intro_to_programming.ex2 import *\n",
    "print('Setup complete.')"
   ]
  },
  {
   "cell_type": "markdown",
   "id": "b348c91a",
   "metadata": {
    "papermill": {
     "duration": 0.007971,
     "end_time": "2023-08-02T03:28:13.503992",
     "exception": false,
     "start_time": "2023-08-02T03:28:13.496021",
     "status": "completed"
    },
    "tags": []
   },
   "source": [
    "# Question 1\n",
    "\n",
    "In the [House Prices - Advanced Regression Techniques competition](https://www.kaggle.com/c/house-prices-advanced-regression-techniques/overview), you need to use information like the number of bedrooms and bathrooms to predict the price of a house.  Inspired by this competition, you'll write your own function to do this.\n",
    "\n",
    "In the next code cell, create a function `get_expected_cost()` that has two arguments:\n",
    "- `beds` - number of bedrooms \n",
    "- `baths` - number of bathrooms\n",
    "\n",
    "It should return the expected cost of a house with that number of bedrooms and bathrooms.  Assume that:\n",
    "- the expected cost for a house with 0 bedrooms and 0 bathrooms is `80000`.  \n",
    "- each bedroom adds `30000` to the expected cost\n",
    "- each bathroom adds `10000` to the expected cost.\n",
    "\n",
    "For instance, \n",
    "- a house with 1 bedroom and 1 bathroom has an expected cost of `120000`, and \n",
    "- a house with 2 bedrooms and 1 bathroom has an expected cost of `150000`."
   ]
  },
  {
   "cell_type": "code",
   "execution_count": 2,
   "id": "a06f03d2",
   "metadata": {
    "execution": {
     "iopub.execute_input": "2023-08-02T03:28:13.522391Z",
     "iopub.status.busy": "2023-08-02T03:28:13.521649Z",
     "iopub.status.idle": "2023-08-02T03:28:13.535268Z",
     "shell.execute_reply": "2023-08-02T03:28:13.534148Z"
    },
    "papermill": {
     "duration": 0.025453,
     "end_time": "2023-08-02T03:28:13.537575",
     "exception": false,
     "start_time": "2023-08-02T03:28:13.512122",
     "status": "completed"
    },
    "tags": []
   },
   "outputs": [
    {
     "name": "stdout",
     "output_type": "stream",
     "text": [
      "80000\n",
      "90000\n"
     ]
    },
    {
     "data": {
      "application/javascript": [
       "parent.postMessage({\"jupyterEvent\": \"custom.exercise_interaction\", \"data\": {\"outcomeType\": 1, \"valueTowardsCompletion\": 0.2, \"interactionType\": 1, \"questionType\": 2, \"questionId\": \"1_GetExpectedCost\", \"learnToolsVersion\": \"0.3.4\", \"failureMessage\": \"\", \"exceptionClass\": \"\", \"trace\": \"\"}}, \"*\")"
      ],
      "text/plain": [
       "<IPython.core.display.Javascript object>"
      ]
     },
     "metadata": {},
     "output_type": "display_data"
    },
    {
     "data": {
      "text/markdown": [
       "<span style=\"color:#33cc33\">Correct</span>"
      ],
      "text/plain": [
       "Correct"
      ]
     },
     "metadata": {},
     "output_type": "display_data"
    }
   ],
   "source": [
    "# TODO: Complete the function\n",
    "def get_expected_cost(beds, baths):\n",
    "    if(beds==0):\n",
    "        if(baths==0):\n",
    "            return 80000\n",
    "    #bedroom=3000\n",
    "    #bathroom=1000\n",
    "    house=80000\n",
    "    return (beds*30000)+ (baths*10000)+house \n",
    "    #return value\n",
    "\n",
    "print(get_expected_cost(0,0))   \n",
    "print(get_expected_cost(0,1))  \n",
    "# Check your answer \n",
    "q1.check()"
   ]
  },
  {
   "cell_type": "code",
   "execution_count": null,
   "id": "78019e6c",
   "metadata": {
    "papermill": {
     "duration": 0.008354,
     "end_time": "2023-08-02T03:28:13.554590",
     "exception": false,
     "start_time": "2023-08-02T03:28:13.546236",
     "status": "completed"
    },
    "tags": []
   },
   "outputs": [],
   "source": []
  },
  {
   "cell_type": "code",
   "execution_count": 3,
   "id": "cfeb0106",
   "metadata": {
    "execution": {
     "iopub.execute_input": "2023-08-02T03:28:13.573927Z",
     "iopub.status.busy": "2023-08-02T03:28:13.573181Z",
     "iopub.status.idle": "2023-08-02T03:28:13.585868Z",
     "shell.execute_reply": "2023-08-02T03:28:13.584934Z"
    },
    "papermill": {
     "duration": 0.024555,
     "end_time": "2023-08-02T03:28:13.587863",
     "exception": false,
     "start_time": "2023-08-02T03:28:13.563308",
     "status": "completed"
    },
    "tags": []
   },
   "outputs": [
    {
     "data": {
      "application/javascript": [
       "parent.postMessage({\"jupyterEvent\": \"custom.exercise_interaction\", \"data\": {\"interactionType\": 2, \"questionType\": 2, \"questionId\": \"1_GetExpectedCost\", \"learnToolsVersion\": \"0.3.4\", \"valueTowardsCompletion\": 0.0, \"failureMessage\": \"\", \"exceptionClass\": \"\", \"trace\": \"\", \"outcomeType\": 4}}, \"*\")"
      ],
      "text/plain": [
       "<IPython.core.display.Javascript object>"
      ]
     },
     "metadata": {},
     "output_type": "display_data"
    },
    {
     "data": {
      "text/markdown": [
       "<span style=\"color:#3366cc\">Hint:</span> The value should be the base cost (`80000`), plus the total cost of the bedrooms (`30000 * beds`), plus the total cost of the bathrooms (`10000 * baths`)."
      ],
      "text/plain": [
       "Hint: The value should be the base cost (`80000`), plus the total cost of the bedrooms (`30000 * beds`), plus the total cost of the bathrooms (`10000 * baths`)."
      ]
     },
     "metadata": {},
     "output_type": "display_data"
    },
    {
     "data": {
      "application/javascript": [
       "parent.postMessage({\"jupyterEvent\": \"custom.exercise_interaction\", \"data\": {\"interactionType\": 3, \"questionType\": 2, \"questionId\": \"1_GetExpectedCost\", \"learnToolsVersion\": \"0.3.4\", \"valueTowardsCompletion\": 0.0, \"failureMessage\": \"\", \"exceptionClass\": \"\", \"trace\": \"\", \"outcomeType\": 4}}, \"*\")"
      ],
      "text/plain": [
       "<IPython.core.display.Javascript object>"
      ]
     },
     "metadata": {},
     "output_type": "display_data"
    },
    {
     "data": {
      "text/markdown": [
       "<span style=\"color:#33cc99\">Solution:</span> \n",
       "```python\n",
       "\n",
       "def get_expected_cost(beds, baths):\n",
       "    value = 80000 + 30000 * beds + 10000 * baths\n",
       "    return value\n",
       "\n",
       "```"
      ],
      "text/plain": [
       "Solution: \n",
       "```python\n",
       "\n",
       "def get_expected_cost(beds, baths):\n",
       "    value = 80000 + 30000 * beds + 10000 * baths\n",
       "    return value\n",
       "\n",
       "```"
      ]
     },
     "metadata": {},
     "output_type": "display_data"
    }
   ],
   "source": [
    "# Uncomment to see a hint\n",
    "q1.hint()\n",
    "\n",
    "#Uncomment to view the solution\n",
    "q1.solution()"
   ]
  },
  {
   "cell_type": "code",
   "execution_count": null,
   "id": "cd0c8377",
   "metadata": {
    "papermill": {
     "duration": 0.008873,
     "end_time": "2023-08-02T03:28:13.607183",
     "exception": false,
     "start_time": "2023-08-02T03:28:13.598310",
     "status": "completed"
    },
    "tags": []
   },
   "outputs": [],
   "source": []
  },
  {
   "cell_type": "markdown",
   "id": "cadc5e8a",
   "metadata": {
    "papermill": {
     "duration": 0.008833,
     "end_time": "2023-08-02T03:28:13.625343",
     "exception": false,
     "start_time": "2023-08-02T03:28:13.616510",
     "status": "completed"
    },
    "tags": []
   },
   "source": [
    "# Question 2\n",
    "\n",
    "You are thinking about buying a home and want to get an idea of how much you will spend, based on the number of bedrooms and bathrooms.  You are trying to decide between four different options:\n",
    "- Option 1: house with two bedrooms and three bathrooms\n",
    "- Option 2: house with three bedrooms and two bathrooms\n",
    "- Option 3: house with three bedrooms and three bathrooms\n",
    "- Option 4: house with three bedrooms and four bathrooms\n",
    "\n",
    "Use the `get_expected_cost()` function you defined in question 1 to set `option_1`, `option_2`, `option_3`, and `option_4` to the expected cost of each option."
   ]
  },
  {
   "cell_type": "code",
   "execution_count": 4,
   "id": "95e9a6fd",
   "metadata": {
    "execution": {
     "iopub.execute_input": "2023-08-02T03:28:13.645579Z",
     "iopub.status.busy": "2023-08-02T03:28:13.645194Z",
     "iopub.status.idle": "2023-08-02T03:28:13.656061Z",
     "shell.execute_reply": "2023-08-02T03:28:13.654994Z"
    },
    "papermill": {
     "duration": 0.023964,
     "end_time": "2023-08-02T03:28:13.658472",
     "exception": false,
     "start_time": "2023-08-02T03:28:13.634508",
     "status": "completed"
    },
    "tags": []
   },
   "outputs": [
    {
     "name": "stdout",
     "output_type": "stream",
     "text": [
      "170000\n",
      "190000\n",
      "200000\n",
      "210000\n"
     ]
    },
    {
     "data": {
      "application/javascript": [
       "parent.postMessage({\"jupyterEvent\": \"custom.exercise_interaction\", \"data\": {\"outcomeType\": 1, \"valueTowardsCompletion\": 0.2, \"interactionType\": 1, \"questionType\": 1, \"questionId\": \"2_RunGetExpectedCost\", \"learnToolsVersion\": \"0.3.4\", \"failureMessage\": \"\", \"exceptionClass\": \"\", \"trace\": \"\"}}, \"*\")"
      ],
      "text/plain": [
       "<IPython.core.display.Javascript object>"
      ]
     },
     "metadata": {},
     "output_type": "display_data"
    },
    {
     "data": {
      "text/markdown": [
       "<span style=\"color:#33cc33\">Correct</span>"
      ],
      "text/plain": [
       "Correct"
      ]
     },
     "metadata": {},
     "output_type": "display_data"
    }
   ],
   "source": [
    "# TODO: Use the get_expected_cost function to fill in each value\n",
    "option_one = 80000+(2*30000)+(3*10000)\n",
    "option_two = 80000+(3*30000)+(2*10000)\n",
    "option_three =80000+(3*30000)+(3*10000)\n",
    "option_four = 80000+(3*30000)+(4*10000)\n",
    "\n",
    "print(option_one)\n",
    "print(option_two)\n",
    "print(option_three)\n",
    "print(option_four)\n",
    "\n",
    "# Check your answer\n",
    "q2.check()"
   ]
  },
  {
   "cell_type": "code",
   "execution_count": 5,
   "id": "3165b089",
   "metadata": {
    "execution": {
     "iopub.execute_input": "2023-08-02T03:28:13.679844Z",
     "iopub.status.busy": "2023-08-02T03:28:13.679453Z",
     "iopub.status.idle": "2023-08-02T03:28:13.684263Z",
     "shell.execute_reply": "2023-08-02T03:28:13.683038Z"
    },
    "papermill": {
     "duration": 0.0183,
     "end_time": "2023-08-02T03:28:13.686394",
     "exception": false,
     "start_time": "2023-08-02T03:28:13.668094",
     "status": "completed"
    },
    "tags": []
   },
   "outputs": [],
   "source": [
    "# Uncomment to see a hint\n",
    "#q2.hint()\n",
    "\n",
    "# Uncomment to view the solution\n",
    "#q2.solution()"
   ]
  },
  {
   "cell_type": "markdown",
   "id": "d17d5ec2",
   "metadata": {
    "papermill": {
     "duration": 0.009467,
     "end_time": "2023-08-02T03:28:13.705807",
     "exception": false,
     "start_time": "2023-08-02T03:28:13.696340",
     "status": "completed"
    },
    "tags": []
   },
   "source": [
    "# Question 3\n",
    "\n",
    "You're a home decorator, and you'd like to use Python to streamline some of your work.  Specifically, you're creating a tool that you intend to use to calculate the cost of painting a room.\n",
    "\n",
    "As a first step, define a function `get_cost()` that takes as input:\n",
    "- `sqft_walls` = total square feet of walls to be painted\n",
    "- `sqft_ceiling` = square feet of ceiling to be painted\n",
    "- `sqft_per_gallon` = number of square feet that you can cover with one gallon of paint\n",
    "- `cost_per_gallon` = cost (in dollars) of one gallon of paint\n",
    "\n",
    "It should return the cost (in dollars) of putting one coat of paint on all walls and the ceiling.  Assume you can buy the exact amount of paint that you need, so you can buy partial gallons (e.g., if you need 7.523 gallons, you can buy that exact amount, instead of needing to buy 8 gallons and waste some paint).  Do not round your answer."
   ]
  },
  {
   "cell_type": "code",
   "execution_count": 6,
   "id": "89105679",
   "metadata": {
    "execution": {
     "iopub.execute_input": "2023-08-02T03:28:13.727200Z",
     "iopub.status.busy": "2023-08-02T03:28:13.726730Z",
     "iopub.status.idle": "2023-08-02T03:28:13.736398Z",
     "shell.execute_reply": "2023-08-02T03:28:13.735293Z"
    },
    "papermill": {
     "duration": 0.023078,
     "end_time": "2023-08-02T03:28:13.738672",
     "exception": false,
     "start_time": "2023-08-02T03:28:13.715594",
     "status": "completed"
    },
    "tags": []
   },
   "outputs": [
    {
     "data": {
      "application/javascript": [
       "parent.postMessage({\"jupyterEvent\": \"custom.exercise_interaction\", \"data\": {\"outcomeType\": 1, \"valueTowardsCompletion\": 0.2, \"interactionType\": 1, \"questionType\": 2, \"questionId\": \"3_GetCostPaint\", \"learnToolsVersion\": \"0.3.4\", \"failureMessage\": \"\", \"exceptionClass\": \"\", \"trace\": \"\"}}, \"*\")"
      ],
      "text/plain": [
       "<IPython.core.display.Javascript object>"
      ]
     },
     "metadata": {},
     "output_type": "display_data"
    },
    {
     "data": {
      "text/markdown": [
       "<span style=\"color:#33cc33\">Correct</span>"
      ],
      "text/plain": [
       "Correct"
      ]
     },
     "metadata": {},
     "output_type": "display_data"
    }
   ],
   "source": [
    "# TODO: Finish defining the function\n",
    "def get_cost(sqft_walls, sqft_ceiling, sqft_per_gallon, cost_per_gallon):\n",
    "    cost =((sqft_walls+sqft_ceiling)/sqft_per_gallon)*cost_per_gallon\n",
    "    return cost\n",
    "\n",
    "# Check your answer\n",
    "q3.check()"
   ]
  },
  {
   "cell_type": "code",
   "execution_count": 7,
   "id": "b842a661",
   "metadata": {
    "execution": {
     "iopub.execute_input": "2023-08-02T03:28:13.760886Z",
     "iopub.status.busy": "2023-08-02T03:28:13.760511Z",
     "iopub.status.idle": "2023-08-02T03:28:13.765193Z",
     "shell.execute_reply": "2023-08-02T03:28:13.763916Z"
    },
    "papermill": {
     "duration": 0.018731,
     "end_time": "2023-08-02T03:28:13.767648",
     "exception": false,
     "start_time": "2023-08-02T03:28:13.748917",
     "status": "completed"
    },
    "tags": []
   },
   "outputs": [],
   "source": [
    "# Uncomment to see a hint\n",
    "#q3.hint()\n",
    "\n",
    "# Uncomment to view the solution\n",
    "#q3.solution()"
   ]
  },
  {
   "cell_type": "markdown",
   "id": "a1d6943b",
   "metadata": {
    "papermill": {
     "duration": 0.009894,
     "end_time": "2023-08-02T03:28:13.787709",
     "exception": false,
     "start_time": "2023-08-02T03:28:13.777815",
     "status": "completed"
    },
    "tags": []
   },
   "source": [
    "# Question 4\n",
    "\n",
    "Use the `get_cost()` function you defined in Question 3 to calculate the cost of applying one coat of paint to a room with:\n",
    "- 432 square feet of walls, and\n",
    "- 144 square feet of ceiling.\n",
    "\n",
    "Assume that one gallon of paint covers 400 square feet and costs $15.  As in Question 3, assume you can buy partial gallons of paint.  Do not round your answer."
   ]
  },
  {
   "cell_type": "code",
   "execution_count": 8,
   "id": "aaeea6f2",
   "metadata": {
    "execution": {
     "iopub.execute_input": "2023-08-02T03:28:13.810295Z",
     "iopub.status.busy": "2023-08-02T03:28:13.809849Z",
     "iopub.status.idle": "2023-08-02T03:28:13.819030Z",
     "shell.execute_reply": "2023-08-02T03:28:13.817871Z"
    },
    "papermill": {
     "duration": 0.023613,
     "end_time": "2023-08-02T03:28:13.821704",
     "exception": false,
     "start_time": "2023-08-02T03:28:13.798091",
     "status": "completed"
    },
    "tags": []
   },
   "outputs": [
    {
     "data": {
      "application/javascript": [
       "parent.postMessage({\"jupyterEvent\": \"custom.exercise_interaction\", \"data\": {\"outcomeType\": 1, \"valueTowardsCompletion\": 0.2, \"interactionType\": 1, \"questionType\": 1, \"questionId\": \"4_GetCostPaintExample\", \"learnToolsVersion\": \"0.3.4\", \"failureMessage\": \"\", \"exceptionClass\": \"\", \"trace\": \"\"}}, \"*\")"
      ],
      "text/plain": [
       "<IPython.core.display.Javascript object>"
      ]
     },
     "metadata": {},
     "output_type": "display_data"
    },
    {
     "data": {
      "text/markdown": [
       "<span style=\"color:#33cc33\">Correct</span>"
      ],
      "text/plain": [
       "Correct"
      ]
     },
     "metadata": {},
     "output_type": "display_data"
    }
   ],
   "source": [
    "# TODO: Set the project_cost variable to the cost of the project\n",
    "project_cost =(432+144)/400*15\n",
    "\n",
    "# Check your answer\n",
    "q4.check()"
   ]
  },
  {
   "cell_type": "code",
   "execution_count": 9,
   "id": "cbf79122",
   "metadata": {
    "execution": {
     "iopub.execute_input": "2023-08-02T03:28:13.845187Z",
     "iopub.status.busy": "2023-08-02T03:28:13.844770Z",
     "iopub.status.idle": "2023-08-02T03:28:13.849594Z",
     "shell.execute_reply": "2023-08-02T03:28:13.848391Z"
    },
    "papermill": {
     "duration": 0.019651,
     "end_time": "2023-08-02T03:28:13.852003",
     "exception": false,
     "start_time": "2023-08-02T03:28:13.832352",
     "status": "completed"
    },
    "tags": []
   },
   "outputs": [],
   "source": [
    "# Uncomment to see a hint\n",
    "#q4.hint()\n",
    "\n",
    "# Uncomment to view the solution\n",
    "#q4.solution()"
   ]
  },
  {
   "cell_type": "markdown",
   "id": "25f0ec69",
   "metadata": {
    "papermill": {
     "duration": 0.0109,
     "end_time": "2023-08-02T03:28:13.873656",
     "exception": false,
     "start_time": "2023-08-02T03:28:13.862756",
     "status": "completed"
    },
    "tags": []
   },
   "source": [
    "# 🌶️ Question 5\n",
    "\n",
    "Now say you can no longer buy fractions of a gallon.  (For instance, if you need 4.3 gallons to do a project, then you have to buy 5 gallons of paint.)\n",
    "\n",
    "With this new scenario, you will create a new function `get_actual_cost` that uses the same inputs and calculates the cost of your project.\n",
    "\n",
    "One function that you'll need to use to do this is `math.ceil()`.  We demonstrate usage of this function in the code cell below.  It takes as a number as input and rounds the number up to the nearest integer.  \n",
    "\n",
    "Run the next code cell to test this function for yourself.  Feel free to change the value of `test_value` and make sure `math.ceil()` returns the number you expect."
   ]
  },
  {
   "cell_type": "code",
   "execution_count": 10,
   "id": "fcab16d8",
   "metadata": {
    "execution": {
     "iopub.execute_input": "2023-08-02T03:28:13.896802Z",
     "iopub.status.busy": "2023-08-02T03:28:13.896398Z",
     "iopub.status.idle": "2023-08-02T03:28:13.903000Z",
     "shell.execute_reply": "2023-08-02T03:28:13.901300Z"
    },
    "papermill": {
     "duration": 0.020796,
     "end_time": "2023-08-02T03:28:13.905292",
     "exception": false,
     "start_time": "2023-08-02T03:28:13.884496",
     "status": "completed"
    },
    "tags": []
   },
   "outputs": [
    {
     "name": "stdout",
     "output_type": "stream",
     "text": [
      "3\n"
     ]
    }
   ],
   "source": [
    "test_value = 2.17\n",
    "\n",
    "rounded_value = math.ceil(test_value)\n",
    "print(rounded_value)"
   ]
  },
  {
   "cell_type": "markdown",
   "id": "ff6e699e",
   "metadata": {
    "papermill": {
     "duration": 0.010372,
     "end_time": "2023-08-02T03:28:13.926398",
     "exception": false,
     "start_time": "2023-08-02T03:28:13.916026",
     "status": "completed"
    },
    "tags": []
   },
   "source": [
    "Use the next code cell to define the function `get_actual_cost()`.  You'll need to use the `math.ceil()` function to do this.\n",
    "\n",
    "When answering this question, note that it's completely valid to define a function that makes use of another function.  For instance, we can define a function `round_up_and_divide_by_three` that makes use of the `math.ceil` function:\n",
    "```\n",
    "def round_up_and_divide_by_three(num):\n",
    "    new_value = math.ceil(num)\n",
    "    final_value = new_value / 3\n",
    "    return final_value\n",
    "```"
   ]
  },
  {
   "cell_type": "code",
   "execution_count": 11,
   "id": "0503be1f",
   "metadata": {
    "execution": {
     "iopub.execute_input": "2023-08-02T03:28:13.949291Z",
     "iopub.status.busy": "2023-08-02T03:28:13.948859Z",
     "iopub.status.idle": "2023-08-02T03:28:13.959360Z",
     "shell.execute_reply": "2023-08-02T03:28:13.958191Z"
    },
    "papermill": {
     "duration": 0.024826,
     "end_time": "2023-08-02T03:28:13.961714",
     "exception": false,
     "start_time": "2023-08-02T03:28:13.936888",
     "status": "completed"
    },
    "tags": []
   },
   "outputs": [
    {
     "data": {
      "application/javascript": [
       "parent.postMessage({\"jupyterEvent\": \"custom.exercise_interaction\", \"data\": {\"outcomeType\": 2, \"failureMessage\": \"Expected return value of `30` given `sqft_walls=432`, `sqft_ceiling=144`, `sqft_per_gallon=400`, `cost_per_gallon=15`, but got `<learntools.core.constants.PlaceholderValue object at 0x77fdc10f54e0>` instead.\", \"interactionType\": 1, \"questionType\": 2, \"questionId\": \"5_NoMoreFractions\", \"learnToolsVersion\": \"0.3.4\", \"valueTowardsCompletion\": 0.0, \"exceptionClass\": \"\", \"trace\": \"\"}}, \"*\")"
      ],
      "text/plain": [
       "<IPython.core.display.Javascript object>"
      ]
     },
     "metadata": {},
     "output_type": "display_data"
    },
    {
     "data": {
      "text/markdown": [
       "<span style=\"color:#cc3333\">Incorrect:</span> Expected return value of `30` given `sqft_walls=432`, `sqft_ceiling=144`, `sqft_per_gallon=400`, `cost_per_gallon=15`, but got `<learntools.core.constants.PlaceholderValue object at 0x77fdc10f54e0>` instead."
      ],
      "text/plain": [
       "Incorrect: Expected return value of `30` given `sqft_walls=432`, `sqft_ceiling=144`, `sqft_per_gallon=400`, `cost_per_gallon=15`, but got `<learntools.core.constants.PlaceholderValue object at 0x77fdc10f54e0>` instead."
      ]
     },
     "metadata": {},
     "output_type": "display_data"
    }
   ],
   "source": [
    "def get_actual_cost(sqft_walls, sqft_ceiling, sqft_per_gallon, cost_per_gallon):\n",
    "    cost = ____\n",
    "    return cost\n",
    "\n",
    "# Check your answer\n",
    "q5.check()"
   ]
  },
  {
   "cell_type": "code",
   "execution_count": 12,
   "id": "e5576b1f",
   "metadata": {
    "execution": {
     "iopub.execute_input": "2023-08-02T03:28:13.986070Z",
     "iopub.status.busy": "2023-08-02T03:28:13.985678Z",
     "iopub.status.idle": "2023-08-02T03:28:13.990106Z",
     "shell.execute_reply": "2023-08-02T03:28:13.988949Z"
    },
    "papermill": {
     "duration": 0.019738,
     "end_time": "2023-08-02T03:28:13.992618",
     "exception": false,
     "start_time": "2023-08-02T03:28:13.972880",
     "status": "completed"
    },
    "tags": []
   },
   "outputs": [],
   "source": [
    "# Uncomment to see a hint\n",
    "#q5.hint()\n",
    "\n",
    "# Uncomment to view the solution\n",
    "#q5.solution()"
   ]
  },
  {
   "cell_type": "markdown",
   "id": "e42066bb",
   "metadata": {
    "papermill": {
     "duration": 0.010934,
     "end_time": "2023-08-02T03:28:14.015444",
     "exception": false,
     "start_time": "2023-08-02T03:28:14.004510",
     "status": "completed"
    },
    "tags": []
   },
   "source": [
    "Once your function is verified as correct, run the next code cell to calculate the updated cost of your project."
   ]
  },
  {
   "cell_type": "code",
   "execution_count": 13,
   "id": "1920dbbb",
   "metadata": {
    "execution": {
     "iopub.execute_input": "2023-08-02T03:28:14.039867Z",
     "iopub.status.busy": "2023-08-02T03:28:14.039479Z",
     "iopub.status.idle": "2023-08-02T03:28:14.046811Z",
     "shell.execute_reply": "2023-08-02T03:28:14.045528Z"
    },
    "papermill": {
     "duration": 0.022626,
     "end_time": "2023-08-02T03:28:14.049347",
     "exception": false,
     "start_time": "2023-08-02T03:28:14.026721",
     "status": "completed"
    },
    "tags": []
   },
   "outputs": [
    {
     "data": {
      "text/markdown": [],
      "text/plain": [
       "<learntools.core.constants.PlaceholderValue at 0x77fdc10f54e0>"
      ]
     },
     "execution_count": 13,
     "metadata": {},
     "output_type": "execute_result"
    }
   ],
   "source": [
    "get_actual_cost(432, 144, 400, 15) "
   ]
  },
  {
   "cell_type": "markdown",
   "id": "61e7de44",
   "metadata": {
    "papermill": {
     "duration": 0.010937,
     "end_time": "2023-08-02T03:28:14.072311",
     "exception": false,
     "start_time": "2023-08-02T03:28:14.061374",
     "status": "completed"
    },
    "tags": []
   },
   "source": [
    "Say you're working with a slightly larger room.  Run the next code cell to calculate the cost of the project."
   ]
  },
  {
   "cell_type": "code",
   "execution_count": 14,
   "id": "df692098",
   "metadata": {
    "execution": {
     "iopub.execute_input": "2023-08-02T03:28:14.097089Z",
     "iopub.status.busy": "2023-08-02T03:28:14.096700Z",
     "iopub.status.idle": "2023-08-02T03:28:14.102980Z",
     "shell.execute_reply": "2023-08-02T03:28:14.102121Z"
    },
    "papermill": {
     "duration": 0.021241,
     "end_time": "2023-08-02T03:28:14.105130",
     "exception": false,
     "start_time": "2023-08-02T03:28:14.083889",
     "status": "completed"
    },
    "tags": []
   },
   "outputs": [
    {
     "data": {
      "text/markdown": [],
      "text/plain": [
       "<learntools.core.constants.PlaceholderValue at 0x77fdc10f54e0>"
      ]
     },
     "execution_count": 14,
     "metadata": {},
     "output_type": "execute_result"
    }
   ],
   "source": [
    "get_actual_cost(594, 288, 400, 15) "
   ]
  },
  {
   "cell_type": "markdown",
   "id": "04ad803e",
   "metadata": {
    "papermill": {
     "duration": 0.011319,
     "end_time": "2023-08-02T03:28:14.128647",
     "exception": false,
     "start_time": "2023-08-02T03:28:14.117328",
     "status": "completed"
    },
    "tags": []
   },
   "source": [
    "# Keep going\n",
    "\n",
    "Continue to learn about **[data types](https://www.kaggle.com/alexisbcook/data-types)**."
   ]
  },
  {
   "cell_type": "markdown",
   "id": "e36fdf1d",
   "metadata": {
    "papermill": {
     "duration": 0.011179,
     "end_time": "2023-08-02T03:28:14.151570",
     "exception": false,
     "start_time": "2023-08-02T03:28:14.140391",
     "status": "completed"
    },
    "tags": []
   },
   "source": [
    "---\n",
    "\n",
    "\n",
    "\n",
    "\n",
    "*Have questions or comments? Visit the [course discussion forum](https://www.kaggle.com/learn/intro-to-programming/discussion) to chat with other learners.*"
   ]
  }
 ],
 "metadata": {
  "kernelspec": {
   "display_name": "Python 3",
   "language": "python",
   "name": "python3"
  },
  "language_info": {
   "codemirror_mode": {
    "name": "ipython",
    "version": 3
   },
   "file_extension": ".py",
   "mimetype": "text/x-python",
   "name": "python",
   "nbconvert_exporter": "python",
   "pygments_lexer": "ipython3",
   "version": "3.10.12"
  },
  "papermill": {
   "default_parameters": {},
   "duration": 13.872978,
   "end_time": "2023-08-02T03:28:15.086319",
   "environment_variables": {},
   "exception": null,
   "input_path": "__notebook__.ipynb",
   "output_path": "__notebook__.ipynb",
   "parameters": {},
   "start_time": "2023-08-02T03:28:01.213341",
   "version": "2.4.0"
  }
 },
 "nbformat": 4,
 "nbformat_minor": 5
}
