{
 "cells": [
  {
   "cell_type": "markdown",
   "id": "497ffce2",
   "metadata": {
    "papermill": {
     "duration": 0.006864,
     "end_time": "2023-08-02T03:08:17.596469",
     "exception": false,
     "start_time": "2023-08-02T03:08:17.589605",
     "status": "completed"
    },
    "tags": []
   },
   "source": [
    "**This notebook is an exercise in the [Intro to Programming](https://www.kaggle.com/learn/intro-to-programming) course.  You can reference the tutorial at [this link](https://www.kaggle.com/alexisbcook/functions).**\n",
    "\n",
    "---\n"
   ]
  },
  {
   "cell_type": "markdown",
   "id": "4242b0e6",
   "metadata": {
    "papermill": {
     "duration": 0.005971,
     "end_time": "2023-08-02T03:08:17.608950",
     "exception": false,
     "start_time": "2023-08-02T03:08:17.602979",
     "status": "completed"
    },
    "tags": []
   },
   "source": [
    "In the tutorial, you learned about functions. In this exercise, you'll write some of your own!\n",
    "\n",
    "# Set up the notebook\n",
    "\n",
    "Run the next code cell without changes to set up the notebook."
   ]
  },
  {
   "cell_type": "code",
   "execution_count": 1,
   "id": "513c0e30",
   "metadata": {
    "execution": {
     "iopub.execute_input": "2023-08-02T03:08:17.624602Z",
     "iopub.status.busy": "2023-08-02T03:08:17.623939Z",
     "iopub.status.idle": "2023-08-02T03:08:17.686281Z",
     "shell.execute_reply": "2023-08-02T03:08:17.684983Z"
    },
    "papermill": {
     "duration": 0.074192,
     "end_time": "2023-08-02T03:08:17.689409",
     "exception": false,
     "start_time": "2023-08-02T03:08:17.615217",
     "status": "completed"
    },
    "tags": []
   },
   "outputs": [
    {
     "name": "stdout",
     "output_type": "stream",
     "text": [
      "Setup complete.\n"
     ]
    }
   ],
   "source": [
    "# Set up the exercise\n",
    "import math\n",
    "from learntools.core import binder\n",
    "binder.bind(globals())\n",
    "from learntools.intro_to_programming.ex2 import *\n",
    "print('Setup complete.')"
   ]
  },
  {
   "cell_type": "markdown",
   "id": "5da33ebe",
   "metadata": {
    "papermill": {
     "duration": 0.006016,
     "end_time": "2023-08-02T03:08:17.702022",
     "exception": false,
     "start_time": "2023-08-02T03:08:17.696006",
     "status": "completed"
    },
    "tags": []
   },
   "source": [
    "# Question 1\n",
    "\n",
    "In the [House Prices - Advanced Regression Techniques competition](https://www.kaggle.com/c/house-prices-advanced-regression-techniques/overview), you need to use information like the number of bedrooms and bathrooms to predict the price of a house.  Inspired by this competition, you'll write your own function to do this.\n",
    "\n",
    "In the next code cell, create a function `get_expected_cost()` that has two arguments:\n",
    "- `beds` - number of bedrooms \n",
    "- `baths` - number of bathrooms\n",
    "\n",
    "It should return the expected cost of a house with that number of bedrooms and bathrooms.  Assume that:\n",
    "- the expected cost for a house with 0 bedrooms and 0 bathrooms is `80000`.  \n",
    "- each bedroom adds `30000` to the expected cost\n",
    "- each bathroom adds `10000` to the expected cost.\n",
    "\n",
    "For instance, \n",
    "- a house with 1 bedroom and 1 bathroom has an expected cost of `120000`, and \n",
    "- a house with 2 bedrooms and 1 bathroom has an expected cost of `150000`."
   ]
  },
  {
   "cell_type": "code",
   "execution_count": 2,
   "id": "50f6f304",
   "metadata": {
    "execution": {
     "iopub.execute_input": "2023-08-02T03:08:17.717694Z",
     "iopub.status.busy": "2023-08-02T03:08:17.717226Z",
     "iopub.status.idle": "2023-08-02T03:08:17.731235Z",
     "shell.execute_reply": "2023-08-02T03:08:17.730298Z"
    },
    "papermill": {
     "duration": 0.024985,
     "end_time": "2023-08-02T03:08:17.733798",
     "exception": false,
     "start_time": "2023-08-02T03:08:17.708813",
     "status": "completed"
    },
    "tags": []
   },
   "outputs": [
    {
     "name": "stdout",
     "output_type": "stream",
     "text": [
      "80000\n",
      "90000\n"
     ]
    },
    {
     "data": {
      "application/javascript": [
       "parent.postMessage({\"jupyterEvent\": \"custom.exercise_interaction\", \"data\": {\"outcomeType\": 1, \"valueTowardsCompletion\": 0.2, \"interactionType\": 1, \"questionType\": 2, \"questionId\": \"1_GetExpectedCost\", \"learnToolsVersion\": \"0.3.4\", \"failureMessage\": \"\", \"exceptionClass\": \"\", \"trace\": \"\"}}, \"*\")"
      ],
      "text/plain": [
       "<IPython.core.display.Javascript object>"
      ]
     },
     "metadata": {},
     "output_type": "display_data"
    },
    {
     "data": {
      "text/markdown": [
       "<span style=\"color:#33cc33\">Correct</span>"
      ],
      "text/plain": [
       "Correct"
      ]
     },
     "metadata": {},
     "output_type": "display_data"
    }
   ],
   "source": [
    "# TODO: Complete the function\n",
    "def get_expected_cost(beds, baths):\n",
    "    if(beds==0):\n",
    "        if(baths==0):\n",
    "            return 80000\n",
    "    #bedroom=3000\n",
    "    #bathroom=1000\n",
    "    house=80000\n",
    "    return (beds*30000)+ (baths*10000)+house \n",
    "    #return value\n",
    "\n",
    "print(get_expected_cost(0,0))   \n",
    "print(get_expected_cost(0,1))  \n",
    "# Check your answer \n",
    "q1.check()"
   ]
  },
  {
   "cell_type": "code",
   "execution_count": null,
   "id": "c26a9fc0",
   "metadata": {
    "papermill": {
     "duration": 0.00659,
     "end_time": "2023-08-02T03:08:17.748017",
     "exception": false,
     "start_time": "2023-08-02T03:08:17.741427",
     "status": "completed"
    },
    "tags": []
   },
   "outputs": [],
   "source": []
  },
  {
   "cell_type": "code",
   "execution_count": 3,
   "id": "c67553da",
   "metadata": {
    "execution": {
     "iopub.execute_input": "2023-08-02T03:08:17.763693Z",
     "iopub.status.busy": "2023-08-02T03:08:17.763200Z",
     "iopub.status.idle": "2023-08-02T03:08:17.777368Z",
     "shell.execute_reply": "2023-08-02T03:08:17.776106Z"
    },
    "papermill": {
     "duration": 0.024843,
     "end_time": "2023-08-02T03:08:17.779743",
     "exception": false,
     "start_time": "2023-08-02T03:08:17.754900",
     "status": "completed"
    },
    "tags": []
   },
   "outputs": [
    {
     "data": {
      "application/javascript": [
       "parent.postMessage({\"jupyterEvent\": \"custom.exercise_interaction\", \"data\": {\"interactionType\": 2, \"questionType\": 2, \"questionId\": \"1_GetExpectedCost\", \"learnToolsVersion\": \"0.3.4\", \"valueTowardsCompletion\": 0.0, \"failureMessage\": \"\", \"exceptionClass\": \"\", \"trace\": \"\", \"outcomeType\": 4}}, \"*\")"
      ],
      "text/plain": [
       "<IPython.core.display.Javascript object>"
      ]
     },
     "metadata": {},
     "output_type": "display_data"
    },
    {
     "data": {
      "text/markdown": [
       "<span style=\"color:#3366cc\">Hint:</span> The value should be the base cost (`80000`), plus the total cost of the bedrooms (`30000 * beds`), plus the total cost of the bathrooms (`10000 * baths`)."
      ],
      "text/plain": [
       "Hint: The value should be the base cost (`80000`), plus the total cost of the bedrooms (`30000 * beds`), plus the total cost of the bathrooms (`10000 * baths`)."
      ]
     },
     "metadata": {},
     "output_type": "display_data"
    },
    {
     "data": {
      "application/javascript": [
       "parent.postMessage({\"jupyterEvent\": \"custom.exercise_interaction\", \"data\": {\"interactionType\": 3, \"questionType\": 2, \"questionId\": \"1_GetExpectedCost\", \"learnToolsVersion\": \"0.3.4\", \"valueTowardsCompletion\": 0.0, \"failureMessage\": \"\", \"exceptionClass\": \"\", \"trace\": \"\", \"outcomeType\": 4}}, \"*\")"
      ],
      "text/plain": [
       "<IPython.core.display.Javascript object>"
      ]
     },
     "metadata": {},
     "output_type": "display_data"
    },
    {
     "data": {
      "text/markdown": [
       "<span style=\"color:#33cc99\">Solution:</span> \n",
       "```python\n",
       "\n",
       "def get_expected_cost(beds, baths):\n",
       "    value = 80000 + 30000 * beds + 10000 * baths\n",
       "    return value\n",
       "\n",
       "```"
      ],
      "text/plain": [
       "Solution: \n",
       "```python\n",
       "\n",
       "def get_expected_cost(beds, baths):\n",
       "    value = 80000 + 30000 * beds + 10000 * baths\n",
       "    return value\n",
       "\n",
       "```"
      ]
     },
     "metadata": {},
     "output_type": "display_data"
    }
   ],
   "source": [
    "# Uncomment to see a hint\n",
    "q1.hint()\n",
    "\n",
    "#Uncomment to view the solution\n",
    "q1.solution()"
   ]
  },
  {
   "cell_type": "code",
   "execution_count": null,
   "id": "4720b153",
   "metadata": {
    "papermill": {
     "duration": 0.006918,
     "end_time": "2023-08-02T03:08:17.795723",
     "exception": false,
     "start_time": "2023-08-02T03:08:17.788805",
     "status": "completed"
    },
    "tags": []
   },
   "outputs": [],
   "source": []
  },
  {
   "cell_type": "markdown",
   "id": "7ccd8992",
   "metadata": {
    "papermill": {
     "duration": 0.006687,
     "end_time": "2023-08-02T03:08:17.809695",
     "exception": false,
     "start_time": "2023-08-02T03:08:17.803008",
     "status": "completed"
    },
    "tags": []
   },
   "source": [
    "# Question 2\n",
    "\n",
    "You are thinking about buying a home and want to get an idea of how much you will spend, based on the number of bedrooms and bathrooms.  You are trying to decide between four different options:\n",
    "- Option 1: house with two bedrooms and three bathrooms\n",
    "- Option 2: house with three bedrooms and two bathrooms\n",
    "- Option 3: house with three bedrooms and three bathrooms\n",
    "- Option 4: house with three bedrooms and four bathrooms\n",
    "\n",
    "Use the `get_expected_cost()` function you defined in question 1 to set `option_1`, `option_2`, `option_3`, and `option_4` to the expected cost of each option."
   ]
  },
  {
   "cell_type": "code",
   "execution_count": 4,
   "id": "80e49653",
   "metadata": {
    "execution": {
     "iopub.execute_input": "2023-08-02T03:08:17.826405Z",
     "iopub.status.busy": "2023-08-02T03:08:17.825949Z",
     "iopub.status.idle": "2023-08-02T03:08:17.838455Z",
     "shell.execute_reply": "2023-08-02T03:08:17.837077Z"
    },
    "papermill": {
     "duration": 0.023906,
     "end_time": "2023-08-02T03:08:17.840817",
     "exception": false,
     "start_time": "2023-08-02T03:08:17.816911",
     "status": "completed"
    },
    "tags": []
   },
   "outputs": [
    {
     "name": "stdout",
     "output_type": "stream",
     "text": [
      "170000\n",
      "190000\n",
      "200000\n",
      "210000\n"
     ]
    },
    {
     "data": {
      "application/javascript": [
       "parent.postMessage({\"jupyterEvent\": \"custom.exercise_interaction\", \"data\": {\"outcomeType\": 1, \"valueTowardsCompletion\": 0.2, \"interactionType\": 1, \"questionType\": 1, \"questionId\": \"2_RunGetExpectedCost\", \"learnToolsVersion\": \"0.3.4\", \"failureMessage\": \"\", \"exceptionClass\": \"\", \"trace\": \"\"}}, \"*\")"
      ],
      "text/plain": [
       "<IPython.core.display.Javascript object>"
      ]
     },
     "metadata": {},
     "output_type": "display_data"
    },
    {
     "data": {
      "text/markdown": [
       "<span style=\"color:#33cc33\">Correct</span>"
      ],
      "text/plain": [
       "Correct"
      ]
     },
     "metadata": {},
     "output_type": "display_data"
    }
   ],
   "source": [
    "# TODO: Use the get_expected_cost function to fill in each value\n",
    "option_one = 80000+(2*30000)+(3*10000)\n",
    "option_two = 80000+(3*30000)+(2*10000)\n",
    "option_three =80000+(3*30000)+(3*10000)\n",
    "option_four = 80000+(3*30000)+(4*10000)\n",
    "\n",
    "print(option_one)\n",
    "print(option_two)\n",
    "print(option_three)\n",
    "print(option_four)\n",
    "\n",
    "# Check your answer\n",
    "q2.check()"
   ]
  },
  {
   "cell_type": "code",
   "execution_count": 5,
   "id": "0bf17f57",
   "metadata": {
    "execution": {
     "iopub.execute_input": "2023-08-02T03:08:17.857964Z",
     "iopub.status.busy": "2023-08-02T03:08:17.857475Z",
     "iopub.status.idle": "2023-08-02T03:08:17.862762Z",
     "shell.execute_reply": "2023-08-02T03:08:17.861550Z"
    },
    "papermill": {
     "duration": 0.016852,
     "end_time": "2023-08-02T03:08:17.865224",
     "exception": false,
     "start_time": "2023-08-02T03:08:17.848372",
     "status": "completed"
    },
    "tags": []
   },
   "outputs": [],
   "source": [
    "# Uncomment to see a hint\n",
    "#q2.hint()\n",
    "\n",
    "# Uncomment to view the solution\n",
    "#q2.solution()"
   ]
  },
  {
   "cell_type": "markdown",
   "id": "cddb3ab9",
   "metadata": {
    "papermill": {
     "duration": 0.007118,
     "end_time": "2023-08-02T03:08:17.880143",
     "exception": false,
     "start_time": "2023-08-02T03:08:17.873025",
     "status": "completed"
    },
    "tags": []
   },
   "source": [
    "# Question 3\n",
    "\n",
    "You're a home decorator, and you'd like to use Python to streamline some of your work.  Specifically, you're creating a tool that you intend to use to calculate the cost of painting a room.\n",
    "\n",
    "As a first step, define a function `get_cost()` that takes as input:\n",
    "- `sqft_walls` = total square feet of walls to be painted\n",
    "- `sqft_ceiling` = square feet of ceiling to be painted\n",
    "- `sqft_per_gallon` = number of square feet that you can cover with one gallon of paint\n",
    "- `cost_per_gallon` = cost (in dollars) of one gallon of paint\n",
    "\n",
    "It should return the cost (in dollars) of putting one coat of paint on all walls and the ceiling.  Assume you can buy the exact amount of paint that you need, so you can buy partial gallons (e.g., if you need 7.523 gallons, you can buy that exact amount, instead of needing to buy 8 gallons and waste some paint).  Do not round your answer."
   ]
  },
  {
   "cell_type": "code",
   "execution_count": 6,
   "id": "a150f56d",
   "metadata": {
    "execution": {
     "iopub.execute_input": "2023-08-02T03:08:17.897244Z",
     "iopub.status.busy": "2023-08-02T03:08:17.896721Z",
     "iopub.status.idle": "2023-08-02T03:08:17.906203Z",
     "shell.execute_reply": "2023-08-02T03:08:17.905069Z"
    },
    "papermill": {
     "duration": 0.020676,
     "end_time": "2023-08-02T03:08:17.908351",
     "exception": false,
     "start_time": "2023-08-02T03:08:17.887675",
     "status": "completed"
    },
    "tags": []
   },
   "outputs": [
    {
     "data": {
      "application/javascript": [
       "parent.postMessage({\"jupyterEvent\": \"custom.exercise_interaction\", \"data\": {\"outcomeType\": 1, \"valueTowardsCompletion\": 0.2, \"interactionType\": 1, \"questionType\": 2, \"questionId\": \"3_GetCostPaint\", \"learnToolsVersion\": \"0.3.4\", \"failureMessage\": \"\", \"exceptionClass\": \"\", \"trace\": \"\"}}, \"*\")"
      ],
      "text/plain": [
       "<IPython.core.display.Javascript object>"
      ]
     },
     "metadata": {},
     "output_type": "display_data"
    },
    {
     "data": {
      "text/markdown": [
       "<span style=\"color:#33cc33\">Correct</span>"
      ],
      "text/plain": [
       "Correct"
      ]
     },
     "metadata": {},
     "output_type": "display_data"
    }
   ],
   "source": [
    "# TODO: Finish defining the function\n",
    "def get_cost(sqft_walls, sqft_ceiling, sqft_per_gallon, cost_per_gallon):\n",
    "    cost =((sqft_walls+sqft_ceiling)/sqft_per_gallon)*cost_per_gallon\n",
    "    return cost\n",
    "\n",
    "# Check your answer\n",
    "q3.check()"
   ]
  },
  {
   "cell_type": "code",
   "execution_count": 7,
   "id": "ab22b960",
   "metadata": {
    "execution": {
     "iopub.execute_input": "2023-08-02T03:08:17.926167Z",
     "iopub.status.busy": "2023-08-02T03:08:17.925650Z",
     "iopub.status.idle": "2023-08-02T03:08:17.930773Z",
     "shell.execute_reply": "2023-08-02T03:08:17.929411Z"
    },
    "papermill": {
     "duration": 0.016878,
     "end_time": "2023-08-02T03:08:17.933075",
     "exception": false,
     "start_time": "2023-08-02T03:08:17.916197",
     "status": "completed"
    },
    "tags": []
   },
   "outputs": [],
   "source": [
    "# Uncomment to see a hint\n",
    "#q3.hint()\n",
    "\n",
    "# Uncomment to view the solution\n",
    "#q3.solution()"
   ]
  },
  {
   "cell_type": "markdown",
   "id": "3960d064",
   "metadata": {
    "papermill": {
     "duration": 0.007363,
     "end_time": "2023-08-02T03:08:17.948366",
     "exception": false,
     "start_time": "2023-08-02T03:08:17.941003",
     "status": "completed"
    },
    "tags": []
   },
   "source": [
    "# Question 4\n",
    "\n",
    "Use the `get_cost()` function you defined in Question 3 to calculate the cost of applying one coat of paint to a room with:\n",
    "- 432 square feet of walls, and\n",
    "- 144 square feet of ceiling.\n",
    "\n",
    "Assume that one gallon of paint covers 400 square feet and costs $15.  As in Question 3, assume you can buy partial gallons of paint.  Do not round your answer."
   ]
  },
  {
   "cell_type": "code",
   "execution_count": 8,
   "id": "928d2eee",
   "metadata": {
    "execution": {
     "iopub.execute_input": "2023-08-02T03:08:17.966192Z",
     "iopub.status.busy": "2023-08-02T03:08:17.965688Z",
     "iopub.status.idle": "2023-08-02T03:08:17.977135Z",
     "shell.execute_reply": "2023-08-02T03:08:17.975818Z"
    },
    "papermill": {
     "duration": 0.023352,
     "end_time": "2023-08-02T03:08:17.979708",
     "exception": false,
     "start_time": "2023-08-02T03:08:17.956356",
     "status": "completed"
    },
    "tags": []
   },
   "outputs": [
    {
     "data": {
      "application/javascript": [
       "parent.postMessage({\"jupyterEvent\": \"custom.exercise_interaction\", \"data\": {\"outcomeType\": 4, \"interactionType\": 1, \"questionType\": 1, \"questionId\": \"4_GetCostPaintExample\", \"learnToolsVersion\": \"0.3.4\", \"valueTowardsCompletion\": 0.0, \"failureMessage\": \"\", \"exceptionClass\": \"\", \"trace\": \"\"}}, \"*\")"
      ],
      "text/plain": [
       "<IPython.core.display.Javascript object>"
      ]
     },
     "metadata": {},
     "output_type": "display_data"
    },
    {
     "data": {
      "text/markdown": [
       "<span style=\"color:#ccaa33\">Check:</span> When you've updated the starter code, `check()` will tell you whether your code is correct. You need to update the code that creates variable `project_cost`"
      ],
      "text/plain": [
       "Check: When you've updated the starter code, `check()` will tell you whether your code is correct. You need to update the code that creates variable `project_cost`"
      ]
     },
     "metadata": {},
     "output_type": "display_data"
    }
   ],
   "source": [
    "# TODO: Set the project_cost variable to the cost of the project\n",
    "project_cost = ____\n",
    "\n",
    "# Check your answer\n",
    "q4.check()"
   ]
  },
  {
   "cell_type": "code",
   "execution_count": 9,
   "id": "acfa1785",
   "metadata": {
    "execution": {
     "iopub.execute_input": "2023-08-02T03:08:17.998196Z",
     "iopub.status.busy": "2023-08-02T03:08:17.997693Z",
     "iopub.status.idle": "2023-08-02T03:08:18.002489Z",
     "shell.execute_reply": "2023-08-02T03:08:18.001427Z"
    },
    "papermill": {
     "duration": 0.017253,
     "end_time": "2023-08-02T03:08:18.004997",
     "exception": false,
     "start_time": "2023-08-02T03:08:17.987744",
     "status": "completed"
    },
    "tags": []
   },
   "outputs": [],
   "source": [
    "# Uncomment to see a hint\n",
    "#q4.hint()\n",
    "\n",
    "# Uncomment to view the solution\n",
    "#q4.solution()"
   ]
  },
  {
   "cell_type": "markdown",
   "id": "0af37594",
   "metadata": {
    "papermill": {
     "duration": 0.007558,
     "end_time": "2023-08-02T03:08:18.020698",
     "exception": false,
     "start_time": "2023-08-02T03:08:18.013140",
     "status": "completed"
    },
    "tags": []
   },
   "source": [
    "# 🌶️ Question 5\n",
    "\n",
    "Now say you can no longer buy fractions of a gallon.  (For instance, if you need 4.3 gallons to do a project, then you have to buy 5 gallons of paint.)\n",
    "\n",
    "With this new scenario, you will create a new function `get_actual_cost` that uses the same inputs and calculates the cost of your project.\n",
    "\n",
    "One function that you'll need to use to do this is `math.ceil()`.  We demonstrate usage of this function in the code cell below.  It takes as a number as input and rounds the number up to the nearest integer.  \n",
    "\n",
    "Run the next code cell to test this function for yourself.  Feel free to change the value of `test_value` and make sure `math.ceil()` returns the number you expect."
   ]
  },
  {
   "cell_type": "code",
   "execution_count": 10,
   "id": "7130a39e",
   "metadata": {
    "execution": {
     "iopub.execute_input": "2023-08-02T03:08:18.041235Z",
     "iopub.status.busy": "2023-08-02T03:08:18.039888Z",
     "iopub.status.idle": "2023-08-02T03:08:18.046335Z",
     "shell.execute_reply": "2023-08-02T03:08:18.045206Z"
    },
    "papermill": {
     "duration": 0.018515,
     "end_time": "2023-08-02T03:08:18.048823",
     "exception": false,
     "start_time": "2023-08-02T03:08:18.030308",
     "status": "completed"
    },
    "tags": []
   },
   "outputs": [
    {
     "name": "stdout",
     "output_type": "stream",
     "text": [
      "3\n"
     ]
    }
   ],
   "source": [
    "test_value = 2.17\n",
    "\n",
    "rounded_value = math.ceil(test_value)\n",
    "print(rounded_value)"
   ]
  },
  {
   "cell_type": "markdown",
   "id": "c1858e73",
   "metadata": {
    "papermill": {
     "duration": 0.007888,
     "end_time": "2023-08-02T03:08:18.064823",
     "exception": false,
     "start_time": "2023-08-02T03:08:18.056935",
     "status": "completed"
    },
    "tags": []
   },
   "source": [
    "Use the next code cell to define the function `get_actual_cost()`.  You'll need to use the `math.ceil()` function to do this.\n",
    "\n",
    "When answering this question, note that it's completely valid to define a function that makes use of another function.  For instance, we can define a function `round_up_and_divide_by_three` that makes use of the `math.ceil` function:\n",
    "```\n",
    "def round_up_and_divide_by_three(num):\n",
    "    new_value = math.ceil(num)\n",
    "    final_value = new_value / 3\n",
    "    return final_value\n",
    "```"
   ]
  },
  {
   "cell_type": "code",
   "execution_count": 11,
   "id": "5f5c81d0",
   "metadata": {
    "execution": {
     "iopub.execute_input": "2023-08-02T03:08:18.082970Z",
     "iopub.status.busy": "2023-08-02T03:08:18.082473Z",
     "iopub.status.idle": "2023-08-02T03:08:18.093125Z",
     "shell.execute_reply": "2023-08-02T03:08:18.091808Z"
    },
    "papermill": {
     "duration": 0.022989,
     "end_time": "2023-08-02T03:08:18.095682",
     "exception": false,
     "start_time": "2023-08-02T03:08:18.072693",
     "status": "completed"
    },
    "tags": []
   },
   "outputs": [
    {
     "data": {
      "application/javascript": [
       "parent.postMessage({\"jupyterEvent\": \"custom.exercise_interaction\", \"data\": {\"outcomeType\": 2, \"failureMessage\": \"Expected return value of `30` given `sqft_walls=432`, `sqft_ceiling=144`, `sqft_per_gallon=400`, `cost_per_gallon=15`, but got `<learntools.core.constants.PlaceholderValue object at 0x7f0ef80ce230>` instead.\", \"interactionType\": 1, \"questionType\": 2, \"questionId\": \"5_NoMoreFractions\", \"learnToolsVersion\": \"0.3.4\", \"valueTowardsCompletion\": 0.0, \"exceptionClass\": \"\", \"trace\": \"\"}}, \"*\")"
      ],
      "text/plain": [
       "<IPython.core.display.Javascript object>"
      ]
     },
     "metadata": {},
     "output_type": "display_data"
    },
    {
     "data": {
      "text/markdown": [
       "<span style=\"color:#cc3333\">Incorrect:</span> Expected return value of `30` given `sqft_walls=432`, `sqft_ceiling=144`, `sqft_per_gallon=400`, `cost_per_gallon=15`, but got `<learntools.core.constants.PlaceholderValue object at 0x7f0ef80ce230>` instead."
      ],
      "text/plain": [
       "Incorrect: Expected return value of `30` given `sqft_walls=432`, `sqft_ceiling=144`, `sqft_per_gallon=400`, `cost_per_gallon=15`, but got `<learntools.core.constants.PlaceholderValue object at 0x7f0ef80ce230>` instead."
      ]
     },
     "metadata": {},
     "output_type": "display_data"
    }
   ],
   "source": [
    "def get_actual_cost(sqft_walls, sqft_ceiling, sqft_per_gallon, cost_per_gallon):\n",
    "    cost = ____\n",
    "    return cost\n",
    "\n",
    "# Check your answer\n",
    "q5.check()"
   ]
  },
  {
   "cell_type": "code",
   "execution_count": 12,
   "id": "33cb3f09",
   "metadata": {
    "execution": {
     "iopub.execute_input": "2023-08-02T03:08:18.115221Z",
     "iopub.status.busy": "2023-08-02T03:08:18.114732Z",
     "iopub.status.idle": "2023-08-02T03:08:18.119922Z",
     "shell.execute_reply": "2023-08-02T03:08:18.118416Z"
    },
    "papermill": {
     "duration": 0.017964,
     "end_time": "2023-08-02T03:08:18.122241",
     "exception": false,
     "start_time": "2023-08-02T03:08:18.104277",
     "status": "completed"
    },
    "tags": []
   },
   "outputs": [],
   "source": [
    "# Uncomment to see a hint\n",
    "#q5.hint()\n",
    "\n",
    "# Uncomment to view the solution\n",
    "#q5.solution()"
   ]
  },
  {
   "cell_type": "markdown",
   "id": "cd59a1a3",
   "metadata": {
    "papermill": {
     "duration": 0.008766,
     "end_time": "2023-08-02T03:08:18.139624",
     "exception": false,
     "start_time": "2023-08-02T03:08:18.130858",
     "status": "completed"
    },
    "tags": []
   },
   "source": [
    "Once your function is verified as correct, run the next code cell to calculate the updated cost of your project."
   ]
  },
  {
   "cell_type": "code",
   "execution_count": 13,
   "id": "2e93ca5b",
   "metadata": {
    "execution": {
     "iopub.execute_input": "2023-08-02T03:08:18.159047Z",
     "iopub.status.busy": "2023-08-02T03:08:18.158551Z",
     "iopub.status.idle": "2023-08-02T03:08:18.167480Z",
     "shell.execute_reply": "2023-08-02T03:08:18.165886Z"
    },
    "papermill": {
     "duration": 0.022126,
     "end_time": "2023-08-02T03:08:18.170168",
     "exception": false,
     "start_time": "2023-08-02T03:08:18.148042",
     "status": "completed"
    },
    "tags": []
   },
   "outputs": [
    {
     "data": {
      "text/markdown": [],
      "text/plain": [
       "<learntools.core.constants.PlaceholderValue at 0x7f0ef80ce230>"
      ]
     },
     "execution_count": 13,
     "metadata": {},
     "output_type": "execute_result"
    }
   ],
   "source": [
    "get_actual_cost(432, 144, 400, 15) "
   ]
  },
  {
   "cell_type": "markdown",
   "id": "2ec9d8ee",
   "metadata": {
    "papermill": {
     "duration": 0.00877,
     "end_time": "2023-08-02T03:08:18.187628",
     "exception": false,
     "start_time": "2023-08-02T03:08:18.178858",
     "status": "completed"
    },
    "tags": []
   },
   "source": [
    "Say you're working with a slightly larger room.  Run the next code cell to calculate the cost of the project."
   ]
  },
  {
   "cell_type": "code",
   "execution_count": 14,
   "id": "692184ec",
   "metadata": {
    "execution": {
     "iopub.execute_input": "2023-08-02T03:08:18.207675Z",
     "iopub.status.busy": "2023-08-02T03:08:18.207204Z",
     "iopub.status.idle": "2023-08-02T03:08:18.215202Z",
     "shell.execute_reply": "2023-08-02T03:08:18.213873Z"
    },
    "papermill": {
     "duration": 0.022072,
     "end_time": "2023-08-02T03:08:18.218175",
     "exception": false,
     "start_time": "2023-08-02T03:08:18.196103",
     "status": "completed"
    },
    "tags": []
   },
   "outputs": [
    {
     "data": {
      "text/markdown": [],
      "text/plain": [
       "<learntools.core.constants.PlaceholderValue at 0x7f0ef80ce230>"
      ]
     },
     "execution_count": 14,
     "metadata": {},
     "output_type": "execute_result"
    }
   ],
   "source": [
    "get_actual_cost(594, 288, 400, 15) "
   ]
  },
  {
   "cell_type": "markdown",
   "id": "67129212",
   "metadata": {
    "papermill": {
     "duration": 0.00842,
     "end_time": "2023-08-02T03:08:18.235837",
     "exception": false,
     "start_time": "2023-08-02T03:08:18.227417",
     "status": "completed"
    },
    "tags": []
   },
   "source": [
    "# Keep going\n",
    "\n",
    "Continue to learn about **[data types](https://www.kaggle.com/alexisbcook/data-types)**."
   ]
  },
  {
   "cell_type": "markdown",
   "id": "0c73ad69",
   "metadata": {
    "papermill": {
     "duration": 0.008311,
     "end_time": "2023-08-02T03:08:18.252938",
     "exception": false,
     "start_time": "2023-08-02T03:08:18.244627",
     "status": "completed"
    },
    "tags": []
   },
   "source": [
    "---\n",
    "\n",
    "\n",
    "\n",
    "\n",
    "*Have questions or comments? Visit the [course discussion forum](https://www.kaggle.com/learn/intro-to-programming/discussion) to chat with other learners.*"
   ]
  }
 ],
 "metadata": {
  "kernelspec": {
   "display_name": "Python 3",
   "language": "python",
   "name": "python3"
  },
  "language_info": {
   "codemirror_mode": {
    "name": "ipython",
    "version": 3
   },
   "file_extension": ".py",
   "mimetype": "text/x-python",
   "name": "python",
   "nbconvert_exporter": "python",
   "pygments_lexer": "ipython3",
   "version": "3.10.12"
  },
  "papermill": {
   "default_parameters": {},
   "duration": 13.07948,
   "end_time": "2023-08-02T03:08:19.288039",
   "environment_variables": {},
   "exception": null,
   "input_path": "__notebook__.ipynb",
   "output_path": "__notebook__.ipynb",
   "parameters": {},
   "start_time": "2023-08-02T03:08:06.208559",
   "version": "2.4.0"
  }
 },
 "nbformat": 4,
 "nbformat_minor": 5
}
