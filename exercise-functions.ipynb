{
 "cells": [
  {
   "cell_type": "markdown",
   "id": "9a008857",
   "metadata": {
    "papermill": {
     "duration": 0.006153,
     "end_time": "2023-08-02T02:56:23.454211",
     "exception": false,
     "start_time": "2023-08-02T02:56:23.448058",
     "status": "completed"
    },
    "tags": []
   },
   "source": [
    "**This notebook is an exercise in the [Intro to Programming](https://www.kaggle.com/learn/intro-to-programming) course.  You can reference the tutorial at [this link](https://www.kaggle.com/alexisbcook/functions).**\n",
    "\n",
    "---\n"
   ]
  },
  {
   "cell_type": "markdown",
   "id": "d2716a96",
   "metadata": {
    "papermill": {
     "duration": 0.00556,
     "end_time": "2023-08-02T02:56:23.465913",
     "exception": false,
     "start_time": "2023-08-02T02:56:23.460353",
     "status": "completed"
    },
    "tags": []
   },
   "source": [
    "In the tutorial, you learned about functions. In this exercise, you'll write some of your own!\n",
    "\n",
    "# Set up the notebook\n",
    "\n",
    "Run the next code cell without changes to set up the notebook."
   ]
  },
  {
   "cell_type": "code",
   "execution_count": 1,
   "id": "5fdd69ba",
   "metadata": {
    "execution": {
     "iopub.execute_input": "2023-08-02T02:56:23.480149Z",
     "iopub.status.busy": "2023-08-02T02:56:23.479186Z",
     "iopub.status.idle": "2023-08-02T02:56:23.529027Z",
     "shell.execute_reply": "2023-08-02T02:56:23.527829Z"
    },
    "papermill": {
     "duration": 0.059657,
     "end_time": "2023-08-02T02:56:23.531326",
     "exception": false,
     "start_time": "2023-08-02T02:56:23.471669",
     "status": "completed"
    },
    "tags": []
   },
   "outputs": [
    {
     "name": "stdout",
     "output_type": "stream",
     "text": [
      "Setup complete.\n"
     ]
    }
   ],
   "source": [
    "# Set up the exercise\n",
    "import math\n",
    "from learntools.core import binder\n",
    "binder.bind(globals())\n",
    "from learntools.intro_to_programming.ex2 import *\n",
    "print('Setup complete.')"
   ]
  },
  {
   "cell_type": "markdown",
   "id": "2f4bd891",
   "metadata": {
    "papermill": {
     "duration": 0.005611,
     "end_time": "2023-08-02T02:56:23.542983",
     "exception": false,
     "start_time": "2023-08-02T02:56:23.537372",
     "status": "completed"
    },
    "tags": []
   },
   "source": [
    "# Question 1\n",
    "\n",
    "In the [House Prices - Advanced Regression Techniques competition](https://www.kaggle.com/c/house-prices-advanced-regression-techniques/overview), you need to use information like the number of bedrooms and bathrooms to predict the price of a house.  Inspired by this competition, you'll write your own function to do this.\n",
    "\n",
    "In the next code cell, create a function `get_expected_cost()` that has two arguments:\n",
    "- `beds` - number of bedrooms \n",
    "- `baths` - number of bathrooms\n",
    "\n",
    "It should return the expected cost of a house with that number of bedrooms and bathrooms.  Assume that:\n",
    "- the expected cost for a house with 0 bedrooms and 0 bathrooms is `80000`.  \n",
    "- each bedroom adds `30000` to the expected cost\n",
    "- each bathroom adds `10000` to the expected cost.\n",
    "\n",
    "For instance, \n",
    "- a house with 1 bedroom and 1 bathroom has an expected cost of `120000`, and \n",
    "- a house with 2 bedrooms and 1 bathroom has an expected cost of `150000`."
   ]
  },
  {
   "cell_type": "code",
   "execution_count": 2,
   "id": "126dc979",
   "metadata": {
    "execution": {
     "iopub.execute_input": "2023-08-02T02:56:23.556788Z",
     "iopub.status.busy": "2023-08-02T02:56:23.556183Z",
     "iopub.status.idle": "2023-08-02T02:56:23.569018Z",
     "shell.execute_reply": "2023-08-02T02:56:23.567906Z"
    },
    "papermill": {
     "duration": 0.022358,
     "end_time": "2023-08-02T02:56:23.571143",
     "exception": false,
     "start_time": "2023-08-02T02:56:23.548785",
     "status": "completed"
    },
    "tags": []
   },
   "outputs": [
    {
     "name": "stdout",
     "output_type": "stream",
     "text": [
      "80000\n",
      "90000\n"
     ]
    },
    {
     "data": {
      "application/javascript": [
       "parent.postMessage({\"jupyterEvent\": \"custom.exercise_interaction\", \"data\": {\"outcomeType\": 1, \"valueTowardsCompletion\": 0.2, \"interactionType\": 1, \"questionType\": 2, \"questionId\": \"1_GetExpectedCost\", \"learnToolsVersion\": \"0.3.4\", \"failureMessage\": \"\", \"exceptionClass\": \"\", \"trace\": \"\"}}, \"*\")"
      ],
      "text/plain": [
       "<IPython.core.display.Javascript object>"
      ]
     },
     "metadata": {},
     "output_type": "display_data"
    },
    {
     "data": {
      "text/markdown": [
       "<span style=\"color:#33cc33\">Correct</span>"
      ],
      "text/plain": [
       "Correct"
      ]
     },
     "metadata": {},
     "output_type": "display_data"
    }
   ],
   "source": [
    "# TODO: Complete the function\n",
    "def get_expected_cost(beds, baths):\n",
    "    if(beds==0):\n",
    "        if(baths==0):\n",
    "            return 80000\n",
    "    #bedroom=3000\n",
    "    #bathroom=1000\n",
    "    house=80000\n",
    "    return (beds*30000)+ (baths*10000)+house \n",
    "    #return value\n",
    "\n",
    "print(get_expected_cost(0,0))   \n",
    "print(get_expected_cost(0,1))  \n",
    "# Check your answer \n",
    "q1.check()"
   ]
  },
  {
   "cell_type": "code",
   "execution_count": null,
   "id": "97431d75",
   "metadata": {
    "papermill": {
     "duration": 0.005846,
     "end_time": "2023-08-02T02:56:23.583121",
     "exception": false,
     "start_time": "2023-08-02T02:56:23.577275",
     "status": "completed"
    },
    "tags": []
   },
   "outputs": [],
   "source": []
  },
  {
   "cell_type": "code",
   "execution_count": 3,
   "id": "6eb74ff5",
   "metadata": {
    "execution": {
     "iopub.execute_input": "2023-08-02T02:56:23.597327Z",
     "iopub.status.busy": "2023-08-02T02:56:23.596710Z",
     "iopub.status.idle": "2023-08-02T02:56:23.608696Z",
     "shell.execute_reply": "2023-08-02T02:56:23.607886Z"
    },
    "papermill": {
     "duration": 0.021452,
     "end_time": "2023-08-02T02:56:23.610702",
     "exception": false,
     "start_time": "2023-08-02T02:56:23.589250",
     "status": "completed"
    },
    "tags": []
   },
   "outputs": [
    {
     "data": {
      "application/javascript": [
       "parent.postMessage({\"jupyterEvent\": \"custom.exercise_interaction\", \"data\": {\"interactionType\": 2, \"questionType\": 2, \"questionId\": \"1_GetExpectedCost\", \"learnToolsVersion\": \"0.3.4\", \"valueTowardsCompletion\": 0.0, \"failureMessage\": \"\", \"exceptionClass\": \"\", \"trace\": \"\", \"outcomeType\": 4}}, \"*\")"
      ],
      "text/plain": [
       "<IPython.core.display.Javascript object>"
      ]
     },
     "metadata": {},
     "output_type": "display_data"
    },
    {
     "data": {
      "text/markdown": [
       "<span style=\"color:#3366cc\">Hint:</span> The value should be the base cost (`80000`), plus the total cost of the bedrooms (`30000 * beds`), plus the total cost of the bathrooms (`10000 * baths`)."
      ],
      "text/plain": [
       "Hint: The value should be the base cost (`80000`), plus the total cost of the bedrooms (`30000 * beds`), plus the total cost of the bathrooms (`10000 * baths`)."
      ]
     },
     "metadata": {},
     "output_type": "display_data"
    },
    {
     "data": {
      "application/javascript": [
       "parent.postMessage({\"jupyterEvent\": \"custom.exercise_interaction\", \"data\": {\"interactionType\": 3, \"questionType\": 2, \"questionId\": \"1_GetExpectedCost\", \"learnToolsVersion\": \"0.3.4\", \"valueTowardsCompletion\": 0.0, \"failureMessage\": \"\", \"exceptionClass\": \"\", \"trace\": \"\", \"outcomeType\": 4}}, \"*\")"
      ],
      "text/plain": [
       "<IPython.core.display.Javascript object>"
      ]
     },
     "metadata": {},
     "output_type": "display_data"
    },
    {
     "data": {
      "text/markdown": [
       "<span style=\"color:#33cc99\">Solution:</span> \n",
       "```python\n",
       "\n",
       "def get_expected_cost(beds, baths):\n",
       "    value = 80000 + 30000 * beds + 10000 * baths\n",
       "    return value\n",
       "\n",
       "```"
      ],
      "text/plain": [
       "Solution: \n",
       "```python\n",
       "\n",
       "def get_expected_cost(beds, baths):\n",
       "    value = 80000 + 30000 * beds + 10000 * baths\n",
       "    return value\n",
       "\n",
       "```"
      ]
     },
     "metadata": {},
     "output_type": "display_data"
    }
   ],
   "source": [
    "# Uncomment to see a hint\n",
    "q1.hint()\n",
    "\n",
    "#Uncomment to view the solution\n",
    "q1.solution()"
   ]
  },
  {
   "cell_type": "code",
   "execution_count": null,
   "id": "ecfbeb50",
   "metadata": {
    "papermill": {
     "duration": 0.006304,
     "end_time": "2023-08-02T02:56:23.624930",
     "exception": false,
     "start_time": "2023-08-02T02:56:23.618626",
     "status": "completed"
    },
    "tags": []
   },
   "outputs": [],
   "source": []
  },
  {
   "cell_type": "markdown",
   "id": "625f627c",
   "metadata": {
    "papermill": {
     "duration": 0.006492,
     "end_time": "2023-08-02T02:56:23.638613",
     "exception": false,
     "start_time": "2023-08-02T02:56:23.632121",
     "status": "completed"
    },
    "tags": []
   },
   "source": [
    "# Question 2\n",
    "\n",
    "You are thinking about buying a home and want to get an idea of how much you will spend, based on the number of bedrooms and bathrooms.  You are trying to decide between four different options:\n",
    "- Option 1: house with two bedrooms and three bathrooms\n",
    "- Option 2: house with three bedrooms and two bathrooms\n",
    "- Option 3: house with three bedrooms and three bathrooms\n",
    "- Option 4: house with three bedrooms and four bathrooms\n",
    "\n",
    "Use the `get_expected_cost()` function you defined in question 1 to set `option_1`, `option_2`, `option_3`, and `option_4` to the expected cost of each option."
   ]
  },
  {
   "cell_type": "code",
   "execution_count": 4,
   "id": "141204c9",
   "metadata": {
    "execution": {
     "iopub.execute_input": "2023-08-02T02:56:23.653992Z",
     "iopub.status.busy": "2023-08-02T02:56:23.653625Z",
     "iopub.status.idle": "2023-08-02T02:56:23.663607Z",
     "shell.execute_reply": "2023-08-02T02:56:23.662533Z"
    },
    "papermill": {
     "duration": 0.020153,
     "end_time": "2023-08-02T02:56:23.665889",
     "exception": false,
     "start_time": "2023-08-02T02:56:23.645736",
     "status": "completed"
    },
    "tags": []
   },
   "outputs": [
    {
     "name": "stdout",
     "output_type": "stream",
     "text": [
      "170000\n",
      "190000\n",
      "200000\n",
      "210000\n"
     ]
    },
    {
     "data": {
      "application/javascript": [
       "parent.postMessage({\"jupyterEvent\": \"custom.exercise_interaction\", \"data\": {\"outcomeType\": 1, \"valueTowardsCompletion\": 0.2, \"interactionType\": 1, \"questionType\": 1, \"questionId\": \"2_RunGetExpectedCost\", \"learnToolsVersion\": \"0.3.4\", \"failureMessage\": \"\", \"exceptionClass\": \"\", \"trace\": \"\"}}, \"*\")"
      ],
      "text/plain": [
       "<IPython.core.display.Javascript object>"
      ]
     },
     "metadata": {},
     "output_type": "display_data"
    },
    {
     "data": {
      "text/markdown": [
       "<span style=\"color:#33cc33\">Correct</span>"
      ],
      "text/plain": [
       "Correct"
      ]
     },
     "metadata": {},
     "output_type": "display_data"
    }
   ],
   "source": [
    "# TODO: Use the get_expected_cost function to fill in each value\n",
    "option_one = 80000+(2*30000)+(3*10000)\n",
    "option_two = 80000+(3*30000)+(2*10000)\n",
    "option_three =80000+(3*30000)+(3*10000)\n",
    "option_four = 80000+(3*30000)+(4*10000)\n",
    "\n",
    "print(option_one)\n",
    "print(option_two)\n",
    "print(option_three)\n",
    "print(option_four)\n",
    "\n",
    "# Check your answer\n",
    "q2.check()"
   ]
  },
  {
   "cell_type": "code",
   "execution_count": 5,
   "id": "1ef38d0a",
   "metadata": {
    "execution": {
     "iopub.execute_input": "2023-08-02T02:56:23.681820Z",
     "iopub.status.busy": "2023-08-02T02:56:23.681093Z",
     "iopub.status.idle": "2023-08-02T02:56:23.685444Z",
     "shell.execute_reply": "2023-08-02T02:56:23.684712Z"
    },
    "papermill": {
     "duration": 0.014748,
     "end_time": "2023-08-02T02:56:23.687586",
     "exception": false,
     "start_time": "2023-08-02T02:56:23.672838",
     "status": "completed"
    },
    "tags": []
   },
   "outputs": [],
   "source": [
    "# Uncomment to see a hint\n",
    "#q2.hint()\n",
    "\n",
    "# Uncomment to view the solution\n",
    "#q2.solution()"
   ]
  },
  {
   "cell_type": "markdown",
   "id": "ded1dd73",
   "metadata": {
    "papermill": {
     "duration": 0.006614,
     "end_time": "2023-08-02T02:56:23.701237",
     "exception": false,
     "start_time": "2023-08-02T02:56:23.694623",
     "status": "completed"
    },
    "tags": []
   },
   "source": [
    "# Question 3\n",
    "\n",
    "You're a home decorator, and you'd like to use Python to streamline some of your work.  Specifically, you're creating a tool that you intend to use to calculate the cost of painting a room.\n",
    "\n",
    "As a first step, define a function `get_cost()` that takes as input:\n",
    "- `sqft_walls` = total square feet of walls to be painted\n",
    "- `sqft_ceiling` = square feet of ceiling to be painted\n",
    "- `sqft_per_gallon` = number of square feet that you can cover with one gallon of paint\n",
    "- `cost_per_gallon` = cost (in dollars) of one gallon of paint\n",
    "\n",
    "It should return the cost (in dollars) of putting one coat of paint on all walls and the ceiling.  Assume you can buy the exact amount of paint that you need, so you can buy partial gallons (e.g., if you need 7.523 gallons, you can buy that exact amount, instead of needing to buy 8 gallons and waste some paint).  Do not round your answer."
   ]
  },
  {
   "cell_type": "code",
   "execution_count": 6,
   "id": "52932982",
   "metadata": {
    "execution": {
     "iopub.execute_input": "2023-08-02T02:56:23.717043Z",
     "iopub.status.busy": "2023-08-02T02:56:23.716317Z",
     "iopub.status.idle": "2023-08-02T02:56:23.725214Z",
     "shell.execute_reply": "2023-08-02T02:56:23.724409Z"
    },
    "papermill": {
     "duration": 0.01914,
     "end_time": "2023-08-02T02:56:23.727244",
     "exception": false,
     "start_time": "2023-08-02T02:56:23.708104",
     "status": "completed"
    },
    "tags": []
   },
   "outputs": [
    {
     "data": {
      "application/javascript": [
       "parent.postMessage({\"jupyterEvent\": \"custom.exercise_interaction\", \"data\": {\"outcomeType\": 2, \"failureMessage\": \"Expected return value of `21.599999999999998` given `sqft_walls=432`, `sqft_ceiling=144`, `sqft_per_gallon=400`, `cost_per_gallon=15`, but got `<learntools.core.constants.PlaceholderValue object at 0x78509bfab250>` instead.\", \"interactionType\": 1, \"questionType\": 2, \"questionId\": \"3_GetCostPaint\", \"learnToolsVersion\": \"0.3.4\", \"valueTowardsCompletion\": 0.0, \"exceptionClass\": \"\", \"trace\": \"\"}}, \"*\")"
      ],
      "text/plain": [
       "<IPython.core.display.Javascript object>"
      ]
     },
     "metadata": {},
     "output_type": "display_data"
    },
    {
     "data": {
      "text/markdown": [
       "<span style=\"color:#cc3333\">Incorrect:</span> Expected return value of `21.599999999999998` given `sqft_walls=432`, `sqft_ceiling=144`, `sqft_per_gallon=400`, `cost_per_gallon=15`, but got `<learntools.core.constants.PlaceholderValue object at 0x78509bfab250>` instead."
      ],
      "text/plain": [
       "Incorrect: Expected return value of `21.599999999999998` given `sqft_walls=432`, `sqft_ceiling=144`, `sqft_per_gallon=400`, `cost_per_gallon=15`, but got `<learntools.core.constants.PlaceholderValue object at 0x78509bfab250>` instead."
      ]
     },
     "metadata": {},
     "output_type": "display_data"
    }
   ],
   "source": [
    "# TODO: Finish defining the function\n",
    "def get_cost(sqft_walls, sqft_ceiling, sqft_per_gallon, cost_per_gallon):\n",
    "    cost = ____\n",
    "    return cost\n",
    "\n",
    "# Check your answer\n",
    "q3.check()"
   ]
  },
  {
   "cell_type": "code",
   "execution_count": 7,
   "id": "e526e708",
   "metadata": {
    "execution": {
     "iopub.execute_input": "2023-08-02T02:56:23.744147Z",
     "iopub.status.busy": "2023-08-02T02:56:23.743392Z",
     "iopub.status.idle": "2023-08-02T02:56:23.748179Z",
     "shell.execute_reply": "2023-08-02T02:56:23.747384Z"
    },
    "papermill": {
     "duration": 0.01589,
     "end_time": "2023-08-02T02:56:23.750376",
     "exception": false,
     "start_time": "2023-08-02T02:56:23.734486",
     "status": "completed"
    },
    "tags": []
   },
   "outputs": [],
   "source": [
    "# Uncomment to see a hint\n",
    "#q3.hint()\n",
    "\n",
    "# Uncomment to view the solution\n",
    "#q3.solution()"
   ]
  },
  {
   "cell_type": "markdown",
   "id": "f064a43f",
   "metadata": {
    "papermill": {
     "duration": 0.007041,
     "end_time": "2023-08-02T02:56:23.764793",
     "exception": false,
     "start_time": "2023-08-02T02:56:23.757752",
     "status": "completed"
    },
    "tags": []
   },
   "source": [
    "# Question 4\n",
    "\n",
    "Use the `get_cost()` function you defined in Question 3 to calculate the cost of applying one coat of paint to a room with:\n",
    "- 432 square feet of walls, and\n",
    "- 144 square feet of ceiling.\n",
    "\n",
    "Assume that one gallon of paint covers 400 square feet and costs $15.  As in Question 3, assume you can buy partial gallons of paint.  Do not round your answer."
   ]
  },
  {
   "cell_type": "code",
   "execution_count": 8,
   "id": "7f280802",
   "metadata": {
    "execution": {
     "iopub.execute_input": "2023-08-02T02:56:23.781470Z",
     "iopub.status.busy": "2023-08-02T02:56:23.780626Z",
     "iopub.status.idle": "2023-08-02T02:56:23.789936Z",
     "shell.execute_reply": "2023-08-02T02:56:23.788863Z"
    },
    "papermill": {
     "duration": 0.020079,
     "end_time": "2023-08-02T02:56:23.792173",
     "exception": false,
     "start_time": "2023-08-02T02:56:23.772094",
     "status": "completed"
    },
    "tags": []
   },
   "outputs": [
    {
     "data": {
      "application/javascript": [
       "parent.postMessage({\"jupyterEvent\": \"custom.exercise_interaction\", \"data\": {\"outcomeType\": 4, \"interactionType\": 1, \"questionType\": 1, \"questionId\": \"4_GetCostPaintExample\", \"learnToolsVersion\": \"0.3.4\", \"valueTowardsCompletion\": 0.0, \"failureMessage\": \"\", \"exceptionClass\": \"\", \"trace\": \"\"}}, \"*\")"
      ],
      "text/plain": [
       "<IPython.core.display.Javascript object>"
      ]
     },
     "metadata": {},
     "output_type": "display_data"
    },
    {
     "data": {
      "text/markdown": [
       "<span style=\"color:#ccaa33\">Check:</span> When you've updated the starter code, `check()` will tell you whether your code is correct. You need to update the code that creates variable `project_cost`"
      ],
      "text/plain": [
       "Check: When you've updated the starter code, `check()` will tell you whether your code is correct. You need to update the code that creates variable `project_cost`"
      ]
     },
     "metadata": {},
     "output_type": "display_data"
    }
   ],
   "source": [
    "# TODO: Set the project_cost variable to the cost of the project\n",
    "project_cost = ____\n",
    "\n",
    "# Check your answer\n",
    "q4.check()"
   ]
  },
  {
   "cell_type": "code",
   "execution_count": 9,
   "id": "33e98930",
   "metadata": {
    "execution": {
     "iopub.execute_input": "2023-08-02T02:56:23.810602Z",
     "iopub.status.busy": "2023-08-02T02:56:23.809502Z",
     "iopub.status.idle": "2023-08-02T02:56:23.814509Z",
     "shell.execute_reply": "2023-08-02T02:56:23.813630Z"
    },
    "papermill": {
     "duration": 0.016605,
     "end_time": "2023-08-02T02:56:23.816603",
     "exception": false,
     "start_time": "2023-08-02T02:56:23.799998",
     "status": "completed"
    },
    "tags": []
   },
   "outputs": [],
   "source": [
    "# Uncomment to see a hint\n",
    "#q4.hint()\n",
    "\n",
    "# Uncomment to view the solution\n",
    "#q4.solution()"
   ]
  },
  {
   "cell_type": "markdown",
   "id": "2c93caa4",
   "metadata": {
    "papermill": {
     "duration": 0.007227,
     "end_time": "2023-08-02T02:56:23.831374",
     "exception": false,
     "start_time": "2023-08-02T02:56:23.824147",
     "status": "completed"
    },
    "tags": []
   },
   "source": [
    "# 🌶️ Question 5\n",
    "\n",
    "Now say you can no longer buy fractions of a gallon.  (For instance, if you need 4.3 gallons to do a project, then you have to buy 5 gallons of paint.)\n",
    "\n",
    "With this new scenario, you will create a new function `get_actual_cost` that uses the same inputs and calculates the cost of your project.\n",
    "\n",
    "One function that you'll need to use to do this is `math.ceil()`.  We demonstrate usage of this function in the code cell below.  It takes as a number as input and rounds the number up to the nearest integer.  \n",
    "\n",
    "Run the next code cell to test this function for yourself.  Feel free to change the value of `test_value` and make sure `math.ceil()` returns the number you expect."
   ]
  },
  {
   "cell_type": "code",
   "execution_count": 10,
   "id": "8a6106a1",
   "metadata": {
    "execution": {
     "iopub.execute_input": "2023-08-02T02:56:23.849142Z",
     "iopub.status.busy": "2023-08-02T02:56:23.848291Z",
     "iopub.status.idle": "2023-08-02T02:56:23.853306Z",
     "shell.execute_reply": "2023-08-02T02:56:23.852281Z"
    },
    "papermill": {
     "duration": 0.017713,
     "end_time": "2023-08-02T02:56:23.856701",
     "exception": false,
     "start_time": "2023-08-02T02:56:23.838988",
     "status": "completed"
    },
    "tags": []
   },
   "outputs": [
    {
     "name": "stdout",
     "output_type": "stream",
     "text": [
      "3\n"
     ]
    }
   ],
   "source": [
    "test_value = 2.17\n",
    "\n",
    "rounded_value = math.ceil(test_value)\n",
    "print(rounded_value)"
   ]
  },
  {
   "cell_type": "markdown",
   "id": "20afa33f",
   "metadata": {
    "papermill": {
     "duration": 0.007377,
     "end_time": "2023-08-02T02:56:23.871655",
     "exception": false,
     "start_time": "2023-08-02T02:56:23.864278",
     "status": "completed"
    },
    "tags": []
   },
   "source": [
    "Use the next code cell to define the function `get_actual_cost()`.  You'll need to use the `math.ceil()` function to do this.\n",
    "\n",
    "When answering this question, note that it's completely valid to define a function that makes use of another function.  For instance, we can define a function `round_up_and_divide_by_three` that makes use of the `math.ceil` function:\n",
    "```\n",
    "def round_up_and_divide_by_three(num):\n",
    "    new_value = math.ceil(num)\n",
    "    final_value = new_value / 3\n",
    "    return final_value\n",
    "```"
   ]
  },
  {
   "cell_type": "code",
   "execution_count": 11,
   "id": "1ea677f0",
   "metadata": {
    "execution": {
     "iopub.execute_input": "2023-08-02T02:56:23.888342Z",
     "iopub.status.busy": "2023-08-02T02:56:23.887954Z",
     "iopub.status.idle": "2023-08-02T02:56:23.896690Z",
     "shell.execute_reply": "2023-08-02T02:56:23.895597Z"
    },
    "papermill": {
     "duration": 0.019836,
     "end_time": "2023-08-02T02:56:23.898948",
     "exception": false,
     "start_time": "2023-08-02T02:56:23.879112",
     "status": "completed"
    },
    "tags": []
   },
   "outputs": [
    {
     "data": {
      "application/javascript": [
       "parent.postMessage({\"jupyterEvent\": \"custom.exercise_interaction\", \"data\": {\"outcomeType\": 2, \"failureMessage\": \"Expected return value of `30` given `sqft_walls=432`, `sqft_ceiling=144`, `sqft_per_gallon=400`, `cost_per_gallon=15`, but got `<learntools.core.constants.PlaceholderValue object at 0x78509bfab250>` instead.\", \"interactionType\": 1, \"questionType\": 2, \"questionId\": \"5_NoMoreFractions\", \"learnToolsVersion\": \"0.3.4\", \"valueTowardsCompletion\": 0.0, \"exceptionClass\": \"\", \"trace\": \"\"}}, \"*\")"
      ],
      "text/plain": [
       "<IPython.core.display.Javascript object>"
      ]
     },
     "metadata": {},
     "output_type": "display_data"
    },
    {
     "data": {
      "text/markdown": [
       "<span style=\"color:#cc3333\">Incorrect:</span> Expected return value of `30` given `sqft_walls=432`, `sqft_ceiling=144`, `sqft_per_gallon=400`, `cost_per_gallon=15`, but got `<learntools.core.constants.PlaceholderValue object at 0x78509bfab250>` instead."
      ],
      "text/plain": [
       "Incorrect: Expected return value of `30` given `sqft_walls=432`, `sqft_ceiling=144`, `sqft_per_gallon=400`, `cost_per_gallon=15`, but got `<learntools.core.constants.PlaceholderValue object at 0x78509bfab250>` instead."
      ]
     },
     "metadata": {},
     "output_type": "display_data"
    }
   ],
   "source": [
    "def get_actual_cost(sqft_walls, sqft_ceiling, sqft_per_gallon, cost_per_gallon):\n",
    "    cost = ____\n",
    "    return cost\n",
    "\n",
    "# Check your answer\n",
    "q5.check()"
   ]
  },
  {
   "cell_type": "code",
   "execution_count": 12,
   "id": "0efb1421",
   "metadata": {
    "execution": {
     "iopub.execute_input": "2023-08-02T02:56:23.916525Z",
     "iopub.status.busy": "2023-08-02T02:56:23.915939Z",
     "iopub.status.idle": "2023-08-02T02:56:23.920599Z",
     "shell.execute_reply": "2023-08-02T02:56:23.919594Z"
    },
    "papermill": {
     "duration": 0.015963,
     "end_time": "2023-08-02T02:56:23.922769",
     "exception": false,
     "start_time": "2023-08-02T02:56:23.906806",
     "status": "completed"
    },
    "tags": []
   },
   "outputs": [],
   "source": [
    "# Uncomment to see a hint\n",
    "#q5.hint()\n",
    "\n",
    "# Uncomment to view the solution\n",
    "#q5.solution()"
   ]
  },
  {
   "cell_type": "markdown",
   "id": "25b9685c",
   "metadata": {
    "papermill": {
     "duration": 0.00772,
     "end_time": "2023-08-02T02:56:23.938466",
     "exception": false,
     "start_time": "2023-08-02T02:56:23.930746",
     "status": "completed"
    },
    "tags": []
   },
   "source": [
    "Once your function is verified as correct, run the next code cell to calculate the updated cost of your project."
   ]
  },
  {
   "cell_type": "code",
   "execution_count": 13,
   "id": "66a02863",
   "metadata": {
    "execution": {
     "iopub.execute_input": "2023-08-02T02:56:23.956524Z",
     "iopub.status.busy": "2023-08-02T02:56:23.955949Z",
     "iopub.status.idle": "2023-08-02T02:56:23.961330Z",
     "shell.execute_reply": "2023-08-02T02:56:23.960611Z"
    },
    "papermill": {
     "duration": 0.017028,
     "end_time": "2023-08-02T02:56:23.963266",
     "exception": false,
     "start_time": "2023-08-02T02:56:23.946238",
     "status": "completed"
    },
    "tags": []
   },
   "outputs": [
    {
     "data": {
      "text/markdown": [],
      "text/plain": [
       "<learntools.core.constants.PlaceholderValue at 0x78509bfab250>"
      ]
     },
     "execution_count": 13,
     "metadata": {},
     "output_type": "execute_result"
    }
   ],
   "source": [
    "get_actual_cost(432, 144, 400, 15) "
   ]
  },
  {
   "cell_type": "markdown",
   "id": "1d0058f8",
   "metadata": {
    "papermill": {
     "duration": 0.008005,
     "end_time": "2023-08-02T02:56:23.979451",
     "exception": false,
     "start_time": "2023-08-02T02:56:23.971446",
     "status": "completed"
    },
    "tags": []
   },
   "source": [
    "Say you're working with a slightly larger room.  Run the next code cell to calculate the cost of the project."
   ]
  },
  {
   "cell_type": "code",
   "execution_count": 14,
   "id": "a17901e6",
   "metadata": {
    "execution": {
     "iopub.execute_input": "2023-08-02T02:56:23.997518Z",
     "iopub.status.busy": "2023-08-02T02:56:23.996885Z",
     "iopub.status.idle": "2023-08-02T02:56:24.002983Z",
     "shell.execute_reply": "2023-08-02T02:56:24.001902Z"
    },
    "papermill": {
     "duration": 0.018214,
     "end_time": "2023-08-02T02:56:24.005626",
     "exception": false,
     "start_time": "2023-08-02T02:56:23.987412",
     "status": "completed"
    },
    "tags": []
   },
   "outputs": [
    {
     "data": {
      "text/markdown": [],
      "text/plain": [
       "<learntools.core.constants.PlaceholderValue at 0x78509bfab250>"
      ]
     },
     "execution_count": 14,
     "metadata": {},
     "output_type": "execute_result"
    }
   ],
   "source": [
    "get_actual_cost(594, 288, 400, 15) "
   ]
  },
  {
   "cell_type": "markdown",
   "id": "16830b50",
   "metadata": {
    "papermill": {
     "duration": 0.008379,
     "end_time": "2023-08-02T02:56:24.022916",
     "exception": false,
     "start_time": "2023-08-02T02:56:24.014537",
     "status": "completed"
    },
    "tags": []
   },
   "source": [
    "# Keep going\n",
    "\n",
    "Continue to learn about **[data types](https://www.kaggle.com/alexisbcook/data-types)**."
   ]
  },
  {
   "cell_type": "markdown",
   "id": "c28845a4",
   "metadata": {
    "papermill": {
     "duration": 0.008806,
     "end_time": "2023-08-02T02:56:24.040702",
     "exception": false,
     "start_time": "2023-08-02T02:56:24.031896",
     "status": "completed"
    },
    "tags": []
   },
   "source": [
    "---\n",
    "\n",
    "\n",
    "\n",
    "\n",
    "*Have questions or comments? Visit the [course discussion forum](https://www.kaggle.com/learn/intro-to-programming/discussion) to chat with other learners.*"
   ]
  }
 ],
 "metadata": {
  "kernelspec": {
   "display_name": "Python 3",
   "language": "python",
   "name": "python3"
  },
  "language_info": {
   "codemirror_mode": {
    "name": "ipython",
    "version": 3
   },
   "file_extension": ".py",
   "mimetype": "text/x-python",
   "name": "python",
   "nbconvert_exporter": "python",
   "pygments_lexer": "ipython3",
   "version": "3.10.12"
  },
  "papermill": {
   "default_parameters": {},
   "duration": 10.950128,
   "end_time": "2023-08-02T02:56:24.872624",
   "environment_variables": {},
   "exception": null,
   "input_path": "__notebook__.ipynb",
   "output_path": "__notebook__.ipynb",
   "parameters": {},
   "start_time": "2023-08-02T02:56:13.922496",
   "version": "2.4.0"
  }
 },
 "nbformat": 4,
 "nbformat_minor": 5
}
