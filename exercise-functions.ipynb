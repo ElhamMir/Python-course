{
 "cells": [
  {
   "cell_type": "markdown",
   "id": "58a9205d",
   "metadata": {
    "papermill": {
     "duration": 0.009995,
     "end_time": "2023-08-09T00:45:01.782420",
     "exception": false,
     "start_time": "2023-08-09T00:45:01.772425",
     "status": "completed"
    },
    "tags": []
   },
   "source": [
    "**This notebook is an exercise in the [Intro to Programming](https://www.kaggle.com/learn/intro-to-programming) course.  You can reference the tutorial at [this link](https://www.kaggle.com/alexisbcook/functions).**\n",
    "\n",
    "---\n"
   ]
  },
  {
   "cell_type": "markdown",
   "id": "6893a3b4",
   "metadata": {
    "papermill": {
     "duration": 0.009077,
     "end_time": "2023-08-09T00:45:01.801660",
     "exception": false,
     "start_time": "2023-08-09T00:45:01.792583",
     "status": "completed"
    },
    "tags": []
   },
   "source": [
    "In the tutorial, you learned about functions. In this exercise, you'll write some of your own!\n",
    "\n",
    "# Set up the notebook\n",
    "\n",
    "Run the next code cell without changes to set up the notebook."
   ]
  },
  {
   "cell_type": "code",
   "execution_count": 1,
   "id": "97eab6c8",
   "metadata": {
    "execution": {
     "iopub.execute_input": "2023-08-09T00:45:01.824449Z",
     "iopub.status.busy": "2023-08-09T00:45:01.823737Z",
     "iopub.status.idle": "2023-08-09T00:45:01.889527Z",
     "shell.execute_reply": "2023-08-09T00:45:01.888124Z"
    },
    "papermill": {
     "duration": 0.081727,
     "end_time": "2023-08-09T00:45:01.893292",
     "exception": false,
     "start_time": "2023-08-09T00:45:01.811565",
     "status": "completed"
    },
    "tags": []
   },
   "outputs": [
    {
     "name": "stdout",
     "output_type": "stream",
     "text": [
      "Setup complete.\n"
     ]
    }
   ],
   "source": [
    "# Set up the exercise\n",
    "import math\n",
    "from learntools.core import binder\n",
    "binder.bind(globals())\n",
    "from learntools.intro_to_programming.ex2 import *\n",
    "print('Setup complete.')"
   ]
  },
  {
   "cell_type": "markdown",
   "id": "9ee2c41e",
   "metadata": {
    "papermill": {
     "duration": 0.008883,
     "end_time": "2023-08-09T00:45:01.912303",
     "exception": false,
     "start_time": "2023-08-09T00:45:01.903420",
     "status": "completed"
    },
    "tags": []
   },
   "source": [
    "# Question 1\n",
    "\n",
    "In the [House Prices - Advanced Regression Techniques competition](https://www.kaggle.com/c/house-prices-advanced-regression-techniques/overview), you need to use information like the number of bedrooms and bathrooms to predict the price of a house.  Inspired by this competition, you'll write your own function to do this.\n",
    "\n",
    "In the next code cell, create a function `get_expected_cost()` that has two arguments:\n",
    "- `beds` - number of bedrooms \n",
    "- `baths` - number of bathrooms\n",
    "\n",
    "It should return the expected cost of a house with that number of bedrooms and bathrooms.  Assume that:\n",
    "- the expected cost for a house with 0 bedrooms and 0 bathrooms is `80000`.  \n",
    "- each bedroom adds `30000` to the expected cost\n",
    "- each bathroom adds `10000` to the expected cost.\n",
    "\n",
    "For instance, \n",
    "- a house with 1 bedroom and 1 bathroom has an expected cost of `120000`, and \n",
    "- a house with 2 bedrooms and 1 bathroom has an expected cost of `150000`."
   ]
  },
  {
   "cell_type": "code",
   "execution_count": 2,
   "id": "c03549bd",
   "metadata": {
    "execution": {
     "iopub.execute_input": "2023-08-09T00:45:01.933534Z",
     "iopub.status.busy": "2023-08-09T00:45:01.933024Z",
     "iopub.status.idle": "2023-08-09T00:45:01.948476Z",
     "shell.execute_reply": "2023-08-09T00:45:01.947117Z"
    },
    "papermill": {
     "duration": 0.029577,
     "end_time": "2023-08-09T00:45:01.951171",
     "exception": false,
     "start_time": "2023-08-09T00:45:01.921594",
     "status": "completed"
    },
    "tags": []
   },
   "outputs": [
    {
     "name": "stdout",
     "output_type": "stream",
     "text": [
      "80000\n",
      "90000\n"
     ]
    },
    {
     "data": {
      "application/javascript": [
       "parent.postMessage({\"jupyterEvent\": \"custom.exercise_interaction\", \"data\": {\"outcomeType\": 1, \"valueTowardsCompletion\": 0.2, \"interactionType\": 1, \"questionType\": 2, \"questionId\": \"1_GetExpectedCost\", \"learnToolsVersion\": \"0.3.4\", \"failureMessage\": \"\", \"exceptionClass\": \"\", \"trace\": \"\"}}, \"*\")"
      ],
      "text/plain": [
       "<IPython.core.display.Javascript object>"
      ]
     },
     "metadata": {},
     "output_type": "display_data"
    },
    {
     "data": {
      "text/markdown": [
       "<span style=\"color:#33cc33\">Correct</span>"
      ],
      "text/plain": [
       "Correct"
      ]
     },
     "metadata": {},
     "output_type": "display_data"
    }
   ],
   "source": [
    "# TODO: Complete the function\n",
    "def get_expected_cost(beds, baths):\n",
    "    if(beds==0):\n",
    "        if(baths==0):\n",
    "            return 80000\n",
    "    #bedroom=3000\n",
    "    #bathroom=1000\n",
    "    house=80000\n",
    "    return (beds*30000)+ (baths*10000)+house \n",
    "    #return value\n",
    "\n",
    "print(get_expected_cost(0,0))   \n",
    "print(get_expected_cost(0,1))  \n",
    "# Check your answer \n",
    "q1.check()"
   ]
  },
  {
   "cell_type": "code",
   "execution_count": null,
   "id": "f43e7143",
   "metadata": {
    "papermill": {
     "duration": 0.009256,
     "end_time": "2023-08-09T00:45:01.970116",
     "exception": false,
     "start_time": "2023-08-09T00:45:01.960860",
     "status": "completed"
    },
    "tags": []
   },
   "outputs": [],
   "source": []
  },
  {
   "cell_type": "code",
   "execution_count": 3,
   "id": "b903ee92",
   "metadata": {
    "execution": {
     "iopub.execute_input": "2023-08-09T00:45:01.994335Z",
     "iopub.status.busy": "2023-08-09T00:45:01.993826Z",
     "iopub.status.idle": "2023-08-09T00:45:02.010462Z",
     "shell.execute_reply": "2023-08-09T00:45:02.008997Z"
    },
    "papermill": {
     "duration": 0.03162,
     "end_time": "2023-08-09T00:45:02.013488",
     "exception": false,
     "start_time": "2023-08-09T00:45:01.981868",
     "status": "completed"
    },
    "tags": []
   },
   "outputs": [
    {
     "data": {
      "application/javascript": [
       "parent.postMessage({\"jupyterEvent\": \"custom.exercise_interaction\", \"data\": {\"interactionType\": 2, \"questionType\": 2, \"questionId\": \"1_GetExpectedCost\", \"learnToolsVersion\": \"0.3.4\", \"valueTowardsCompletion\": 0.0, \"failureMessage\": \"\", \"exceptionClass\": \"\", \"trace\": \"\", \"outcomeType\": 4}}, \"*\")"
      ],
      "text/plain": [
       "<IPython.core.display.Javascript object>"
      ]
     },
     "metadata": {},
     "output_type": "display_data"
    },
    {
     "data": {
      "text/markdown": [
       "<span style=\"color:#3366cc\">Hint:</span> The value should be the base cost (`80000`), plus the total cost of the bedrooms (`30000 * beds`), plus the total cost of the bathrooms (`10000 * baths`)."
      ],
      "text/plain": [
       "Hint: The value should be the base cost (`80000`), plus the total cost of the bedrooms (`30000 * beds`), plus the total cost of the bathrooms (`10000 * baths`)."
      ]
     },
     "metadata": {},
     "output_type": "display_data"
    },
    {
     "data": {
      "application/javascript": [
       "parent.postMessage({\"jupyterEvent\": \"custom.exercise_interaction\", \"data\": {\"interactionType\": 3, \"questionType\": 2, \"questionId\": \"1_GetExpectedCost\", \"learnToolsVersion\": \"0.3.4\", \"valueTowardsCompletion\": 0.0, \"failureMessage\": \"\", \"exceptionClass\": \"\", \"trace\": \"\", \"outcomeType\": 4}}, \"*\")"
      ],
      "text/plain": [
       "<IPython.core.display.Javascript object>"
      ]
     },
     "metadata": {},
     "output_type": "display_data"
    },
    {
     "data": {
      "text/markdown": [
       "<span style=\"color:#33cc99\">Solution:</span> \n",
       "```python\n",
       "\n",
       "def get_expected_cost(beds, baths):\n",
       "    value = 80000 + 30000 * beds + 10000 * baths\n",
       "    return value\n",
       "\n",
       "```"
      ],
      "text/plain": [
       "Solution: \n",
       "```python\n",
       "\n",
       "def get_expected_cost(beds, baths):\n",
       "    value = 80000 + 30000 * beds + 10000 * baths\n",
       "    return value\n",
       "\n",
       "```"
      ]
     },
     "metadata": {},
     "output_type": "display_data"
    }
   ],
   "source": [
    "# Uncomment to see a hint\n",
    "q1.hint()\n",
    "\n",
    "#Uncomment to view the solution\n",
    "q1.solution()"
   ]
  },
  {
   "cell_type": "code",
   "execution_count": null,
   "id": "2e529588",
   "metadata": {
    "papermill": {
     "duration": 0.010122,
     "end_time": "2023-08-09T00:45:02.034622",
     "exception": false,
     "start_time": "2023-08-09T00:45:02.024500",
     "status": "completed"
    },
    "tags": []
   },
   "outputs": [],
   "source": []
  },
  {
   "cell_type": "markdown",
   "id": "149ee4fe",
   "metadata": {
    "papermill": {
     "duration": 0.010088,
     "end_time": "2023-08-09T00:45:02.055262",
     "exception": false,
     "start_time": "2023-08-09T00:45:02.045174",
     "status": "completed"
    },
    "tags": []
   },
   "source": [
    "# Question 2\n",
    "\n",
    "You are thinking about buying a home and want to get an idea of how much you will spend, based on the number of bedrooms and bathrooms.  You are trying to decide between four different options:\n",
    "- Option 1: house with two bedrooms and three bathrooms\n",
    "- Option 2: house with three bedrooms and two bathrooms\n",
    "- Option 3: house with three bedrooms and three bathrooms\n",
    "- Option 4: house with three bedrooms and four bathrooms\n",
    "\n",
    "Use the `get_expected_cost()` function you defined in question 1 to set `option_1`, `option_2`, `option_3`, and `option_4` to the expected cost of each option."
   ]
  },
  {
   "cell_type": "code",
   "execution_count": 4,
   "id": "33d93487",
   "metadata": {
    "execution": {
     "iopub.execute_input": "2023-08-09T00:45:02.080968Z",
     "iopub.status.busy": "2023-08-09T00:45:02.079973Z",
     "iopub.status.idle": "2023-08-09T00:45:02.095228Z",
     "shell.execute_reply": "2023-08-09T00:45:02.093659Z"
    },
    "papermill": {
     "duration": 0.031652,
     "end_time": "2023-08-09T00:45:02.098210",
     "exception": false,
     "start_time": "2023-08-09T00:45:02.066558",
     "status": "completed"
    },
    "tags": []
   },
   "outputs": [
    {
     "name": "stdout",
     "output_type": "stream",
     "text": [
      "170000\n",
      "190000\n",
      "200000\n",
      "210000\n"
     ]
    },
    {
     "data": {
      "application/javascript": [
       "parent.postMessage({\"jupyterEvent\": \"custom.exercise_interaction\", \"data\": {\"outcomeType\": 1, \"valueTowardsCompletion\": 0.2, \"interactionType\": 1, \"questionType\": 1, \"questionId\": \"2_RunGetExpectedCost\", \"learnToolsVersion\": \"0.3.4\", \"failureMessage\": \"\", \"exceptionClass\": \"\", \"trace\": \"\"}}, \"*\")"
      ],
      "text/plain": [
       "<IPython.core.display.Javascript object>"
      ]
     },
     "metadata": {},
     "output_type": "display_data"
    },
    {
     "data": {
      "text/markdown": [
       "<span style=\"color:#33cc33\">Correct</span>"
      ],
      "text/plain": [
       "Correct"
      ]
     },
     "metadata": {},
     "output_type": "display_data"
    }
   ],
   "source": [
    "# TODO: Use the get_expected_cost function to fill in each value\n",
    "option_one = 80000+(2*30000)+(3*10000)\n",
    "option_two = 80000+(3*30000)+(2*10000)\n",
    "option_three =80000+(3*30000)+(3*10000)\n",
    "option_four = 80000+(3*30000)+(4*10000)\n",
    "\n",
    "print(option_one)\n",
    "print(option_two)\n",
    "print(option_three)\n",
    "print(option_four)\n",
    "\n",
    "# Check your answer\n",
    "q2.check()"
   ]
  },
  {
   "cell_type": "code",
   "execution_count": 5,
   "id": "08de35ad",
   "metadata": {
    "execution": {
     "iopub.execute_input": "2023-08-09T00:45:02.124328Z",
     "iopub.status.busy": "2023-08-09T00:45:02.122735Z",
     "iopub.status.idle": "2023-08-09T00:45:02.128415Z",
     "shell.execute_reply": "2023-08-09T00:45:02.127402Z"
    },
    "papermill": {
     "duration": 0.02191,
     "end_time": "2023-08-09T00:45:02.131163",
     "exception": false,
     "start_time": "2023-08-09T00:45:02.109253",
     "status": "completed"
    },
    "tags": []
   },
   "outputs": [],
   "source": [
    "# Uncomment to see a hint\n",
    "#q2.hint()\n",
    "\n",
    "# Uncomment to view the solution\n",
    "#q2.solution()"
   ]
  },
  {
   "cell_type": "markdown",
   "id": "f0de10ea",
   "metadata": {
    "papermill": {
     "duration": 0.01107,
     "end_time": "2023-08-09T00:45:02.153627",
     "exception": false,
     "start_time": "2023-08-09T00:45:02.142557",
     "status": "completed"
    },
    "tags": []
   },
   "source": [
    "# Question 3\n",
    "\n",
    "You're a home decorator, and you'd like to use Python to streamline some of your work.  Specifically, you're creating a tool that you intend to use to calculate the cost of painting a room.\n",
    "\n",
    "As a first step, define a function `get_cost()` that takes as input:\n",
    "- `sqft_walls` = total square feet of walls to be painted\n",
    "- `sqft_ceiling` = square feet of ceiling to be painted\n",
    "- `sqft_per_gallon` = number of square feet that you can cover with one gallon of paint\n",
    "- `cost_per_gallon` = cost (in dollars) of one gallon of paint\n",
    "\n",
    "It should return the cost (in dollars) of putting one coat of paint on all walls and the ceiling.  Assume you can buy the exact amount of paint that you need, so you can buy partial gallons (e.g., if you need 7.523 gallons, you can buy that exact amount, instead of needing to buy 8 gallons and waste some paint).  Do not round your answer."
   ]
  },
  {
   "cell_type": "code",
   "execution_count": 6,
   "id": "14858c54",
   "metadata": {
    "execution": {
     "iopub.execute_input": "2023-08-09T00:45:02.179999Z",
     "iopub.status.busy": "2023-08-09T00:45:02.178776Z",
     "iopub.status.idle": "2023-08-09T00:45:02.190955Z",
     "shell.execute_reply": "2023-08-09T00:45:02.189625Z"
    },
    "papermill": {
     "duration": 0.028217,
     "end_time": "2023-08-09T00:45:02.193883",
     "exception": false,
     "start_time": "2023-08-09T00:45:02.165666",
     "status": "completed"
    },
    "tags": []
   },
   "outputs": [
    {
     "data": {
      "application/javascript": [
       "parent.postMessage({\"jupyterEvent\": \"custom.exercise_interaction\", \"data\": {\"outcomeType\": 1, \"valueTowardsCompletion\": 0.2, \"interactionType\": 1, \"questionType\": 2, \"questionId\": \"3_GetCostPaint\", \"learnToolsVersion\": \"0.3.4\", \"failureMessage\": \"\", \"exceptionClass\": \"\", \"trace\": \"\"}}, \"*\")"
      ],
      "text/plain": [
       "<IPython.core.display.Javascript object>"
      ]
     },
     "metadata": {},
     "output_type": "display_data"
    },
    {
     "data": {
      "text/markdown": [
       "<span style=\"color:#33cc33\">Correct</span>"
      ],
      "text/plain": [
       "Correct"
      ]
     },
     "metadata": {},
     "output_type": "display_data"
    }
   ],
   "source": [
    "# TODO: Finish defining the function\n",
    "def get_cost(sqft_walls, sqft_ceiling, sqft_per_gallon, cost_per_gallon):\n",
    "    cost =((sqft_walls+sqft_ceiling)/sqft_per_gallon)*cost_per_gallon\n",
    "    return cost\n",
    "\n",
    "# Check your answer\n",
    "q3.check()"
   ]
  },
  {
   "cell_type": "code",
   "execution_count": 7,
   "id": "975b4c8a",
   "metadata": {
    "execution": {
     "iopub.execute_input": "2023-08-09T00:45:02.219220Z",
     "iopub.status.busy": "2023-08-09T00:45:02.218705Z",
     "iopub.status.idle": "2023-08-09T00:45:02.223997Z",
     "shell.execute_reply": "2023-08-09T00:45:02.222607Z"
    },
    "papermill": {
     "duration": 0.021472,
     "end_time": "2023-08-09T00:45:02.226974",
     "exception": false,
     "start_time": "2023-08-09T00:45:02.205502",
     "status": "completed"
    },
    "tags": []
   },
   "outputs": [],
   "source": [
    "# Uncomment to see a hint\n",
    "#q3.hint()\n",
    "\n",
    "# Uncomment to view the solution\n",
    "#q3.solution()"
   ]
  },
  {
   "cell_type": "markdown",
   "id": "77b34904",
   "metadata": {
    "papermill": {
     "duration": 0.010928,
     "end_time": "2023-08-09T00:45:02.249461",
     "exception": false,
     "start_time": "2023-08-09T00:45:02.238533",
     "status": "completed"
    },
    "tags": []
   },
   "source": [
    "# Question 4\n",
    "\n",
    "Use the `get_cost()` function you defined in Question 3 to calculate the cost of applying one coat of paint to a room with:\n",
    "- 432 square feet of walls, and\n",
    "- 144 square feet of ceiling.\n",
    "\n",
    "Assume that one gallon of paint covers 400 square feet and costs $15.  As in Question 3, assume you can buy partial gallons of paint.  Do not round your answer."
   ]
  },
  {
   "cell_type": "code",
   "execution_count": 8,
   "id": "c9ad7916",
   "metadata": {
    "execution": {
     "iopub.execute_input": "2023-08-09T00:45:02.275570Z",
     "iopub.status.busy": "2023-08-09T00:45:02.275081Z",
     "iopub.status.idle": "2023-08-09T00:45:02.285816Z",
     "shell.execute_reply": "2023-08-09T00:45:02.284492Z"
    },
    "papermill": {
     "duration": 0.027528,
     "end_time": "2023-08-09T00:45:02.288765",
     "exception": false,
     "start_time": "2023-08-09T00:45:02.261237",
     "status": "completed"
    },
    "tags": []
   },
   "outputs": [
    {
     "data": {
      "application/javascript": [
       "parent.postMessage({\"jupyterEvent\": \"custom.exercise_interaction\", \"data\": {\"outcomeType\": 1, \"valueTowardsCompletion\": 0.2, \"interactionType\": 1, \"questionType\": 1, \"questionId\": \"4_GetCostPaintExample\", \"learnToolsVersion\": \"0.3.4\", \"failureMessage\": \"\", \"exceptionClass\": \"\", \"trace\": \"\"}}, \"*\")"
      ],
      "text/plain": [
       "<IPython.core.display.Javascript object>"
      ]
     },
     "metadata": {},
     "output_type": "display_data"
    },
    {
     "data": {
      "text/markdown": [
       "<span style=\"color:#33cc33\">Correct</span>"
      ],
      "text/plain": [
       "Correct"
      ]
     },
     "metadata": {},
     "output_type": "display_data"
    }
   ],
   "source": [
    "# TODO: Set the project_cost variable to the cost of the project\n",
    "project_cost =(432+144)/400*15\n",
    "\n",
    "# Check your answer\n",
    "q4.check()"
   ]
  },
  {
   "cell_type": "code",
   "execution_count": 9,
   "id": "25a52f78",
   "metadata": {
    "execution": {
     "iopub.execute_input": "2023-08-09T00:45:02.314714Z",
     "iopub.status.busy": "2023-08-09T00:45:02.314238Z",
     "iopub.status.idle": "2023-08-09T00:45:02.319598Z",
     "shell.execute_reply": "2023-08-09T00:45:02.318056Z"
    },
    "papermill": {
     "duration": 0.021796,
     "end_time": "2023-08-09T00:45:02.322176",
     "exception": false,
     "start_time": "2023-08-09T00:45:02.300380",
     "status": "completed"
    },
    "tags": []
   },
   "outputs": [],
   "source": [
    "# Uncomment to see a hint\n",
    "#q4.hint()\n",
    "\n",
    "# Uncomment to view the solution\n",
    "#q4.solution()"
   ]
  },
  {
   "cell_type": "markdown",
   "id": "8867eceb",
   "metadata": {
    "papermill": {
     "duration": 0.010992,
     "end_time": "2023-08-09T00:45:02.344869",
     "exception": false,
     "start_time": "2023-08-09T00:45:02.333877",
     "status": "completed"
    },
    "tags": []
   },
   "source": [
    "# 🌶️ Question 5\n",
    "\n",
    "Now say you can no longer buy fractions of a gallon.  (For instance, if you need 4.3 gallons to do a project, then you have to buy 5 gallons of paint.)\n",
    "\n",
    "With this new scenario, you will create a new function `get_actual_cost` that uses the same inputs and calculates the cost of your project.\n",
    "\n",
    "One function that you'll need to use to do this is `math.ceil()`.  We demonstrate usage of this function in the code cell below.  It takes as a number as input and rounds the number up to the nearest integer.  \n",
    "\n",
    "Run the next code cell to test this function for yourself.  Feel free to change the value of `test_value` and make sure `math.ceil()` returns the number you expect."
   ]
  },
  {
   "cell_type": "code",
   "execution_count": 10,
   "id": "3468fafc",
   "metadata": {
    "execution": {
     "iopub.execute_input": "2023-08-09T00:45:02.371205Z",
     "iopub.status.busy": "2023-08-09T00:45:02.370676Z",
     "iopub.status.idle": "2023-08-09T00:45:02.377188Z",
     "shell.execute_reply": "2023-08-09T00:45:02.375733Z"
    },
    "papermill": {
     "duration": 0.023291,
     "end_time": "2023-08-09T00:45:02.380289",
     "exception": false,
     "start_time": "2023-08-09T00:45:02.356998",
     "status": "completed"
    },
    "tags": []
   },
   "outputs": [
    {
     "name": "stdout",
     "output_type": "stream",
     "text": [
      "3\n"
     ]
    }
   ],
   "source": [
    "test_value = 2.17\n",
    "\n",
    "rounded_value = math.ceil(test_value)\n",
    "print(rounded_value)"
   ]
  },
  {
   "cell_type": "markdown",
   "id": "4e544ec6",
   "metadata": {
    "papermill": {
     "duration": 0.013122,
     "end_time": "2023-08-09T00:45:02.406109",
     "exception": false,
     "start_time": "2023-08-09T00:45:02.392987",
     "status": "completed"
    },
    "tags": []
   },
   "source": [
    "Use the next code cell to define the function `get_actual_cost()`.  You'll need to use the `math.ceil()` function to do this.\n",
    "\n",
    "When answering this question, note that it's completely valid to define a function that makes use of another function.  For instance, we can define a function `round_up_and_divide_by_three` that makes use of the `math.ceil` function:\n",
    "```\n",
    "def round_up_and_divide_by_three(num):\n",
    "    new_value = math.ceil(num)\n",
    "    final_value = new_value / 3\n",
    "    return final_value\n",
    "```"
   ]
  },
  {
   "cell_type": "code",
   "execution_count": 11,
   "id": "0383afbb",
   "metadata": {
    "execution": {
     "iopub.execute_input": "2023-08-09T00:45:02.433617Z",
     "iopub.status.busy": "2023-08-09T00:45:02.433141Z",
     "iopub.status.idle": "2023-08-09T00:45:02.445951Z",
     "shell.execute_reply": "2023-08-09T00:45:02.444435Z"
    },
    "papermill": {
     "duration": 0.029958,
     "end_time": "2023-08-09T00:45:02.448817",
     "exception": false,
     "start_time": "2023-08-09T00:45:02.418859",
     "status": "completed"
    },
    "tags": []
   },
   "outputs": [
    {
     "data": {
      "application/javascript": [
       "parent.postMessage({\"jupyterEvent\": \"custom.exercise_interaction\", \"data\": {\"outcomeType\": 1, \"valueTowardsCompletion\": 0.2, \"interactionType\": 1, \"questionType\": 2, \"questionId\": \"5_NoMoreFractions\", \"learnToolsVersion\": \"0.3.4\", \"failureMessage\": \"\", \"exceptionClass\": \"\", \"trace\": \"\"}}, \"*\")"
      ],
      "text/plain": [
       "<IPython.core.display.Javascript object>"
      ]
     },
     "metadata": {},
     "output_type": "display_data"
    },
    {
     "data": {
      "text/markdown": [
       "<span style=\"color:#33cc33\">Correct</span>"
      ],
      "text/plain": [
       "Correct"
      ]
     },
     "metadata": {},
     "output_type": "display_data"
    }
   ],
   "source": [
    "def get_actual_cost(sqft_walls, sqft_ceiling, sqft_per_gallon, cost_per_gallon):\n",
    "    total_sqft = sqft_walls + sqft_ceiling\n",
    "    gallons_needed = total_sqft / sqft_per_gallon\n",
    "    gallons_to_buy = math.ceil(gallons_needed)\n",
    "    cost = cost_per_gallon * gallons_to_buy\n",
    "    return cost\n",
    "# Check your answer\n",
    "q5.check()"
   ]
  },
  {
   "cell_type": "code",
   "execution_count": 12,
   "id": "cf114282",
   "metadata": {
    "execution": {
     "iopub.execute_input": "2023-08-09T00:45:02.477746Z",
     "iopub.status.busy": "2023-08-09T00:45:02.476912Z",
     "iopub.status.idle": "2023-08-09T00:45:02.493055Z",
     "shell.execute_reply": "2023-08-09T00:45:02.491523Z"
    },
    "papermill": {
     "duration": 0.03456,
     "end_time": "2023-08-09T00:45:02.496019",
     "exception": false,
     "start_time": "2023-08-09T00:45:02.461459",
     "status": "completed"
    },
    "tags": []
   },
   "outputs": [
    {
     "data": {
      "application/javascript": [
       "parent.postMessage({\"jupyterEvent\": \"custom.exercise_interaction\", \"data\": {\"interactionType\": 2, \"questionType\": 2, \"questionId\": \"5_NoMoreFractions\", \"learnToolsVersion\": \"0.3.4\", \"valueTowardsCompletion\": 0.0, \"failureMessage\": \"\", \"exceptionClass\": \"\", \"trace\": \"\", \"outcomeType\": 4}}, \"*\")"
      ],
      "text/plain": [
       "<IPython.core.display.Javascript object>"
      ]
     },
     "metadata": {},
     "output_type": "display_data"
    },
    {
     "data": {
      "text/markdown": [
       "<span style=\"color:#3366cc\">Hint:</span> Begin with the `get_cost()` function as a starting point.  The only change you need to make is to add `math.ceil()` to round up the number of gallons that need to be purchased. Can you figure out where to add it to the function?"
      ],
      "text/plain": [
       "Hint: Begin with the `get_cost()` function as a starting point.  The only change you need to make is to add `math.ceil()` to round up the number of gallons that need to be purchased. Can you figure out where to add it to the function?"
      ]
     },
     "metadata": {},
     "output_type": "display_data"
    },
    {
     "data": {
      "application/javascript": [
       "parent.postMessage({\"jupyterEvent\": \"custom.exercise_interaction\", \"data\": {\"interactionType\": 3, \"questionType\": 2, \"questionId\": \"5_NoMoreFractions\", \"learnToolsVersion\": \"0.3.4\", \"valueTowardsCompletion\": 0.0, \"failureMessage\": \"\", \"exceptionClass\": \"\", \"trace\": \"\", \"outcomeType\": 4}}, \"*\")"
      ],
      "text/plain": [
       "<IPython.core.display.Javascript object>"
      ]
     },
     "metadata": {},
     "output_type": "display_data"
    },
    {
     "data": {
      "text/markdown": [
       "<span style=\"color:#33cc99\">Solution:</span> \n",
       "```python\n",
       "def get_actual_cost(sqft_walls, sqft_ceiling, sqft_per_gallon, cost_per_gallon):\n",
       "    total_sqft = sqft_walls + sqft_ceiling\n",
       "    gallons_needed = total_sqft / sqft_per_gallon\n",
       "    gallons_to_buy = math.ceil(gallons_needed)\n",
       "    cost = cost_per_gallon * gallons_to_buy\n",
       "    return cost\n",
       "\n",
       "```"
      ],
      "text/plain": [
       "Solution: \n",
       "```python\n",
       "def get_actual_cost(sqft_walls, sqft_ceiling, sqft_per_gallon, cost_per_gallon):\n",
       "    total_sqft = sqft_walls + sqft_ceiling\n",
       "    gallons_needed = total_sqft / sqft_per_gallon\n",
       "    gallons_to_buy = math.ceil(gallons_needed)\n",
       "    cost = cost_per_gallon * gallons_to_buy\n",
       "    return cost\n",
       "\n",
       "```"
      ]
     },
     "metadata": {},
     "output_type": "display_data"
    }
   ],
   "source": [
    " #Uncomment to see a hint\n",
    "q5.hint()\n",
    "\n",
    "# Uncomment to view the solution\n",
    "q5.solution()"
   ]
  },
  {
   "cell_type": "code",
   "execution_count": null,
   "id": "7e6f0017",
   "metadata": {
    "papermill": {
     "duration": 0.012399,
     "end_time": "2023-08-09T00:45:02.521506",
     "exception": false,
     "start_time": "2023-08-09T00:45:02.509107",
     "status": "completed"
    },
    "tags": []
   },
   "outputs": [],
   "source": []
  },
  {
   "cell_type": "markdown",
   "id": "e0c87a7c",
   "metadata": {
    "papermill": {
     "duration": 0.012787,
     "end_time": "2023-08-09T00:45:02.547026",
     "exception": false,
     "start_time": "2023-08-09T00:45:02.534239",
     "status": "completed"
    },
    "tags": []
   },
   "source": []
  },
  {
   "cell_type": "markdown",
   "id": "c93ead5c",
   "metadata": {
    "papermill": {
     "duration": 0.012445,
     "end_time": "2023-08-09T00:45:02.572236",
     "exception": false,
     "start_time": "2023-08-09T00:45:02.559791",
     "status": "completed"
    },
    "tags": []
   },
   "source": [
    "Once your function is verified as correct, run the next code cell to calculate the updated cost of your project."
   ]
  },
  {
   "cell_type": "code",
   "execution_count": 13,
   "id": "e731dc62",
   "metadata": {
    "execution": {
     "iopub.execute_input": "2023-08-09T00:45:02.600238Z",
     "iopub.status.busy": "2023-08-09T00:45:02.599726Z",
     "iopub.status.idle": "2023-08-09T00:45:02.608087Z",
     "shell.execute_reply": "2023-08-09T00:45:02.606787Z"
    },
    "papermill": {
     "duration": 0.025898,
     "end_time": "2023-08-09T00:45:02.610885",
     "exception": false,
     "start_time": "2023-08-09T00:45:02.584987",
     "status": "completed"
    },
    "tags": []
   },
   "outputs": [
    {
     "data": {
      "text/plain": [
       "30"
      ]
     },
     "execution_count": 13,
     "metadata": {},
     "output_type": "execute_result"
    }
   ],
   "source": [
    "get_actual_cost(432, 144, 400, 15) "
   ]
  },
  {
   "cell_type": "markdown",
   "id": "cb1a4c45",
   "metadata": {
    "papermill": {
     "duration": 0.012574,
     "end_time": "2023-08-09T00:45:02.636907",
     "exception": false,
     "start_time": "2023-08-09T00:45:02.624333",
     "status": "completed"
    },
    "tags": []
   },
   "source": [
    "Say you're working with a slightly larger room.  Run the next code cell to calculate the cost of the project."
   ]
  },
  {
   "cell_type": "code",
   "execution_count": 14,
   "id": "1eccfc22",
   "metadata": {
    "execution": {
     "iopub.execute_input": "2023-08-09T00:45:02.665045Z",
     "iopub.status.busy": "2023-08-09T00:45:02.664528Z",
     "iopub.status.idle": "2023-08-09T00:45:02.673397Z",
     "shell.execute_reply": "2023-08-09T00:45:02.671597Z"
    },
    "papermill": {
     "duration": 0.026141,
     "end_time": "2023-08-09T00:45:02.675986",
     "exception": false,
     "start_time": "2023-08-09T00:45:02.649845",
     "status": "completed"
    },
    "tags": []
   },
   "outputs": [
    {
     "data": {
      "text/plain": [
       "45"
      ]
     },
     "execution_count": 14,
     "metadata": {},
     "output_type": "execute_result"
    }
   ],
   "source": [
    "get_actual_cost(594, 288, 400, 15) "
   ]
  },
  {
   "cell_type": "markdown",
   "id": "94d06b4b",
   "metadata": {
    "papermill": {
     "duration": 0.013181,
     "end_time": "2023-08-09T00:45:02.702644",
     "exception": false,
     "start_time": "2023-08-09T00:45:02.689463",
     "status": "completed"
    },
    "tags": []
   },
   "source": [
    "# Keep going\n",
    "\n",
    "Continue to learn about **[data types](https://www.kaggle.com/alexisbcook/data-types)**."
   ]
  },
  {
   "cell_type": "markdown",
   "id": "30c7419f",
   "metadata": {
    "papermill": {
     "duration": 0.014325,
     "end_time": "2023-08-09T00:45:02.731399",
     "exception": false,
     "start_time": "2023-08-09T00:45:02.717074",
     "status": "completed"
    },
    "tags": []
   },
   "source": [
    "---\n",
    "\n",
    "\n",
    "\n",
    "\n",
    "*Have questions or comments? Visit the [course discussion forum](https://www.kaggle.com/learn/intro-to-programming/discussion) to chat with other learners.*"
   ]
  }
 ],
 "metadata": {
  "kernelspec": {
   "display_name": "Python 3",
   "language": "python",
   "name": "python3"
  },
  "language_info": {
   "codemirror_mode": {
    "name": "ipython",
    "version": 3
   },
   "file_extension": ".py",
   "mimetype": "text/x-python",
   "name": "python",
   "nbconvert_exporter": "python",
   "pygments_lexer": "ipython3",
   "version": "3.10.12"
  },
  "papermill": {
   "default_parameters": {},
   "duration": 14.434633,
   "end_time": "2023-08-09T00:45:03.871228",
   "environment_variables": {},
   "exception": null,
   "input_path": "__notebook__.ipynb",
   "output_path": "__notebook__.ipynb",
   "parameters": {},
   "start_time": "2023-08-09T00:44:49.436595",
   "version": "2.4.0"
  }
 },
 "nbformat": 4,
 "nbformat_minor": 5
}
