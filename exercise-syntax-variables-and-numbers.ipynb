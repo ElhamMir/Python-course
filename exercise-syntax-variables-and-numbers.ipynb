{
 "cells": [
  {
   "cell_type": "markdown",
   "id": "d672561d",
   "metadata": {
    "papermill": {
     "duration": 0.006578,
     "end_time": "2023-08-09T13:05:52.751798",
     "exception": false,
     "start_time": "2023-08-09T13:05:52.745220",
     "status": "completed"
    },
    "tags": []
   },
   "source": [
    "**This notebook is an exercise in the [Python](https://www.kaggle.com/learn/python) course.  You can reference the tutorial at [this link](https://www.kaggle.com/colinmorris/hello-python).**\n",
    "\n",
    "---\n"
   ]
  },
  {
   "cell_type": "markdown",
   "id": "af4004df",
   "metadata": {
    "papermill": {
     "duration": 0.005545,
     "end_time": "2023-08-09T13:05:52.763353",
     "exception": false,
     "start_time": "2023-08-09T13:05:52.757808",
     "status": "completed"
    },
    "tags": []
   },
   "source": [
    "Welcome to your first set of Python coding problems.  If this is your first time using Kaggle Notebooks, welcome! \n",
    "\n",
    "Notebooks are composed of blocks (called \"cells\") of text and code. Each of these is editable, though you'll mainly be editing the code cells to answer some questions.\n",
    "\n",
    "To get started, try running the code cell below (by pressing the ► button, or clicking on the cell and pressing ctrl+enter on your keyboard)."
   ]
  },
  {
   "cell_type": "code",
   "execution_count": 1,
   "id": "81f79b98",
   "metadata": {
    "execution": {
     "iopub.execute_input": "2023-08-09T13:05:52.777807Z",
     "iopub.status.busy": "2023-08-09T13:05:52.777328Z",
     "iopub.status.idle": "2023-08-09T13:05:52.788984Z",
     "shell.execute_reply": "2023-08-09T13:05:52.787081Z"
    },
    "papermill": {
     "duration": 0.022828,
     "end_time": "2023-08-09T13:05:52.792456",
     "exception": false,
     "start_time": "2023-08-09T13:05:52.769628",
     "status": "completed"
    },
    "tags": []
   },
   "outputs": [
    {
     "name": "stdout",
     "output_type": "stream",
     "text": [
      "You've successfully run some Python code\n",
      "Congratulations!\n",
      "Hi Elham\n"
     ]
    }
   ],
   "source": [
    "print(\"You've successfully run some Python code\")\n",
    "print(\"Congratulations!\")\n",
    "print(\"Hi Elham\")"
   ]
  },
  {
   "cell_type": "markdown",
   "id": "019863e3",
   "metadata": {
    "papermill": {
     "duration": 0.007804,
     "end_time": "2023-08-09T13:05:52.808847",
     "exception": false,
     "start_time": "2023-08-09T13:05:52.801043",
     "status": "completed"
    },
    "tags": []
   },
   "source": [
    "Try adding another line of code in the cell above and re-running it. \n",
    "\n",
    "Now let's get a little fancier:  Add a new code cell by clicking on an existing code cell, hitting the escape key, and then hitting the `a` or `b` key.  The `a` key will add a cell above the current cell, and `b` adds a cell below.\n",
    "\n",
    "Great! Now you know how to use Notebooks.\n",
    "\n",
    "Each hands-on exercise starts by setting up our feedback and code checking mechanism. Run the code cell below to do that. Then you'll be ready to move on to question 0."
   ]
  },
  {
   "cell_type": "code",
   "execution_count": 2,
   "id": "adebe63d",
   "metadata": {
    "_kg_hide-input": true,
    "_kg_hide-output": true,
    "execution": {
     "iopub.execute_input": "2023-08-09T13:05:52.824576Z",
     "iopub.status.busy": "2023-08-09T13:05:52.824087Z",
     "iopub.status.idle": "2023-08-09T13:05:52.884945Z",
     "shell.execute_reply": "2023-08-09T13:05:52.883173Z"
    },
    "papermill": {
     "duration": 0.072212,
     "end_time": "2023-08-09T13:05:52.888252",
     "exception": false,
     "start_time": "2023-08-09T13:05:52.816040",
     "status": "completed"
    },
    "tags": []
   },
   "outputs": [
    {
     "name": "stdout",
     "output_type": "stream",
     "text": [
      "Setup complete! You're ready to start question 0.\n"
     ]
    }
   ],
   "source": [
    "from learntools.core import binder; binder.bind(globals())\n",
    "from learntools.python.ex1 import *\n",
    "print(\"Setup complete! You're ready to start question 0.\")"
   ]
  },
  {
   "cell_type": "markdown",
   "id": "6a05f94d",
   "metadata": {
    "papermill": {
     "duration": 0.008587,
     "end_time": "2023-08-09T13:05:52.904449",
     "exception": false,
     "start_time": "2023-08-09T13:05:52.895862",
     "status": "completed"
    },
    "tags": []
   },
   "source": [
    "# 0.\n",
    "\n",
    "*This is a silly question intended as an introduction to the format we use for hands-on exercises throughout all Kaggle courses.*\n",
    "\n",
    "**What is your favorite color? **\n",
    "\n",
    "To complete this question, create a variable called `color` in the cell below with an appropriate value. The function call `q0.check()` (which we've already provided in the cell below) will check your answer."
   ]
  },
  {
   "cell_type": "code",
   "execution_count": 3,
   "id": "abdfc7e4",
   "metadata": {
    "execution": {
     "iopub.execute_input": "2023-08-09T13:05:52.925068Z",
     "iopub.status.busy": "2023-08-09T13:05:52.924037Z",
     "iopub.status.idle": "2023-08-09T13:05:52.937517Z",
     "shell.execute_reply": "2023-08-09T13:05:52.936367Z"
    },
    "papermill": {
     "duration": 0.026667,
     "end_time": "2023-08-09T13:05:52.939796",
     "exception": false,
     "start_time": "2023-08-09T13:05:52.913129",
     "status": "completed"
    },
    "tags": []
   },
   "outputs": [
    {
     "data": {
      "application/javascript": [
       "parent.postMessage({\"jupyterEvent\": \"custom.exercise_interaction\", \"data\": {\"outcomeType\": 1, \"valueTowardsCompletion\": 0.25, \"interactionType\": 1, \"questionType\": 2, \"questionId\": \"0_ExerciseFormatTutorial\", \"learnToolsVersion\": \"0.3.4\", \"failureMessage\": \"\", \"exceptionClass\": \"\", \"trace\": \"\"}}, \"*\")"
      ],
      "text/plain": [
       "<IPython.core.display.Javascript object>"
      ]
     },
     "metadata": {},
     "output_type": "display_data"
    },
    {
     "data": {
      "text/markdown": [
       "<span style=\"color:#33cc33\">Correct:</span> What?! You got it right without needing a hint or anything? Drats. Well hey, you should still continue to the next step to get some practice asking for a hint and checking solutions. (Even though you obviously don't need any help here.)"
      ],
      "text/plain": [
       "Correct: What?! You got it right without needing a hint or anything? Drats. Well hey, you should still continue to the next step to get some practice asking for a hint and checking solutions. (Even though you obviously don't need any help here.)"
      ]
     },
     "metadata": {},
     "output_type": "display_data"
    }
   ],
   "source": [
    "# create a variable called color with an appropriate value on the line below\n",
    "# (Remember, strings in Python must be enclosed in 'single' or \"double\" quotes)\n",
    "____\n",
    "color = \"blue\"\n",
    "#Check your answer\n",
    "q0.check()"
   ]
  },
  {
   "cell_type": "markdown",
   "id": "6f65863c",
   "metadata": {
    "papermill": {
     "duration": 0.007039,
     "end_time": "2023-08-09T13:05:52.955564",
     "exception": false,
     "start_time": "2023-08-09T13:05:52.948525",
     "status": "completed"
    },
    "tags": []
   },
   "source": [
    "Didn't get the right answer? How do you not even know your own favorite color?!\n",
    "\n",
    "Delete the `#` in the line below to make one of the lines run. You can choose between getting a hint or the full answer by choosing which line to remove the `#` from. \n",
    "\n",
    "Removing the `#` is called uncommenting, because it changes that line from a \"comment\" which Python doesn't run to code, which Python does run."
   ]
  },
  {
   "cell_type": "code",
   "execution_count": 4,
   "id": "c844299b",
   "metadata": {
    "execution": {
     "iopub.execute_input": "2023-08-09T13:05:52.974283Z",
     "iopub.status.busy": "2023-08-09T13:05:52.971874Z",
     "iopub.status.idle": "2023-08-09T13:05:52.981635Z",
     "shell.execute_reply": "2023-08-09T13:05:52.980695Z"
    },
    "papermill": {
     "duration": 0.020725,
     "end_time": "2023-08-09T13:05:52.983959",
     "exception": false,
     "start_time": "2023-08-09T13:05:52.963234",
     "status": "completed"
    },
    "tags": []
   },
   "outputs": [
    {
     "data": {
      "application/javascript": [
       "parent.postMessage({\"jupyterEvent\": \"custom.exercise_interaction\", \"data\": {\"interactionType\": 3, \"questionType\": 2, \"questionId\": \"0_ExerciseFormatTutorial\", \"learnToolsVersion\": \"0.3.4\", \"valueTowardsCompletion\": 0.0, \"failureMessage\": \"\", \"exceptionClass\": \"\", \"trace\": \"\", \"outcomeType\": 4}}, \"*\")"
      ],
      "text/plain": [
       "<IPython.core.display.Javascript object>"
      ]
     },
     "metadata": {},
     "output_type": "display_data"
    },
    {
     "data": {
      "text/markdown": [
       "<span style=\"color:#33cc99\">Solution:</span> \n",
       "```python\n",
       "color = \"blue\"\n",
       "```"
      ],
      "text/plain": [
       "Solution: \n",
       "```python\n",
       "color = \"blue\"\n",
       "```"
      ]
     },
     "metadata": {},
     "output_type": "display_data"
    }
   ],
   "source": [
    "#q0.hint()\n",
    "q0.solution()"
   ]
  },
  {
   "cell_type": "markdown",
   "id": "5dd894b9",
   "metadata": {
    "papermill": {
     "duration": 0.007258,
     "end_time": "2023-08-09T13:05:52.998570",
     "exception": false,
     "start_time": "2023-08-09T13:05:52.991312",
     "status": "completed"
    },
    "tags": []
   },
   "source": [
    "The upcoming questions work the same way. The only thing that will change are the question numbers. For the next question, you'll call `q1.check()`, `q1.hint()`, `q1.solution()`, for question 2, you'll call `q2.check()`, and so on."
   ]
  },
  {
   "cell_type": "markdown",
   "id": "cdb91d21",
   "metadata": {
    "papermill": {
     "duration": 0.007222,
     "end_time": "2023-08-09T13:05:53.013795",
     "exception": false,
     "start_time": "2023-08-09T13:05:53.006573",
     "status": "completed"
    },
    "tags": []
   },
   "source": [
    "<hr/>\n",
    "\n",
    "# 1.\n",
    "\n",
    "Complete the code below. In case it's helpful, here is the table of available arithmetic operations:\n",
    "\n",
    "\n",
    "\n",
    "| Operator     | Name           | Description                                            |\n",
    "|--------------|----------------|--------------------------------------------------------|\n",
    "| ``a + b``    | Addition       | Sum of ``a`` and ``b``                                 |\n",
    "| ``a - b``    | Subtraction    | Difference of ``a`` and ``b``                          |\n",
    "| ``a * b``    | Multiplication | Product of ``a`` and ``b``                             |\n",
    "| ``a / b``    | True division  | Quotient of ``a`` and ``b``                            |\n",
    "| ``a // b``   | Floor division | Quotient of ``a`` and ``b``, removing fractional parts |\n",
    "| ``a % b``    | Modulus        | Integer remainder after division of ``a`` by ``b``     |\n",
    "| ``a ** b``   | Exponentiation | ``a`` raised to the power of ``b``                     |\n",
    "| ``-a``       | Negation       | The negative of ``a``                                  |\n",
    "\n",
    "<span style=\"display:none\"></span>\n"
   ]
  },
  {
   "cell_type": "code",
   "execution_count": 5,
   "id": "c051f2a0",
   "metadata": {
    "execution": {
     "iopub.execute_input": "2023-08-09T13:05:53.034733Z",
     "iopub.status.busy": "2023-08-09T13:05:53.033913Z",
     "iopub.status.idle": "2023-08-09T13:05:53.041454Z",
     "shell.execute_reply": "2023-08-09T13:05:53.040004Z"
    },
    "papermill": {
     "duration": 0.021315,
     "end_time": "2023-08-09T13:05:53.044007",
     "exception": false,
     "start_time": "2023-08-09T13:05:53.022692",
     "status": "completed"
    },
    "tags": []
   },
   "outputs": [
    {
     "data": {
      "text/markdown": [],
      "text/plain": [
       "<learntools.core.constants.PlaceholderValue at 0x7dfea815c460>"
      ]
     },
     "execution_count": 5,
     "metadata": {},
     "output_type": "execute_result"
    }
   ],
   "source": [
    "pi = 3.14159 # approximate\n",
    "diameter = 3\n",
    "redius = diameter/ 2\n",
    "redius = 1.5\n",
    "# Create a variable called 'radius' equal to half the diameter\n",
    "____\n",
    "\n",
    "\n",
    "area = pi * redius** 2\n",
    "# Create a variable called 'area', using the formula for the area of a circle: pi times the radius squared\n",
    "____\n",
    "\n",
    "# Check your answer\n",
    "#q1.check()"
   ]
  },
  {
   "cell_type": "code",
   "execution_count": 6,
   "id": "fa81d1fd",
   "metadata": {
    "execution": {
     "iopub.execute_input": "2023-08-09T13:05:53.062268Z",
     "iopub.status.busy": "2023-08-09T13:05:53.061611Z",
     "iopub.status.idle": "2023-08-09T13:05:53.069911Z",
     "shell.execute_reply": "2023-08-09T13:05:53.069173Z"
    },
    "papermill": {
     "duration": 0.019878,
     "end_time": "2023-08-09T13:05:53.072472",
     "exception": false,
     "start_time": "2023-08-09T13:05:53.052594",
     "status": "completed"
    },
    "tags": []
   },
   "outputs": [
    {
     "data": {
      "application/javascript": [
       "parent.postMessage({\"jupyterEvent\": \"custom.exercise_interaction\", \"data\": {\"interactionType\": 3, \"questionType\": 1, \"questionId\": \"1_CircleArea\", \"learnToolsVersion\": \"0.3.4\", \"valueTowardsCompletion\": 0.0, \"failureMessage\": \"\", \"exceptionClass\": \"\", \"trace\": \"\", \"outcomeType\": 4}}, \"*\")"
      ],
      "text/plain": [
       "<IPython.core.display.Javascript object>"
      ]
     },
     "metadata": {},
     "output_type": "display_data"
    },
    {
     "data": {
      "text/markdown": [
       "<span style=\"color:#33cc99\">Solution:</span> \n",
       "```python\n",
       "radius = diameter / 2\n",
       "area = pi * radius ** 2\n",
       "```"
      ],
      "text/plain": [
       "Solution: \n",
       "```python\n",
       "radius = diameter / 2\n",
       "area = pi * radius ** 2\n",
       "```"
      ]
     },
     "metadata": {},
     "output_type": "display_data"
    }
   ],
   "source": [
    "# Uncomment and run the lines below if you need help.\n",
    "#q1.hint()\n",
    "q1.solution()"
   ]
  },
  {
   "cell_type": "markdown",
   "id": "58147de8",
   "metadata": {
    "papermill": {
     "duration": 0.007902,
     "end_time": "2023-08-09T13:05:53.087832",
     "exception": false,
     "start_time": "2023-08-09T13:05:53.079930",
     "status": "completed"
    },
    "tags": []
   },
   "source": [
    "<hr/>\n",
    "\n",
    "# 2.\n",
    "\n",
    "Add code to the following cell to swap variables `a` and `b` (so that `a` refers to the object previously referred to by `b` and vice versa)."
   ]
  },
  {
   "cell_type": "code",
   "execution_count": 7,
   "id": "ab8fc859",
   "metadata": {
    "execution": {
     "iopub.execute_input": "2023-08-09T13:05:53.105703Z",
     "iopub.status.busy": "2023-08-09T13:05:53.105025Z",
     "iopub.status.idle": "2023-08-09T13:05:53.114606Z",
     "shell.execute_reply": "2023-08-09T13:05:53.112672Z"
    },
    "papermill": {
     "duration": 0.021186,
     "end_time": "2023-08-09T13:05:53.117134",
     "exception": false,
     "start_time": "2023-08-09T13:05:53.095948",
     "status": "completed"
    },
    "tags": []
   },
   "outputs": [
    {
     "data": {
      "application/javascript": [
       "parent.postMessage({\"jupyterEvent\": \"custom.exercise_interaction\", \"data\": {\"outcomeType\": 1, \"valueTowardsCompletion\": 0.25, \"interactionType\": 1, \"questionType\": 2, \"questionId\": \"2_VariableSwap\", \"learnToolsVersion\": \"0.3.4\", \"failureMessage\": \"\", \"exceptionClass\": \"\", \"trace\": \"\"}}, \"*\")"
      ],
      "text/plain": [
       "<IPython.core.display.Javascript object>"
      ]
     },
     "metadata": {},
     "output_type": "display_data"
    },
    {
     "data": {
      "text/markdown": [
       "<span style=\"color:#33cc33\">Correct:</span> \n",
       "\n",
       "The most straightforward solution is to use a third variable to temporarily store one of the old values. e.g.:\n",
       "\n",
       "    tmp = a\n",
       "    a = b\n",
       "    b = tmp\n",
       "\n",
       "If you've read lots of Python code, you might have seen the following trick to swap two variables in one line:\n",
       "\n",
       "    a, b = b, a\n",
       "\n",
       "We'll demystify this bit of Python magic later when we talk about *tuples*."
      ],
      "text/plain": [
       "Correct: \n",
       "\n",
       "The most straightforward solution is to use a third variable to temporarily store one of the old values. e.g.:\n",
       "\n",
       "    tmp = a\n",
       "    a = b\n",
       "    b = tmp\n",
       "\n",
       "If you've read lots of Python code, you might have seen the following trick to swap two variables in one line:\n",
       "\n",
       "    a, b = b, a\n",
       "\n",
       "We'll demystify this bit of Python magic later when we talk about *tuples*."
      ]
     },
     "metadata": {},
     "output_type": "display_data"
    }
   ],
   "source": [
    "########### Setup code - don't touch this part ######################\n",
    "# If you're curious, these are examples of lists. We'll talk about \n",
    "# them in depth a few lessons from now. For now, just know that they're\n",
    "# yet another type of Python object, like int or float.\n",
    "a = [1, 2, 3]\n",
    "b = [3, 2, 1]\n",
    "q2.store_original_ids()\n",
    "######################################################################\n",
    "tmp = a\n",
    "a = b\n",
    "b = tmp\n",
    "# Your code goes here. Swap the values to which a and b refer.\n",
    "# If you get stuck, you can always uncomment one or both of the lines in\n",
    "# the next cell for a hint, or to peek at the solution.\n",
    "\n",
    "######################################################################\n",
    "\n",
    "# Check your answer\n",
    "q2.check()"
   ]
  },
  {
   "cell_type": "code",
   "execution_count": 8,
   "id": "39b0b1ed",
   "metadata": {
    "execution": {
     "iopub.execute_input": "2023-08-09T13:05:53.133537Z",
     "iopub.status.busy": "2023-08-09T13:05:53.133147Z",
     "iopub.status.idle": "2023-08-09T13:05:53.138848Z",
     "shell.execute_reply": "2023-08-09T13:05:53.137366Z"
    },
    "papermill": {
     "duration": 0.018389,
     "end_time": "2023-08-09T13:05:53.143006",
     "exception": false,
     "start_time": "2023-08-09T13:05:53.124617",
     "status": "completed"
    },
    "tags": []
   },
   "outputs": [],
   "source": [
    "#q2.hint()"
   ]
  },
  {
   "cell_type": "code",
   "execution_count": 9,
   "id": "679c5b5e",
   "metadata": {
    "execution": {
     "iopub.execute_input": "2023-08-09T13:05:53.159805Z",
     "iopub.status.busy": "2023-08-09T13:05:53.159329Z",
     "iopub.status.idle": "2023-08-09T13:05:53.168689Z",
     "shell.execute_reply": "2023-08-09T13:05:53.167543Z"
    },
    "papermill": {
     "duration": 0.020475,
     "end_time": "2023-08-09T13:05:53.171151",
     "exception": false,
     "start_time": "2023-08-09T13:05:53.150676",
     "status": "completed"
    },
    "tags": []
   },
   "outputs": [
    {
     "data": {
      "application/javascript": [
       "parent.postMessage({\"jupyterEvent\": \"custom.exercise_interaction\", \"data\": {\"interactionType\": 3, \"questionType\": 2, \"questionId\": \"2_VariableSwap\", \"learnToolsVersion\": \"0.3.4\", \"valueTowardsCompletion\": 0.0, \"failureMessage\": \"\", \"exceptionClass\": \"\", \"trace\": \"\", \"outcomeType\": 4}}, \"*\")"
      ],
      "text/plain": [
       "<IPython.core.display.Javascript object>"
      ]
     },
     "metadata": {},
     "output_type": "display_data"
    },
    {
     "data": {
      "text/markdown": [
       "<span style=\"color:#33cc99\">Solution:</span> The most straightforward solution is to use a third variable to temporarily store one of the old values. e.g.:\n",
       "\n",
       "    tmp = a\n",
       "    a = b\n",
       "    b = tmp\n",
       "\n",
       "If you've read lots of Python code, you might have seen the following trick to swap two variables in one line:\n",
       "\n",
       "    a, b = b, a\n",
       "\n",
       "We'll demystify this bit of Python magic later when we talk about *tuples*."
      ],
      "text/plain": [
       "Solution: The most straightforward solution is to use a third variable to temporarily store one of the old values. e.g.:\n",
       "\n",
       "    tmp = a\n",
       "    a = b\n",
       "    b = tmp\n",
       "\n",
       "If you've read lots of Python code, you might have seen the following trick to swap two variables in one line:\n",
       "\n",
       "    a, b = b, a\n",
       "\n",
       "We'll demystify this bit of Python magic later when we talk about *tuples*."
      ]
     },
     "metadata": {},
     "output_type": "display_data"
    }
   ],
   "source": [
    "q2.solution()"
   ]
  },
  {
   "cell_type": "markdown",
   "id": "5b4b70cc",
   "metadata": {
    "papermill": {
     "duration": 0.008496,
     "end_time": "2023-08-09T13:05:53.188020",
     "exception": false,
     "start_time": "2023-08-09T13:05:53.179524",
     "status": "completed"
    },
    "tags": []
   },
   "source": [
    "<hr/>\n",
    "\n",
    "# 3a.\n",
    "\n",
    "Add parentheses to the following expression so that it evaluates to 1."
   ]
  },
  {
   "cell_type": "code",
   "execution_count": 10,
   "id": "9748261e",
   "metadata": {
    "execution": {
     "iopub.execute_input": "2023-08-09T13:05:53.209239Z",
     "iopub.status.busy": "2023-08-09T13:05:53.208815Z",
     "iopub.status.idle": "2023-08-09T13:05:53.217848Z",
     "shell.execute_reply": "2023-08-09T13:05:53.215576Z"
    },
    "papermill": {
     "duration": 0.025018,
     "end_time": "2023-08-09T13:05:53.221377",
     "exception": false,
     "start_time": "2023-08-09T13:05:53.196359",
     "status": "completed"
    },
    "tags": []
   },
   "outputs": [
    {
     "data": {
      "text/plain": [
       "1"
      ]
     },
     "execution_count": 10,
     "metadata": {},
     "output_type": "execute_result"
    }
   ],
   "source": [
    "(5 - 3) // 2"
   ]
  },
  {
   "cell_type": "code",
   "execution_count": 11,
   "id": "243dc408",
   "metadata": {
    "execution": {
     "iopub.execute_input": "2023-08-09T13:05:53.242559Z",
     "iopub.status.busy": "2023-08-09T13:05:53.242105Z",
     "iopub.status.idle": "2023-08-09T13:05:53.249335Z",
     "shell.execute_reply": "2023-08-09T13:05:53.247527Z"
    },
    "papermill": {
     "duration": 0.020714,
     "end_time": "2023-08-09T13:05:53.252657",
     "exception": false,
     "start_time": "2023-08-09T13:05:53.231943",
     "status": "completed"
    },
    "tags": []
   },
   "outputs": [],
   "source": [
    "#q3.a.hint()"
   ]
  },
  {
   "cell_type": "code",
   "execution_count": 12,
   "id": "26626300",
   "metadata": {
    "execution": {
     "iopub.execute_input": "2023-08-09T13:05:53.272517Z",
     "iopub.status.busy": "2023-08-09T13:05:53.272106Z",
     "iopub.status.idle": "2023-08-09T13:05:53.284926Z",
     "shell.execute_reply": "2023-08-09T13:05:53.283208Z"
    },
    "papermill": {
     "duration": 0.025523,
     "end_time": "2023-08-09T13:05:53.287863",
     "exception": false,
     "start_time": "2023-08-09T13:05:53.262340",
     "status": "completed"
    },
    "tags": []
   },
   "outputs": [
    {
     "data": {
      "application/javascript": [
       "parent.postMessage({\"jupyterEvent\": \"custom.exercise_interaction\", \"data\": {\"interactionType\": 3, \"questionType\": 4, \"questionId\": \"3.1_ArithmeticParensEasy\", \"learnToolsVersion\": \"0.3.4\", \"valueTowardsCompletion\": 0.0, \"failureMessage\": \"\", \"exceptionClass\": \"\", \"trace\": \"\", \"outcomeType\": 4}}, \"*\")"
      ],
      "text/plain": [
       "<IPython.core.display.Javascript object>"
      ]
     },
     "metadata": {},
     "output_type": "display_data"
    },
    {
     "data": {
      "text/markdown": [
       "<span style=\"color:#33cc99\">Solution:</span> \n",
       "```python\n",
       "(5 - 3) // 2\n",
       "```"
      ],
      "text/plain": [
       "Solution: \n",
       "```python\n",
       "(5 - 3) // 2\n",
       "```"
      ]
     },
     "metadata": {},
     "output_type": "display_data"
    }
   ],
   "source": [
    "# Check your answer (Run this code cell to receive credit!)\n",
    "q3.a.solution()"
   ]
  },
  {
   "cell_type": "markdown",
   "id": "cba263fd",
   "metadata": {
    "papermill": {
     "duration": 0.008369,
     "end_time": "2023-08-09T13:05:53.305242",
     "exception": false,
     "start_time": "2023-08-09T13:05:53.296873",
     "status": "completed"
    },
    "tags": []
   },
   "source": [
    "# 3b.  <span title=\"A bit spicy\" style=\"color: darkgreen \">🌶️</span>\n",
    "\n",
    "<small>Questions, like this one, marked a spicy pepper are a bit harder.</small>\n",
    "\n",
    "Add parentheses to the following expression so that it evaluates to 0."
   ]
  },
  {
   "cell_type": "code",
   "execution_count": 13,
   "id": "363017bb",
   "metadata": {
    "execution": {
     "iopub.execute_input": "2023-08-09T13:05:53.324306Z",
     "iopub.status.busy": "2023-08-09T13:05:53.323920Z",
     "iopub.status.idle": "2023-08-09T13:05:53.331455Z",
     "shell.execute_reply": "2023-08-09T13:05:53.329925Z"
    },
    "papermill": {
     "duration": 0.019933,
     "end_time": "2023-08-09T13:05:53.333655",
     "exception": false,
     "start_time": "2023-08-09T13:05:53.313722",
     "status": "completed"
    },
    "tags": []
   },
   "outputs": [
    {
     "data": {
      "text/plain": [
       "0"
      ]
     },
     "execution_count": 13,
     "metadata": {},
     "output_type": "execute_result"
    }
   ],
   "source": [
    "8 - (3 * 2) -( 1 + 1)"
   ]
  },
  {
   "cell_type": "code",
   "execution_count": 14,
   "id": "6303baff",
   "metadata": {
    "execution": {
     "iopub.execute_input": "2023-08-09T13:05:53.352175Z",
     "iopub.status.busy": "2023-08-09T13:05:53.351768Z",
     "iopub.status.idle": "2023-08-09T13:05:53.357637Z",
     "shell.execute_reply": "2023-08-09T13:05:53.356439Z"
    },
    "papermill": {
     "duration": 0.01873,
     "end_time": "2023-08-09T13:05:53.360619",
     "exception": false,
     "start_time": "2023-08-09T13:05:53.341889",
     "status": "completed"
    },
    "tags": []
   },
   "outputs": [],
   "source": [
    "#q3.b.hint()"
   ]
  },
  {
   "cell_type": "code",
   "execution_count": 15,
   "id": "22301060",
   "metadata": {
    "execution": {
     "iopub.execute_input": "2023-08-09T13:05:53.378514Z",
     "iopub.status.busy": "2023-08-09T13:05:53.378120Z",
     "iopub.status.idle": "2023-08-09T13:05:53.390828Z",
     "shell.execute_reply": "2023-08-09T13:05:53.388791Z"
    },
    "papermill": {
     "duration": 0.024828,
     "end_time": "2023-08-09T13:05:53.393622",
     "exception": false,
     "start_time": "2023-08-09T13:05:53.368794",
     "status": "completed"
    },
    "tags": []
   },
   "outputs": [
    {
     "data": {
      "application/javascript": [
       "parent.postMessage({\"jupyterEvent\": \"custom.exercise_interaction\", \"data\": {\"interactionType\": 3, \"questionType\": 4, \"questionId\": \"3.2_ArithmeticParensHard\", \"learnToolsVersion\": \"0.3.4\", \"valueTowardsCompletion\": 0.0, \"failureMessage\": \"\", \"exceptionClass\": \"\", \"trace\": \"\", \"outcomeType\": 4}}, \"*\")"
      ],
      "text/plain": [
       "<IPython.core.display.Javascript object>"
      ]
     },
     "metadata": {},
     "output_type": "display_data"
    },
    {
     "data": {
      "text/markdown": [
       "<span style=\"color:#33cc99\">Solution:</span> `(8 - 3) * (2 - (1 + 1))` is one solution. There may be others."
      ],
      "text/plain": [
       "Solution: `(8 - 3) * (2 - (1 + 1))` is one solution. There may be others."
      ]
     },
     "metadata": {},
     "output_type": "display_data"
    }
   ],
   "source": [
    "# Check your answer (Run this code cell to receive credit!)\n",
    "q3.b.solution()"
   ]
  },
  {
   "cell_type": "markdown",
   "id": "f9207bed",
   "metadata": {
    "papermill": {
     "duration": 0.008481,
     "end_time": "2023-08-09T13:05:53.411505",
     "exception": false,
     "start_time": "2023-08-09T13:05:53.403024",
     "status": "completed"
    },
    "tags": []
   },
   "source": [
    "<hr/>\n",
    "\n",
    "# 4. \n",
    "Alice, Bob and Carol have agreed to pool their Halloween candy and split it evenly among themselves.\n",
    "For the sake of their friendship, any candies left over will be smashed. For example, if they collectively\n",
    "bring home 91 candies, they'll take 30 each and smash 1.\n",
    "\n",
    "Write an arithmetic expression below to calculate how many candies they must smash for a given haul."
   ]
  },
  {
   "cell_type": "code",
   "execution_count": 16,
   "id": "59783bd6",
   "metadata": {
    "execution": {
     "iopub.execute_input": "2023-08-09T13:05:53.431856Z",
     "iopub.status.busy": "2023-08-09T13:05:53.431205Z",
     "iopub.status.idle": "2023-08-09T13:05:53.444732Z",
     "shell.execute_reply": "2023-08-09T13:05:53.442915Z"
    },
    "papermill": {
     "duration": 0.027285,
     "end_time": "2023-08-09T13:05:53.448025",
     "exception": false,
     "start_time": "2023-08-09T13:05:53.420740",
     "status": "completed"
    },
    "tags": []
   },
   "outputs": [
    {
     "data": {
      "application/javascript": [
       "parent.postMessage({\"jupyterEvent\": \"custom.exercise_interaction\", \"data\": {\"outcomeType\": 4, \"interactionType\": 1, \"questionType\": 1, \"questionId\": \"4_CandySplitting\", \"learnToolsVersion\": \"0.3.4\", \"valueTowardsCompletion\": 0.0, \"failureMessage\": \"\", \"exceptionClass\": \"\", \"trace\": \"\"}}, \"*\")"
      ],
      "text/plain": [
       "<IPython.core.display.Javascript object>"
      ]
     },
     "metadata": {},
     "output_type": "display_data"
    },
    {
     "data": {
      "text/markdown": [
       "<span style=\"color:#ccaa33\">Check:</span> When you've updated the starter code, `check()` will tell you whether your code is correct. You need to update the code that creates variable `to_smash`"
      ],
      "text/plain": [
       "Check: When you've updated the starter code, `check()` will tell you whether your code is correct. You need to update the code that creates variable `to_smash`"
      ]
     },
     "metadata": {},
     "output_type": "display_data"
    }
   ],
   "source": [
    "# Variables representing the number of candies collected by alice, bob, and carol\n",
    "alice_candies = 121\n",
    "bob_candies = 77\n",
    "carol_candies = 109\n",
    "\n",
    "# Your code goes here! Replace the right-hand side of this assignment with an expression\n",
    "# involving alice_candies, bob_candies, and carol_candies\n",
    "to_smash = -1\n",
    "(alice_candies + bob_candies + carol_candies) % 3\n",
    "# Check your answer\n",
    "q4.check()"
   ]
  },
  {
   "cell_type": "code",
   "execution_count": 17,
   "id": "9a09cde4",
   "metadata": {
    "execution": {
     "iopub.execute_input": "2023-08-09T13:05:53.468272Z",
     "iopub.status.busy": "2023-08-09T13:05:53.467499Z",
     "iopub.status.idle": "2023-08-09T13:05:53.474286Z",
     "shell.execute_reply": "2023-08-09T13:05:53.473079Z"
    },
    "papermill": {
     "duration": 0.019736,
     "end_time": "2023-08-09T13:05:53.477028",
     "exception": false,
     "start_time": "2023-08-09T13:05:53.457292",
     "status": "completed"
    },
    "tags": []
   },
   "outputs": [
    {
     "data": {
      "application/javascript": [
       "parent.postMessage({\"jupyterEvent\": \"custom.exercise_interaction\", \"data\": {\"interactionType\": 3, \"questionType\": 1, \"questionId\": \"4_CandySplitting\", \"learnToolsVersion\": \"0.3.4\", \"valueTowardsCompletion\": 0.0, \"failureMessage\": \"\", \"exceptionClass\": \"\", \"trace\": \"\", \"outcomeType\": 4}}, \"*\")"
      ],
      "text/plain": [
       "<IPython.core.display.Javascript object>"
      ]
     },
     "metadata": {},
     "output_type": "display_data"
    },
    {
     "data": {
      "text/markdown": [
       "<span style=\"color:#33cc99\">Solution:</span> \n",
       "```python\n",
       "(alice_candies + bob_candies + carol_candies) % 3\n",
       "```"
      ],
      "text/plain": [
       "Solution: \n",
       "```python\n",
       "(alice_candies + bob_candies + carol_candies) % 3\n",
       "```"
      ]
     },
     "metadata": {},
     "output_type": "display_data"
    }
   ],
   "source": [
    "#q4.hint()\n",
    "q4.solution()"
   ]
  },
  {
   "cell_type": "markdown",
   "id": "224dbad2",
   "metadata": {
    "papermill": {
     "duration": 0.008803,
     "end_time": "2023-08-09T13:05:53.495381",
     "exception": false,
     "start_time": "2023-08-09T13:05:53.486578",
     "status": "completed"
    },
    "tags": []
   },
   "source": [
    "# Keep Going\n",
    "\n",
    "Next up, you'll **[learn to write new functions and understand functions others write](https://www.kaggle.com/colinmorris/functions-and-getting-help)**. This will make you at least 10 times more productive as a Python programmer. "
   ]
  },
  {
   "cell_type": "markdown",
   "id": "61e0f6a8",
   "metadata": {
    "papermill": {
     "duration": 0.008424,
     "end_time": "2023-08-09T13:05:53.512980",
     "exception": false,
     "start_time": "2023-08-09T13:05:53.504556",
     "status": "completed"
    },
    "tags": []
   },
   "source": [
    "---\n",
    "\n",
    "\n",
    "\n",
    "\n",
    "*Have questions or comments? Visit the [course discussion forum](https://www.kaggle.com/learn/python/discussion) to chat with other learners.*"
   ]
  }
 ],
 "metadata": {
  "kernelspec": {
   "display_name": "Python 3",
   "language": "python",
   "name": "python3"
  },
  "language_info": {
   "codemirror_mode": {
    "name": "ipython",
    "version": 3
   },
   "file_extension": ".py",
   "mimetype": "text/x-python",
   "name": "python",
   "nbconvert_exporter": "python",
   "pygments_lexer": "ipython3",
   "version": "3.10.12"
  },
  "papermill": {
   "default_parameters": {},
   "duration": 11.861914,
   "end_time": "2023-08-09T13:05:54.446774",
   "environment_variables": {},
   "exception": null,
   "input_path": "__notebook__.ipynb",
   "output_path": "__notebook__.ipynb",
   "parameters": {},
   "start_time": "2023-08-09T13:05:42.584860",
   "version": "2.4.0"
  }
 },
 "nbformat": 4,
 "nbformat_minor": 5
}
