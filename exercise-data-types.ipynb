{
 "cells": [
  {
   "cell_type": "markdown",
   "id": "86d1fa68",
   "metadata": {
    "papermill": {
     "duration": 0.008974,
     "end_time": "2023-08-03T01:58:10.108504",
     "exception": false,
     "start_time": "2023-08-03T01:58:10.099530",
     "status": "completed"
    },
    "tags": []
   },
   "source": [
    "**This notebook is an exercise in the [Intro to Programming](https://www.kaggle.com/learn/intro-to-programming) course.  You can reference the tutorial at [this link](https://www.kaggle.com/alexisbcook/data-types).**\n",
    "\n",
    "---\n"
   ]
  },
  {
   "cell_type": "markdown",
   "id": "015ec4cd",
   "metadata": {
    "papermill": {
     "duration": 0.008279,
     "end_time": "2023-08-03T01:58:10.125543",
     "exception": false,
     "start_time": "2023-08-03T01:58:10.117264",
     "status": "completed"
    },
    "tags": []
   },
   "source": [
    "In the tutorial, you learned about four different data types: floats, integers, strings, and booleans.  In this exercise, you'll experiment with them.\n",
    "\n",
    "# Set up the notebook\n",
    "\n",
    "Run the next code cell without changes to set up the notebook."
   ]
  },
  {
   "cell_type": "code",
   "execution_count": 1,
   "id": "51187a00",
   "metadata": {
    "execution": {
     "iopub.execute_input": "2023-08-03T01:58:10.145869Z",
     "iopub.status.busy": "2023-08-03T01:58:10.144859Z",
     "iopub.status.idle": "2023-08-03T01:58:10.210047Z",
     "shell.execute_reply": "2023-08-03T01:58:10.208678Z"
    },
    "papermill": {
     "duration": 0.07904,
     "end_time": "2023-08-03T01:58:10.213113",
     "exception": false,
     "start_time": "2023-08-03T01:58:10.134073",
     "status": "completed"
    },
    "tags": []
   },
   "outputs": [
    {
     "name": "stdout",
     "output_type": "stream",
     "text": [
      "Setup complete.\n"
     ]
    }
   ],
   "source": [
    "# Set up the exercise\n",
    "from learntools.core import binder\n",
    "binder.bind(globals())\n",
    "from learntools.intro_to_programming.ex3 import *\n",
    "print('Setup complete.')"
   ]
  },
  {
   "cell_type": "markdown",
   "id": "542d0be4",
   "metadata": {
    "papermill": {
     "duration": 0.008288,
     "end_time": "2023-08-03T01:58:10.230312",
     "exception": false,
     "start_time": "2023-08-03T01:58:10.222024",
     "status": "completed"
    },
    "tags": []
   },
   "source": [
    "# Question 1\n",
    "\n",
    "You have seen how to convert a float to an integer with the `int` function.  Try this out yourself by running the code cell below."
   ]
  },
  {
   "cell_type": "code",
   "execution_count": 2,
   "id": "25488e2e",
   "metadata": {
    "execution": {
     "iopub.execute_input": "2023-08-03T01:58:10.249910Z",
     "iopub.status.busy": "2023-08-03T01:58:10.249143Z",
     "iopub.status.idle": "2023-08-03T01:58:10.256328Z",
     "shell.execute_reply": "2023-08-03T01:58:10.254648Z"
    },
    "papermill": {
     "duration": 0.020177,
     "end_time": "2023-08-03T01:58:10.259008",
     "exception": false,
     "start_time": "2023-08-03T01:58:10.238831",
     "status": "completed"
    },
    "tags": []
   },
   "outputs": [
    {
     "name": "stdout",
     "output_type": "stream",
     "text": [
      "1.0\n",
      "<class 'float'>\n",
      "1\n",
      "<class 'int'>\n"
     ]
    }
   ],
   "source": [
    "# Define a float\n",
    "y = 1.\n",
    "print(y)\n",
    "print(type(y))\n",
    "\n",
    "# Convert float to integer with the int function\n",
    "z = int(y)\n",
    "print(z)\n",
    "print(type(z))"
   ]
  },
  {
   "cell_type": "markdown",
   "id": "a5f28bbf",
   "metadata": {
    "papermill": {
     "duration": 0.008327,
     "end_time": "2023-08-03T01:58:10.276049",
     "exception": false,
     "start_time": "2023-08-03T01:58:10.267722",
     "status": "completed"
    },
    "tags": []
   },
   "source": [
    "In this case, the float you are using has no numbers after the decimal.  \n",
    "- But what happens when you try to convert a float with a fractional part to an integer?  \n",
    "- How does the outcome of the `int` function change for positive and negative numbers?\n",
    "\n",
    "Use the next code cell to investigate and answer these questions.  Feel free to add or remove any lines of code -- it is your workspace!"
   ]
  },
  {
   "cell_type": "code",
   "execution_count": 3,
   "id": "190e6371",
   "metadata": {
    "execution": {
     "iopub.execute_input": "2023-08-03T01:58:10.296898Z",
     "iopub.status.busy": "2023-08-03T01:58:10.296437Z",
     "iopub.status.idle": "2023-08-03T01:58:10.303859Z",
     "shell.execute_reply": "2023-08-03T01:58:10.302443Z"
    },
    "papermill": {
     "duration": 0.020717,
     "end_time": "2023-08-03T01:58:10.306925",
     "exception": false,
     "start_time": "2023-08-03T01:58:10.286208",
     "status": "completed"
    },
    "tags": []
   },
   "outputs": [
    {
     "name": "stdout",
     "output_type": "stream",
     "text": [
      "1\n",
      "1\n",
      "-3\n",
      "-2\n"
     ]
    }
   ],
   "source": [
    "# Uncomment and run this code to get started!\n",
    "print(int(1.2321))\n",
    "print(int(1.747))\n",
    "print(int(-3.94535))\n",
    "print(int(-2.19774))"
   ]
  },
  {
   "cell_type": "markdown",
   "id": "03efba8b",
   "metadata": {
    "papermill": {
     "duration": 0.00861,
     "end_time": "2023-08-03T01:58:10.324680",
     "exception": false,
     "start_time": "2023-08-03T01:58:10.316070",
     "status": "completed"
    },
    "tags": []
   },
   "source": [
    "Once you have an answer, run the code cell below to see the solution.  Viewing the solution will give you credit for answering the problem."
   ]
  },
  {
   "cell_type": "code",
   "execution_count": 4,
   "id": "8c3512ec",
   "metadata": {
    "execution": {
     "iopub.execute_input": "2023-08-03T01:58:10.345544Z",
     "iopub.status.busy": "2023-08-03T01:58:10.345129Z",
     "iopub.status.idle": "2023-08-03T01:58:10.354376Z",
     "shell.execute_reply": "2023-08-03T01:58:10.353477Z"
    },
    "papermill": {
     "duration": 0.022382,
     "end_time": "2023-08-03T01:58:10.356447",
     "exception": false,
     "start_time": "2023-08-03T01:58:10.334065",
     "status": "completed"
    },
    "tags": []
   },
   "outputs": [
    {
     "data": {
      "application/javascript": [
       "parent.postMessage({\"jupyterEvent\": \"custom.exercise_interaction\", \"data\": {\"outcomeType\": 1, \"valueTowardsCompletion\": 0.2, \"interactionType\": 1, \"questionType\": 4, \"questionId\": \"1_FloatToInt\", \"learnToolsVersion\": \"0.3.4\", \"failureMessage\": \"\", \"exceptionClass\": \"\", \"trace\": \"\"}}, \"*\")"
      ],
      "text/plain": [
       "<IPython.core.display.Javascript object>"
      ]
     },
     "metadata": {},
     "output_type": "display_data"
    },
    {
     "data": {
      "text/markdown": [
       "<span style=\"color:#33cc33\">Correct:</span> \n",
       "\n",
       "Negative floats are always rounded UP to the closest integer (for instance, both -1.1 and -1.9 are rounded up to -1). Positive floats are always rounded DOWN to the closest integer (for instance, 2.1 and 2.9 are rounded down to 2)."
      ],
      "text/plain": [
       "Correct: \n",
       "\n",
       "Negative floats are always rounded UP to the closest integer (for instance, both -1.1 and -1.9 are rounded up to -1). Positive floats are always rounded DOWN to the closest integer (for instance, 2.1 and 2.9 are rounded down to 2)."
      ]
     },
     "metadata": {},
     "output_type": "display_data"
    }
   ],
   "source": [
    "#Check your answer (Run this code cell to receive credit!)\n",
    "q1.check()"
   ]
  },
  {
   "cell_type": "markdown",
   "id": "08165b94",
   "metadata": {
    "papermill": {
     "duration": 0.009059,
     "end_time": "2023-08-03T01:58:10.374812",
     "exception": false,
     "start_time": "2023-08-03T01:58:10.365753",
     "status": "completed"
    },
    "tags": []
   },
   "source": [
    "# Question 2\n",
    "\n",
    "In the tutorial, you learned about booleans (which can take a value of `True` or `False`), in addition to integers, floats, and strings.  For this question, your goal is to determine what happens when you multiply a boolean by any of these data types.  Specifically, \n",
    "- What happens when you multiply an integer or float by `True`?  What happens when you multiply them by `False`?  How does the answer change if the numbers are positive or negative?\n",
    "- What happens when you multiply a string by `True`?  By `False`?\n",
    "\n",
    "Use the next code cell for your investigation. "
   ]
  },
  {
   "cell_type": "code",
   "execution_count": 5,
   "id": "4f11054c",
   "metadata": {
    "execution": {
     "iopub.execute_input": "2023-08-03T01:58:10.395416Z",
     "iopub.status.busy": "2023-08-03T01:58:10.394941Z",
     "iopub.status.idle": "2023-08-03T01:58:10.401099Z",
     "shell.execute_reply": "2023-08-03T01:58:10.400241Z"
    },
    "papermill": {
     "duration": 0.019427,
     "end_time": "2023-08-03T01:58:10.403559",
     "exception": false,
     "start_time": "2023-08-03T01:58:10.384132",
     "status": "completed"
    },
    "tags": []
   },
   "outputs": [
    {
     "name": "stdout",
     "output_type": "stream",
     "text": [
      "3\n",
      "-3.1\n",
      "<class 'str'>\n",
      "0\n"
     ]
    }
   ],
   "source": [
    "# Uncomment and run this code to get started!\n",
    "print(3 * True)\n",
    "print(-3.1 * True)\n",
    "print(type(\"abc\" * False))\n",
    "print(len(\"abc\" * False))"
   ]
  },
  {
   "cell_type": "markdown",
   "id": "41c50084",
   "metadata": {
    "papermill": {
     "duration": 0.008995,
     "end_time": "2023-08-03T01:58:10.422073",
     "exception": false,
     "start_time": "2023-08-03T01:58:10.413078",
     "status": "completed"
    },
    "tags": []
   },
   "source": [
    "Once you have an answer, run the code cell below to see the solution.  Viewing the solution will give you credit for answering the problem."
   ]
  },
  {
   "cell_type": "code",
   "execution_count": 6,
   "id": "68b94096",
   "metadata": {
    "execution": {
     "iopub.execute_input": "2023-08-03T01:58:10.443287Z",
     "iopub.status.busy": "2023-08-03T01:58:10.442492Z",
     "iopub.status.idle": "2023-08-03T01:58:10.452981Z",
     "shell.execute_reply": "2023-08-03T01:58:10.451644Z"
    },
    "papermill": {
     "duration": 0.024614,
     "end_time": "2023-08-03T01:58:10.456000",
     "exception": false,
     "start_time": "2023-08-03T01:58:10.431386",
     "status": "completed"
    },
    "tags": []
   },
   "outputs": [
    {
     "data": {
      "application/javascript": [
       "parent.postMessage({\"jupyterEvent\": \"custom.exercise_interaction\", \"data\": {\"outcomeType\": 1, \"valueTowardsCompletion\": 0.2, \"interactionType\": 1, \"questionType\": 4, \"questionId\": \"2_MultiplyBooleans\", \"learnToolsVersion\": \"0.3.4\", \"failureMessage\": \"\", \"exceptionClass\": \"\", \"trace\": \"\"}}, \"*\")"
      ],
      "text/plain": [
       "<IPython.core.display.Javascript object>"
      ]
     },
     "metadata": {},
     "output_type": "display_data"
    },
    {
     "data": {
      "text/markdown": [
       "<span style=\"color:#33cc33\">Correct:</span> \n",
       "\n",
       "When you multiple an integer or float by a boolean with value `True`, it just returns that same integer or float (and is equivalent to multiplying by 1).  If you multiply an integer or float by a boolean with value `False`, it always returns 0.  This is true for both positive and negative numbers.  If you multiply a string by a boolean with value `True`, it just returns that same string.  And if you multiply a string by a boolean with value `False`, it returns an empty string (or a string with length zero)."
      ],
      "text/plain": [
       "Correct: \n",
       "\n",
       "When you multiple an integer or float by a boolean with value `True`, it just returns that same integer or float (and is equivalent to multiplying by 1).  If you multiply an integer or float by a boolean with value `False`, it always returns 0.  This is true for both positive and negative numbers.  If you multiply a string by a boolean with value `True`, it just returns that same string.  And if you multiply a string by a boolean with value `False`, it returns an empty string (or a string with length zero)."
      ]
     },
     "metadata": {},
     "output_type": "display_data"
    }
   ],
   "source": [
    "# Check your answer (Run this code cell to receive credit!)\n",
    "q2.check()"
   ]
  },
  {
   "cell_type": "markdown",
   "id": "e7582495",
   "metadata": {
    "papermill": {
     "duration": 0.01006,
     "end_time": "2023-08-03T01:58:10.475946",
     "exception": false,
     "start_time": "2023-08-03T01:58:10.465886",
     "status": "completed"
    },
    "tags": []
   },
   "source": [
    "# Question 3\n",
    "\n",
    "In this question, you will build off your work from the previous exercise to write a function that estimates the value of a house.\n",
    "\n",
    "Use the next code cell to create a function `get_expected_cost` that takes as input three variables:\n",
    "- `beds` - number of bedrooms (data type float)\n",
    "- `baths` - number of bathrooms (data type float)\n",
    "- `has_basement` - whether or not the house has a basement (data type boolean)\n",
    "\n",
    "It should return the expected cost of a house with those characteristics. Assume that:\n",
    "- the expected cost for a house with 0 bedrooms and 0 bathrooms, and no basement is 80000, \n",
    "- each bedroom adds 30000 to the expected cost,\n",
    "- each bathroom adds 10000 to the expected cost, and\n",
    "- a basement adds 40000 to the expected cost.\n",
    "\n",
    "For instance,\n",
    "- a house with 1 bedroom, 1 bathroom, and no basement has an expected cost of 80000 + 30000 + 10000 = 120000.  This value will be calculated with `get_expected_cost(1, 1, False)`.\n",
    "- a house with 2 bedrooms, 1 bathroom, and a basement has an expected cost of 80000 + 2*30000 + 10000 + 40000 = 190000.  This value will be calculated with `get_expected_cost(2, 1, True)`.\n",
    "\n",
    "Remember you can always get a hint by uncommenting `q3.hint()` in the code cell following the next!"
   ]
  },
  {
   "cell_type": "code",
   "execution_count": 7,
   "id": "c6cfc9d7",
   "metadata": {
    "execution": {
     "iopub.execute_input": "2023-08-03T01:58:10.497294Z",
     "iopub.status.busy": "2023-08-03T01:58:10.496863Z",
     "iopub.status.idle": "2023-08-03T01:58:10.508244Z",
     "shell.execute_reply": "2023-08-03T01:58:10.507009Z"
    },
    "papermill": {
     "duration": 0.025112,
     "end_time": "2023-08-03T01:58:10.510694",
     "exception": false,
     "start_time": "2023-08-03T01:58:10.485582",
     "status": "completed"
    },
    "tags": []
   },
   "outputs": [
    {
     "data": {
      "application/javascript": [
       "parent.postMessage({\"jupyterEvent\": \"custom.exercise_interaction\", \"data\": {\"outcomeType\": 1, \"valueTowardsCompletion\": 0.2, \"interactionType\": 1, \"questionType\": 2, \"questionId\": \"3_EstimateHouseValueBool\", \"learnToolsVersion\": \"0.3.4\", \"failureMessage\": \"\", \"exceptionClass\": \"\", \"trace\": \"\"}}, \"*\")"
      ],
      "text/plain": [
       "<IPython.core.display.Javascript object>"
      ]
     },
     "metadata": {},
     "output_type": "display_data"
    },
    {
     "data": {
      "text/markdown": [
       "<span style=\"color:#33cc33\">Correct</span>"
      ],
      "text/plain": [
       "Correct"
      ]
     },
     "metadata": {},
     "output_type": "display_data"
    }
   ],
   "source": [
    "# TODO: Complete the function\n",
    "def get_expected_cost(beds, baths, has_basement):\n",
    "    value = (beds*30000)+(baths*10000)+(80000)\n",
    "    if (has_basement==True):\n",
    "        value +=40000\n",
    "    return value\n",
    "\n",
    "# Check your answer \n",
    "q3.check()"
   ]
  },
  {
   "cell_type": "code",
   "execution_count": 8,
   "id": "32e742bb",
   "metadata": {
    "execution": {
     "iopub.execute_input": "2023-08-03T01:58:10.532651Z",
     "iopub.status.busy": "2023-08-03T01:58:10.532211Z",
     "iopub.status.idle": "2023-08-03T01:58:10.537529Z",
     "shell.execute_reply": "2023-08-03T01:58:10.536464Z"
    },
    "papermill": {
     "duration": 0.01914,
     "end_time": "2023-08-03T01:58:10.539936",
     "exception": false,
     "start_time": "2023-08-03T01:58:10.520796",
     "status": "completed"
    },
    "tags": []
   },
   "outputs": [],
   "source": [
    "# Uncomment to see a hint\n",
    "#q3.hint()\n",
    "\n",
    "# Uncomment to view the solution\n",
    "#q3.solution()"
   ]
  },
  {
   "cell_type": "markdown",
   "id": "0f7829c1",
   "metadata": {
    "papermill": {
     "duration": 0.00965,
     "end_time": "2023-08-03T01:58:10.559559",
     "exception": false,
     "start_time": "2023-08-03T01:58:10.549909",
     "status": "completed"
    },
    "tags": []
   },
   "source": [
    "# Question 4\n",
    "\n",
    "We'll continue our study of boolean arithmetic.  For this question, your task is to provide a description of what happpens when you add booleans. \n",
    "\n",
    "Use the next code cell for your investigation.  Feel free to add or remove any lines of code - use it as your workspace!"
   ]
  },
  {
   "cell_type": "code",
   "execution_count": 9,
   "id": "4edfa8d4",
   "metadata": {
    "execution": {
     "iopub.execute_input": "2023-08-03T01:58:10.581508Z",
     "iopub.status.busy": "2023-08-03T01:58:10.581114Z",
     "iopub.status.idle": "2023-08-03T01:58:10.587763Z",
     "shell.execute_reply": "2023-08-03T01:58:10.586380Z"
    },
    "papermill": {
     "duration": 0.021464,
     "end_time": "2023-08-03T01:58:10.591083",
     "exception": false,
     "start_time": "2023-08-03T01:58:10.569619",
     "status": "completed"
    },
    "tags": []
   },
   "outputs": [
    {
     "name": "stdout",
     "output_type": "stream",
     "text": [
      "0\n",
      "1\n",
      "1\n",
      "2\n",
      "3\n"
     ]
    }
   ],
   "source": [
    "print(False + False)\n",
    "print(True + False)\n",
    "print(False + True)\n",
    "print(True + True)\n",
    "print(False + True + True + True)"
   ]
  },
  {
   "cell_type": "markdown",
   "id": "e5fdb0ae",
   "metadata": {
    "papermill": {
     "duration": 0.010208,
     "end_time": "2023-08-03T01:58:10.612766",
     "exception": false,
     "start_time": "2023-08-03T01:58:10.602558",
     "status": "completed"
    },
    "tags": []
   },
   "source": [
    "Once you have an answer, run the code cell below to see the solution.  Viewing the solution will give you credit for answering the problem."
   ]
  },
  {
   "cell_type": "code",
   "execution_count": 10,
   "id": "f906c0dc",
   "metadata": {
    "execution": {
     "iopub.execute_input": "2023-08-03T01:58:10.635326Z",
     "iopub.status.busy": "2023-08-03T01:58:10.634592Z",
     "iopub.status.idle": "2023-08-03T01:58:10.643620Z",
     "shell.execute_reply": "2023-08-03T01:58:10.642613Z"
    },
    "papermill": {
     "duration": 0.023095,
     "end_time": "2023-08-03T01:58:10.646168",
     "exception": false,
     "start_time": "2023-08-03T01:58:10.623073",
     "status": "completed"
    },
    "tags": []
   },
   "outputs": [
    {
     "data": {
      "application/javascript": [
       "parent.postMessage({\"jupyterEvent\": \"custom.exercise_interaction\", \"data\": {\"outcomeType\": 1, \"valueTowardsCompletion\": 0.2, \"interactionType\": 1, \"questionType\": 4, \"questionId\": \"4_AddingBooleans\", \"learnToolsVersion\": \"0.3.4\", \"failureMessage\": \"\", \"exceptionClass\": \"\", \"trace\": \"\"}}, \"*\")"
      ],
      "text/plain": [
       "<IPython.core.display.Javascript object>"
      ]
     },
     "metadata": {},
     "output_type": "display_data"
    },
    {
     "data": {
      "text/markdown": [
       "<span style=\"color:#33cc33\">Correct:</span> \n",
       "\n",
       "When you add booleans, adding `False` is equivalent to adding 0, and adding `True` is equivalent to adding 1."
      ],
      "text/plain": [
       "Correct: \n",
       "\n",
       "When you add booleans, adding `False` is equivalent to adding 0, and adding `True` is equivalent to adding 1."
      ]
     },
     "metadata": {},
     "output_type": "display_data"
    }
   ],
   "source": [
    "# Check your answer (Run this code cell to receive credit!)\n",
    "q4.check()"
   ]
  },
  {
   "cell_type": "markdown",
   "id": "0bb488a1",
   "metadata": {
    "papermill": {
     "duration": 0.010671,
     "end_time": "2023-08-03T01:58:10.667700",
     "exception": false,
     "start_time": "2023-08-03T01:58:10.657029",
     "status": "completed"
    },
    "tags": []
   },
   "source": [
    "# 🌶️ Question 5\n",
    "\n",
    "You own an online shop where you sell rings with custom engravings.  You offer both gold plated and solid gold rings.\n",
    "- Gold plated rings have a base cost of \\\\$50, and you charge \\\\$7 per engraved unit.  \n",
    "- Solid gold rings have a base cost of \\\\$100, and you charge \\\\$10 per engraved unit.\n",
    "- Spaces and punctuation are counted as engraved units.\n",
    "\n",
    "Write a function `cost_of_project()` that takes two arguments:\n",
    "- `engraving` - a Python string with the text of the engraving\n",
    "- `solid_gold` - a Boolean that indicates whether the ring is solid gold\n",
    "\n",
    "It should return the cost of the project.  This question should be fairly challenging, and you may need a hint."
   ]
  },
  {
   "cell_type": "code",
   "execution_count": 11,
   "id": "ca359115",
   "metadata": {
    "execution": {
     "iopub.execute_input": "2023-08-03T01:58:10.690284Z",
     "iopub.status.busy": "2023-08-03T01:58:10.689861Z",
     "iopub.status.idle": "2023-08-03T01:58:10.701570Z",
     "shell.execute_reply": "2023-08-03T01:58:10.700336Z"
    },
    "papermill": {
     "duration": 0.026028,
     "end_time": "2023-08-03T01:58:10.704088",
     "exception": false,
     "start_time": "2023-08-03T01:58:10.678060",
     "status": "completed"
    },
    "tags": []
   },
   "outputs": [
    {
     "data": {
      "application/javascript": [
       "parent.postMessage({\"jupyterEvent\": \"custom.exercise_interaction\", \"data\": {\"outcomeType\": 1, \"valueTowardsCompletion\": 0.2, \"interactionType\": 1, \"questionType\": 2, \"questionId\": \"5_CustomEngravings\", \"learnToolsVersion\": \"0.3.4\", \"failureMessage\": \"\", \"exceptionClass\": \"\", \"trace\": \"\"}}, \"*\")"
      ],
      "text/plain": [
       "<IPython.core.display.Javascript object>"
      ]
     },
     "metadata": {},
     "output_type": "display_data"
    },
    {
     "data": {
      "text/markdown": [
       "<span style=\"color:#33cc33\">Correct</span>"
      ],
      "text/plain": [
       "Correct"
      ]
     },
     "metadata": {},
     "output_type": "display_data"
    }
   ],
   "source": [
    "def cost_of_project(engraving, solid_gold):\n",
    "    #if solid gold\n",
    "    if(solid_gold==True):\n",
    "        cost = 100 + len(engraving)* 10\n",
    "    elif(solid_gold==False):\n",
    "        cost = 50+ len(engraving)* 7\n",
    "    #if \n",
    "    \n",
    "    return cost\n",
    "\n",
    "# Check your answer\n",
    "q5.check()"
   ]
  },
  {
   "cell_type": "code",
   "execution_count": 12,
   "id": "424618ff",
   "metadata": {
    "execution": {
     "iopub.execute_input": "2023-08-03T01:58:10.727366Z",
     "iopub.status.busy": "2023-08-03T01:58:10.726921Z",
     "iopub.status.idle": "2023-08-03T01:58:10.732177Z",
     "shell.execute_reply": "2023-08-03T01:58:10.730862Z"
    },
    "papermill": {
     "duration": 0.019981,
     "end_time": "2023-08-03T01:58:10.734817",
     "exception": false,
     "start_time": "2023-08-03T01:58:10.714836",
     "status": "completed"
    },
    "tags": []
   },
   "outputs": [],
   "source": [
    "# Uncomment to see a hint\n",
    "#q5.hint()\n",
    "\n",
    "# Uncomment to view the solution\n",
    "#q5.solution()"
   ]
  },
  {
   "cell_type": "markdown",
   "id": "f27489ec",
   "metadata": {
    "papermill": {
     "duration": 0.011249,
     "end_time": "2023-08-03T01:58:10.757437",
     "exception": false,
     "start_time": "2023-08-03T01:58:10.746188",
     "status": "completed"
    },
    "tags": []
   },
   "source": [
    "Run the next code cell to calculate the cost of engraving `Charlie+Denver` on a solid gold ring."
   ]
  },
  {
   "cell_type": "code",
   "execution_count": 13,
   "id": "a962723a",
   "metadata": {
    "execution": {
     "iopub.execute_input": "2023-08-03T01:58:10.780940Z",
     "iopub.status.busy": "2023-08-03T01:58:10.780519Z",
     "iopub.status.idle": "2023-08-03T01:58:10.786885Z",
     "shell.execute_reply": "2023-08-03T01:58:10.785562Z"
    },
    "papermill": {
     "duration": 0.021451,
     "end_time": "2023-08-03T01:58:10.789771",
     "exception": false,
     "start_time": "2023-08-03T01:58:10.768320",
     "status": "completed"
    },
    "tags": []
   },
   "outputs": [
    {
     "name": "stdout",
     "output_type": "stream",
     "text": [
      "240\n"
     ]
    }
   ],
   "source": [
    "project_one = cost_of_project(\"Charlie+Denver\", True)\n",
    "print(project_one)"
   ]
  },
  {
   "cell_type": "markdown",
   "id": "173fdd03",
   "metadata": {
    "papermill": {
     "duration": 0.010719,
     "end_time": "2023-08-03T01:58:10.811901",
     "exception": false,
     "start_time": "2023-08-03T01:58:10.801182",
     "status": "completed"
    },
    "tags": []
   },
   "source": [
    "Use the next code cell to calculate the cost of engraving `08/10/2000` on a gold plated ring."
   ]
  },
  {
   "cell_type": "code",
   "execution_count": 14,
   "id": "6b5765e6",
   "metadata": {
    "execution": {
     "iopub.execute_input": "2023-08-03T01:58:10.836066Z",
     "iopub.status.busy": "2023-08-03T01:58:10.835646Z",
     "iopub.status.idle": "2023-08-03T01:58:10.841625Z",
     "shell.execute_reply": "2023-08-03T01:58:10.840389Z"
    },
    "papermill": {
     "duration": 0.021346,
     "end_time": "2023-08-03T01:58:10.844246",
     "exception": false,
     "start_time": "2023-08-03T01:58:10.822900",
     "status": "completed"
    },
    "tags": []
   },
   "outputs": [
    {
     "name": "stdout",
     "output_type": "stream",
     "text": [
      "120\n"
     ]
    }
   ],
   "source": [
    "project_two = cost_of_project(\"08/10/2000\", False)\n",
    "print(project_two)"
   ]
  },
  {
   "cell_type": "markdown",
   "id": "0816e386",
   "metadata": {
    "papermill": {
     "duration": 0.010507,
     "end_time": "2023-08-03T01:58:10.865621",
     "exception": false,
     "start_time": "2023-08-03T01:58:10.855114",
     "status": "completed"
    },
    "tags": []
   },
   "source": [
    "# Keep going\n",
    "\n",
    "Continue to the next lesson to **[learn about conditions and conditional statements](https://www.kaggle.com/alexisbcook/conditions-and-conditional-statements)**."
   ]
  },
  {
   "cell_type": "markdown",
   "id": "81531b9c",
   "metadata": {
    "papermill": {
     "duration": 0.010554,
     "end_time": "2023-08-03T01:58:10.887070",
     "exception": false,
     "start_time": "2023-08-03T01:58:10.876516",
     "status": "completed"
    },
    "tags": []
   },
   "source": [
    "---\n",
    "\n",
    "\n",
    "\n",
    "\n",
    "*Have questions or comments? Visit the [course discussion forum](https://www.kaggle.com/learn/intro-to-programming/discussion) to chat with other learners.*"
   ]
  }
 ],
 "metadata": {
  "kernelspec": {
   "display_name": "Python 3",
   "language": "python",
   "name": "python3"
  },
  "language_info": {
   "codemirror_mode": {
    "name": "ipython",
    "version": 3
   },
   "file_extension": ".py",
   "mimetype": "text/x-python",
   "name": "python",
   "nbconvert_exporter": "python",
   "pygments_lexer": "ipython3",
   "version": "3.10.12"
  },
  "papermill": {
   "default_parameters": {},
   "duration": 15.640455,
   "end_time": "2023-08-03T01:58:11.921560",
   "environment_variables": {},
   "exception": null,
   "input_path": "__notebook__.ipynb",
   "output_path": "__notebook__.ipynb",
   "parameters": {},
   "start_time": "2023-08-03T01:57:56.281105",
   "version": "2.4.0"
  }
 },
 "nbformat": 4,
 "nbformat_minor": 5
}
