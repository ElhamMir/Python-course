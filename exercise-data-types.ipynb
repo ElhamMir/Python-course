{
 "cells": [
  {
   "cell_type": "markdown",
   "id": "0ba68324",
   "metadata": {
    "papermill": {
     "duration": 0.005193,
     "end_time": "2023-08-03T01:45:45.360049",
     "exception": false,
     "start_time": "2023-08-03T01:45:45.354856",
     "status": "completed"
    },
    "tags": []
   },
   "source": [
    "**This notebook is an exercise in the [Intro to Programming](https://www.kaggle.com/learn/intro-to-programming) course.  You can reference the tutorial at [this link](https://www.kaggle.com/alexisbcook/data-types).**\n",
    "\n",
    "---\n"
   ]
  },
  {
   "cell_type": "markdown",
   "id": "702931e2",
   "metadata": {
    "papermill": {
     "duration": 0.004389,
     "end_time": "2023-08-03T01:45:45.369109",
     "exception": false,
     "start_time": "2023-08-03T01:45:45.364720",
     "status": "completed"
    },
    "tags": []
   },
   "source": [
    "In the tutorial, you learned about four different data types: floats, integers, strings, and booleans.  In this exercise, you'll experiment with them.\n",
    "\n",
    "# Set up the notebook\n",
    "\n",
    "Run the next code cell without changes to set up the notebook."
   ]
  },
  {
   "cell_type": "code",
   "execution_count": 1,
   "id": "4d01c9d0",
   "metadata": {
    "execution": {
     "iopub.execute_input": "2023-08-03T01:45:45.379363Z",
     "iopub.status.busy": "2023-08-03T01:45:45.379075Z",
     "iopub.status.idle": "2023-08-03T01:45:45.418927Z",
     "shell.execute_reply": "2023-08-03T01:45:45.417642Z"
    },
    "papermill": {
     "duration": 0.047236,
     "end_time": "2023-08-03T01:45:45.420831",
     "exception": false,
     "start_time": "2023-08-03T01:45:45.373595",
     "status": "completed"
    },
    "tags": []
   },
   "outputs": [
    {
     "name": "stdout",
     "output_type": "stream",
     "text": [
      "Setup complete.\n"
     ]
    }
   ],
   "source": [
    "# Set up the exercise\n",
    "from learntools.core import binder\n",
    "binder.bind(globals())\n",
    "from learntools.intro_to_programming.ex3 import *\n",
    "print('Setup complete.')"
   ]
  },
  {
   "cell_type": "markdown",
   "id": "b8c7678d",
   "metadata": {
    "papermill": {
     "duration": 0.004657,
     "end_time": "2023-08-03T01:45:45.430633",
     "exception": false,
     "start_time": "2023-08-03T01:45:45.425976",
     "status": "completed"
    },
    "tags": []
   },
   "source": [
    "# Question 1\n",
    "\n",
    "You have seen how to convert a float to an integer with the `int` function.  Try this out yourself by running the code cell below."
   ]
  },
  {
   "cell_type": "code",
   "execution_count": 2,
   "id": "bc27962d",
   "metadata": {
    "execution": {
     "iopub.execute_input": "2023-08-03T01:45:45.442073Z",
     "iopub.status.busy": "2023-08-03T01:45:45.441560Z",
     "iopub.status.idle": "2023-08-03T01:45:45.446392Z",
     "shell.execute_reply": "2023-08-03T01:45:45.445352Z"
    },
    "papermill": {
     "duration": 0.012492,
     "end_time": "2023-08-03T01:45:45.447935",
     "exception": false,
     "start_time": "2023-08-03T01:45:45.435443",
     "status": "completed"
    },
    "tags": []
   },
   "outputs": [
    {
     "name": "stdout",
     "output_type": "stream",
     "text": [
      "1.0\n",
      "<class 'float'>\n",
      "1\n",
      "<class 'int'>\n"
     ]
    }
   ],
   "source": [
    "# Define a float\n",
    "y = 1.\n",
    "print(y)\n",
    "print(type(y))\n",
    "\n",
    "# Convert float to integer with the int function\n",
    "z = int(y)\n",
    "print(z)\n",
    "print(type(z))"
   ]
  },
  {
   "cell_type": "markdown",
   "id": "b8c709c6",
   "metadata": {
    "papermill": {
     "duration": 0.004512,
     "end_time": "2023-08-03T01:45:45.457269",
     "exception": false,
     "start_time": "2023-08-03T01:45:45.452757",
     "status": "completed"
    },
    "tags": []
   },
   "source": [
    "In this case, the float you are using has no numbers after the decimal.  \n",
    "- But what happens when you try to convert a float with a fractional part to an integer?  \n",
    "- How does the outcome of the `int` function change for positive and negative numbers?\n",
    "\n",
    "Use the next code cell to investigate and answer these questions.  Feel free to add or remove any lines of code -- it is your workspace!"
   ]
  },
  {
   "cell_type": "code",
   "execution_count": 3,
   "id": "a11c9de6",
   "metadata": {
    "execution": {
     "iopub.execute_input": "2023-08-03T01:45:45.469713Z",
     "iopub.status.busy": "2023-08-03T01:45:45.469161Z",
     "iopub.status.idle": "2023-08-03T01:45:45.473676Z",
     "shell.execute_reply": "2023-08-03T01:45:45.472722Z"
    },
    "papermill": {
     "duration": 0.012027,
     "end_time": "2023-08-03T01:45:45.475400",
     "exception": false,
     "start_time": "2023-08-03T01:45:45.463373",
     "status": "completed"
    },
    "tags": []
   },
   "outputs": [
    {
     "name": "stdout",
     "output_type": "stream",
     "text": [
      "1\n",
      "1\n",
      "-3\n",
      "-2\n"
     ]
    }
   ],
   "source": [
    "# Uncomment and run this code to get started!\n",
    "print(int(1.2321))\n",
    "print(int(1.747))\n",
    "print(int(-3.94535))\n",
    "print(int(-2.19774))"
   ]
  },
  {
   "cell_type": "markdown",
   "id": "a6b7f7ac",
   "metadata": {
    "papermill": {
     "duration": 0.004896,
     "end_time": "2023-08-03T01:45:45.485457",
     "exception": false,
     "start_time": "2023-08-03T01:45:45.480561",
     "status": "completed"
    },
    "tags": []
   },
   "source": [
    "Once you have an answer, run the code cell below to see the solution.  Viewing the solution will give you credit for answering the problem."
   ]
  },
  {
   "cell_type": "code",
   "execution_count": 4,
   "id": "0186e492",
   "metadata": {
    "execution": {
     "iopub.execute_input": "2023-08-03T01:45:45.497531Z",
     "iopub.status.busy": "2023-08-03T01:45:45.496920Z",
     "iopub.status.idle": "2023-08-03T01:45:45.504409Z",
     "shell.execute_reply": "2023-08-03T01:45:45.503476Z"
    },
    "papermill": {
     "duration": 0.015578,
     "end_time": "2023-08-03T01:45:45.506053",
     "exception": false,
     "start_time": "2023-08-03T01:45:45.490475",
     "status": "completed"
    },
    "tags": []
   },
   "outputs": [
    {
     "data": {
      "application/javascript": [
       "parent.postMessage({\"jupyterEvent\": \"custom.exercise_interaction\", \"data\": {\"outcomeType\": 1, \"valueTowardsCompletion\": 0.2, \"interactionType\": 1, \"questionType\": 4, \"questionId\": \"1_FloatToInt\", \"learnToolsVersion\": \"0.3.4\", \"failureMessage\": \"\", \"exceptionClass\": \"\", \"trace\": \"\"}}, \"*\")"
      ],
      "text/plain": [
       "<IPython.core.display.Javascript object>"
      ]
     },
     "metadata": {},
     "output_type": "display_data"
    },
    {
     "data": {
      "text/markdown": [
       "<span style=\"color:#33cc33\">Correct:</span> \n",
       "\n",
       "Negative floats are always rounded UP to the closest integer (for instance, both -1.1 and -1.9 are rounded up to -1). Positive floats are always rounded DOWN to the closest integer (for instance, 2.1 and 2.9 are rounded down to 2)."
      ],
      "text/plain": [
       "Correct: \n",
       "\n",
       "Negative floats are always rounded UP to the closest integer (for instance, both -1.1 and -1.9 are rounded up to -1). Positive floats are always rounded DOWN to the closest integer (for instance, 2.1 and 2.9 are rounded down to 2)."
      ]
     },
     "metadata": {},
     "output_type": "display_data"
    }
   ],
   "source": [
    "#Check your answer (Run this code cell to receive credit!)\n",
    "q1.check()"
   ]
  },
  {
   "cell_type": "markdown",
   "id": "7f17566f",
   "metadata": {
    "papermill": {
     "duration": 0.005242,
     "end_time": "2023-08-03T01:45:45.516896",
     "exception": false,
     "start_time": "2023-08-03T01:45:45.511654",
     "status": "completed"
    },
    "tags": []
   },
   "source": [
    "# Question 2\n",
    "\n",
    "In the tutorial, you learned about booleans (which can take a value of `True` or `False`), in addition to integers, floats, and strings.  For this question, your goal is to determine what happens when you multiply a boolean by any of these data types.  Specifically, \n",
    "- What happens when you multiply an integer or float by `True`?  What happens when you multiply them by `False`?  How does the answer change if the numbers are positive or negative?\n",
    "- What happens when you multiply a string by `True`?  By `False`?\n",
    "\n",
    "Use the next code cell for your investigation. "
   ]
  },
  {
   "cell_type": "code",
   "execution_count": 5,
   "id": "f9af22ee",
   "metadata": {
    "execution": {
     "iopub.execute_input": "2023-08-03T01:45:45.529162Z",
     "iopub.status.busy": "2023-08-03T01:45:45.528342Z",
     "iopub.status.idle": "2023-08-03T01:45:45.534787Z",
     "shell.execute_reply": "2023-08-03T01:45:45.533779Z"
    },
    "papermill": {
     "duration": 0.014535,
     "end_time": "2023-08-03T01:45:45.536554",
     "exception": false,
     "start_time": "2023-08-03T01:45:45.522019",
     "status": "completed"
    },
    "tags": []
   },
   "outputs": [
    {
     "name": "stdout",
     "output_type": "stream",
     "text": [
      "3\n",
      "-3.1\n",
      "<class 'str'>\n",
      "0\n"
     ]
    }
   ],
   "source": [
    "# Uncomment and run this code to get started!\n",
    "print(3 * True)\n",
    "print(-3.1 * True)\n",
    "print(type(\"abc\" * False))\n",
    "print(len(\"abc\" * False))"
   ]
  },
  {
   "cell_type": "markdown",
   "id": "cf6c9f23",
   "metadata": {
    "papermill": {
     "duration": 0.00505,
     "end_time": "2023-08-03T01:45:45.547075",
     "exception": false,
     "start_time": "2023-08-03T01:45:45.542025",
     "status": "completed"
    },
    "tags": []
   },
   "source": [
    "Once you have an answer, run the code cell below to see the solution.  Viewing the solution will give you credit for answering the problem."
   ]
  },
  {
   "cell_type": "code",
   "execution_count": 6,
   "id": "72fe1285",
   "metadata": {
    "execution": {
     "iopub.execute_input": "2023-08-03T01:45:45.558832Z",
     "iopub.status.busy": "2023-08-03T01:45:45.558532Z",
     "iopub.status.idle": "2023-08-03T01:45:45.564601Z",
     "shell.execute_reply": "2023-08-03T01:45:45.564053Z"
    },
    "papermill": {
     "duration": 0.013869,
     "end_time": "2023-08-03T01:45:45.566093",
     "exception": false,
     "start_time": "2023-08-03T01:45:45.552224",
     "status": "completed"
    },
    "tags": []
   },
   "outputs": [
    {
     "data": {
      "application/javascript": [
       "parent.postMessage({\"jupyterEvent\": \"custom.exercise_interaction\", \"data\": {\"outcomeType\": 1, \"valueTowardsCompletion\": 0.2, \"interactionType\": 1, \"questionType\": 4, \"questionId\": \"2_MultiplyBooleans\", \"learnToolsVersion\": \"0.3.4\", \"failureMessage\": \"\", \"exceptionClass\": \"\", \"trace\": \"\"}}, \"*\")"
      ],
      "text/plain": [
       "<IPython.core.display.Javascript object>"
      ]
     },
     "metadata": {},
     "output_type": "display_data"
    },
    {
     "data": {
      "text/markdown": [
       "<span style=\"color:#33cc33\">Correct:</span> \n",
       "\n",
       "When you multiple an integer or float by a boolean with value `True`, it just returns that same integer or float (and is equivalent to multiplying by 1).  If you multiply an integer or float by a boolean with value `False`, it always returns 0.  This is true for both positive and negative numbers.  If you multiply a string by a boolean with value `True`, it just returns that same string.  And if you multiply a string by a boolean with value `False`, it returns an empty string (or a string with length zero)."
      ],
      "text/plain": [
       "Correct: \n",
       "\n",
       "When you multiple an integer or float by a boolean with value `True`, it just returns that same integer or float (and is equivalent to multiplying by 1).  If you multiply an integer or float by a boolean with value `False`, it always returns 0.  This is true for both positive and negative numbers.  If you multiply a string by a boolean with value `True`, it just returns that same string.  And if you multiply a string by a boolean with value `False`, it returns an empty string (or a string with length zero)."
      ]
     },
     "metadata": {},
     "output_type": "display_data"
    }
   ],
   "source": [
    "# Check your answer (Run this code cell to receive credit!)\n",
    "q2.check()"
   ]
  },
  {
   "cell_type": "markdown",
   "id": "bdfa234b",
   "metadata": {
    "papermill": {
     "duration": 0.005167,
     "end_time": "2023-08-03T01:45:45.576822",
     "exception": false,
     "start_time": "2023-08-03T01:45:45.571655",
     "status": "completed"
    },
    "tags": []
   },
   "source": [
    "# Question 3\n",
    "\n",
    "In this question, you will build off your work from the previous exercise to write a function that estimates the value of a house.\n",
    "\n",
    "Use the next code cell to create a function `get_expected_cost` that takes as input three variables:\n",
    "- `beds` - number of bedrooms (data type float)\n",
    "- `baths` - number of bathrooms (data type float)\n",
    "- `has_basement` - whether or not the house has a basement (data type boolean)\n",
    "\n",
    "It should return the expected cost of a house with those characteristics. Assume that:\n",
    "- the expected cost for a house with 0 bedrooms and 0 bathrooms, and no basement is 80000, \n",
    "- each bedroom adds 30000 to the expected cost,\n",
    "- each bathroom adds 10000 to the expected cost, and\n",
    "- a basement adds 40000 to the expected cost.\n",
    "\n",
    "For instance,\n",
    "- a house with 1 bedroom, 1 bathroom, and no basement has an expected cost of 80000 + 30000 + 10000 = 120000.  This value will be calculated with `get_expected_cost(1, 1, False)`.\n",
    "- a house with 2 bedrooms, 1 bathroom, and a basement has an expected cost of 80000 + 2*30000 + 10000 + 40000 = 190000.  This value will be calculated with `get_expected_cost(2, 1, True)`.\n",
    "\n",
    "Remember you can always get a hint by uncommenting `q3.hint()` in the code cell following the next!"
   ]
  },
  {
   "cell_type": "code",
   "execution_count": 7,
   "id": "c6dab273",
   "metadata": {
    "execution": {
     "iopub.execute_input": "2023-08-03T01:45:45.588948Z",
     "iopub.status.busy": "2023-08-03T01:45:45.588494Z",
     "iopub.status.idle": "2023-08-03T01:45:45.597442Z",
     "shell.execute_reply": "2023-08-03T01:45:45.596607Z"
    },
    "papermill": {
     "duration": 0.017044,
     "end_time": "2023-08-03T01:45:45.599272",
     "exception": false,
     "start_time": "2023-08-03T01:45:45.582228",
     "status": "completed"
    },
    "tags": []
   },
   "outputs": [
    {
     "data": {
      "application/javascript": [
       "parent.postMessage({\"jupyterEvent\": \"custom.exercise_interaction\", \"data\": {\"outcomeType\": 1, \"valueTowardsCompletion\": 0.2, \"interactionType\": 1, \"questionType\": 2, \"questionId\": \"3_EstimateHouseValueBool\", \"learnToolsVersion\": \"0.3.4\", \"failureMessage\": \"\", \"exceptionClass\": \"\", \"trace\": \"\"}}, \"*\")"
      ],
      "text/plain": [
       "<IPython.core.display.Javascript object>"
      ]
     },
     "metadata": {},
     "output_type": "display_data"
    },
    {
     "data": {
      "text/markdown": [
       "<span style=\"color:#33cc33\">Correct</span>"
      ],
      "text/plain": [
       "Correct"
      ]
     },
     "metadata": {},
     "output_type": "display_data"
    }
   ],
   "source": [
    "# TODO: Complete the function\n",
    "def get_expected_cost(beds, baths, has_basement):\n",
    "    value = (beds*30000)+(baths*10000)+(80000)\n",
    "    if (has_basement==True):\n",
    "        value +=40000\n",
    "    return value\n",
    "\n",
    "# Check your answer \n",
    "q3.check()"
   ]
  },
  {
   "cell_type": "code",
   "execution_count": 8,
   "id": "2fd2eb55",
   "metadata": {
    "execution": {
     "iopub.execute_input": "2023-08-03T01:45:45.612202Z",
     "iopub.status.busy": "2023-08-03T01:45:45.611852Z",
     "iopub.status.idle": "2023-08-03T01:45:45.615775Z",
     "shell.execute_reply": "2023-08-03T01:45:45.614874Z"
    },
    "papermill": {
     "duration": 0.012576,
     "end_time": "2023-08-03T01:45:45.617705",
     "exception": false,
     "start_time": "2023-08-03T01:45:45.605129",
     "status": "completed"
    },
    "tags": []
   },
   "outputs": [],
   "source": [
    "# Uncomment to see a hint\n",
    "#q3.hint()\n",
    "\n",
    "# Uncomment to view the solution\n",
    "#q3.solution()"
   ]
  },
  {
   "cell_type": "markdown",
   "id": "eb373f20",
   "metadata": {
    "papermill": {
     "duration": 0.005766,
     "end_time": "2023-08-03T01:45:45.629324",
     "exception": false,
     "start_time": "2023-08-03T01:45:45.623558",
     "status": "completed"
    },
    "tags": []
   },
   "source": [
    "# Question 4\n",
    "\n",
    "We'll continue our study of boolean arithmetic.  For this question, your task is to provide a description of what happpens when you add booleans. \n",
    "\n",
    "Use the next code cell for your investigation.  Feel free to add or remove any lines of code - use it as your workspace!"
   ]
  },
  {
   "cell_type": "code",
   "execution_count": 9,
   "id": "bd6dde4d",
   "metadata": {
    "execution": {
     "iopub.execute_input": "2023-08-03T01:45:45.642463Z",
     "iopub.status.busy": "2023-08-03T01:45:45.642089Z",
     "iopub.status.idle": "2023-08-03T01:45:45.647134Z",
     "shell.execute_reply": "2023-08-03T01:45:45.646428Z"
    },
    "papermill": {
     "duration": 0.013857,
     "end_time": "2023-08-03T01:45:45.649019",
     "exception": false,
     "start_time": "2023-08-03T01:45:45.635162",
     "status": "completed"
    },
    "tags": []
   },
   "outputs": [
    {
     "name": "stdout",
     "output_type": "stream",
     "text": [
      "0\n",
      "1\n",
      "1\n",
      "2\n",
      "3\n"
     ]
    }
   ],
   "source": [
    "print(False + False)\n",
    "print(True + False)\n",
    "print(False + True)\n",
    "print(True + True)\n",
    "print(False + True + True + True)"
   ]
  },
  {
   "cell_type": "markdown",
   "id": "448bb444",
   "metadata": {
    "papermill": {
     "duration": 0.005815,
     "end_time": "2023-08-03T01:45:45.660885",
     "exception": false,
     "start_time": "2023-08-03T01:45:45.655070",
     "status": "completed"
    },
    "tags": []
   },
   "source": [
    "Once you have an answer, run the code cell below to see the solution.  Viewing the solution will give you credit for answering the problem."
   ]
  },
  {
   "cell_type": "code",
   "execution_count": 10,
   "id": "635975c2",
   "metadata": {
    "execution": {
     "iopub.execute_input": "2023-08-03T01:45:45.673760Z",
     "iopub.status.busy": "2023-08-03T01:45:45.673483Z",
     "iopub.status.idle": "2023-08-03T01:45:45.680579Z",
     "shell.execute_reply": "2023-08-03T01:45:45.679547Z"
    },
    "papermill": {
     "duration": 0.015483,
     "end_time": "2023-08-03T01:45:45.682145",
     "exception": false,
     "start_time": "2023-08-03T01:45:45.666662",
     "status": "completed"
    },
    "tags": []
   },
   "outputs": [
    {
     "data": {
      "application/javascript": [
       "parent.postMessage({\"jupyterEvent\": \"custom.exercise_interaction\", \"data\": {\"outcomeType\": 1, \"valueTowardsCompletion\": 0.2, \"interactionType\": 1, \"questionType\": 4, \"questionId\": \"4_AddingBooleans\", \"learnToolsVersion\": \"0.3.4\", \"failureMessage\": \"\", \"exceptionClass\": \"\", \"trace\": \"\"}}, \"*\")"
      ],
      "text/plain": [
       "<IPython.core.display.Javascript object>"
      ]
     },
     "metadata": {},
     "output_type": "display_data"
    },
    {
     "data": {
      "text/markdown": [
       "<span style=\"color:#33cc33\">Correct:</span> \n",
       "\n",
       "When you add booleans, adding `False` is equivalent to adding 0, and adding `True` is equivalent to adding 1."
      ],
      "text/plain": [
       "Correct: \n",
       "\n",
       "When you add booleans, adding `False` is equivalent to adding 0, and adding `True` is equivalent to adding 1."
      ]
     },
     "metadata": {},
     "output_type": "display_data"
    }
   ],
   "source": [
    "# Check your answer (Run this code cell to receive credit!)\n",
    "q4.check()"
   ]
  },
  {
   "cell_type": "markdown",
   "id": "a49eef81",
   "metadata": {
    "papermill": {
     "duration": 0.005827,
     "end_time": "2023-08-03T01:45:45.694295",
     "exception": false,
     "start_time": "2023-08-03T01:45:45.688468",
     "status": "completed"
    },
    "tags": []
   },
   "source": [
    "# 🌶️ Question 5\n",
    "\n",
    "You own an online shop where you sell rings with custom engravings.  You offer both gold plated and solid gold rings.\n",
    "- Gold plated rings have a base cost of \\\\$50, and you charge \\\\$7 per engraved unit.  \n",
    "- Solid gold rings have a base cost of \\\\$100, and you charge \\\\$10 per engraved unit.\n",
    "- Spaces and punctuation are counted as engraved units.\n",
    "\n",
    "Write a function `cost_of_project()` that takes two arguments:\n",
    "- `engraving` - a Python string with the text of the engraving\n",
    "- `solid_gold` - a Boolean that indicates whether the ring is solid gold\n",
    "\n",
    "It should return the cost of the project.  This question should be fairly challenging, and you may need a hint."
   ]
  },
  {
   "cell_type": "code",
   "execution_count": 11,
   "id": "d0cc6f87",
   "metadata": {
    "execution": {
     "iopub.execute_input": "2023-08-03T01:45:45.708173Z",
     "iopub.status.busy": "2023-08-03T01:45:45.707838Z",
     "iopub.status.idle": "2023-08-03T01:45:45.715479Z",
     "shell.execute_reply": "2023-08-03T01:45:45.714663Z"
    },
    "papermill": {
     "duration": 0.016711,
     "end_time": "2023-08-03T01:45:45.717101",
     "exception": false,
     "start_time": "2023-08-03T01:45:45.700390",
     "status": "completed"
    },
    "tags": []
   },
   "outputs": [
    {
     "data": {
      "application/javascript": [
       "parent.postMessage({\"jupyterEvent\": \"custom.exercise_interaction\", \"data\": {\"outcomeType\": 2, \"failureMessage\": \"Expected return value of `240` given `engraving='Charlie+Denver'`, `solid_gold=True`, but got `<learntools.core.constants.PlaceholderValue object at 0x7af6c80b2c50>` instead.\", \"interactionType\": 1, \"questionType\": 2, \"questionId\": \"5_CustomEngravings\", \"learnToolsVersion\": \"0.3.4\", \"valueTowardsCompletion\": 0.0, \"exceptionClass\": \"\", \"trace\": \"\"}}, \"*\")"
      ],
      "text/plain": [
       "<IPython.core.display.Javascript object>"
      ]
     },
     "metadata": {},
     "output_type": "display_data"
    },
    {
     "data": {
      "text/markdown": [
       "<span style=\"color:#cc3333\">Incorrect:</span> Expected return value of `240` given `engraving='Charlie+Denver'`, `solid_gold=True`, but got `<learntools.core.constants.PlaceholderValue object at 0x7af6c80b2c50>` instead."
      ],
      "text/plain": [
       "Incorrect: Expected return value of `240` given `engraving='Charlie+Denver'`, `solid_gold=True`, but got `<learntools.core.constants.PlaceholderValue object at 0x7af6c80b2c50>` instead."
      ]
     },
     "metadata": {},
     "output_type": "display_data"
    }
   ],
   "source": [
    "def cost_of_project(engraving, solid_gold):\n",
    "    cost = ____\n",
    "    return cost\n",
    "\n",
    "# Check your answer\n",
    "q5.check()"
   ]
  },
  {
   "cell_type": "code",
   "execution_count": 12,
   "id": "aa787bb8",
   "metadata": {
    "execution": {
     "iopub.execute_input": "2023-08-03T01:45:45.731230Z",
     "iopub.status.busy": "2023-08-03T01:45:45.730910Z",
     "iopub.status.idle": "2023-08-03T01:45:45.734702Z",
     "shell.execute_reply": "2023-08-03T01:45:45.733940Z"
    },
    "papermill": {
     "duration": 0.012597,
     "end_time": "2023-08-03T01:45:45.736290",
     "exception": false,
     "start_time": "2023-08-03T01:45:45.723693",
     "status": "completed"
    },
    "tags": []
   },
   "outputs": [],
   "source": [
    "# Uncomment to see a hint\n",
    "#q5.hint()\n",
    "\n",
    "# Uncomment to view the solution\n",
    "#q5.solution()"
   ]
  },
  {
   "cell_type": "markdown",
   "id": "dcdba238",
   "metadata": {
    "papermill": {
     "duration": 0.006374,
     "end_time": "2023-08-03T01:45:45.749081",
     "exception": false,
     "start_time": "2023-08-03T01:45:45.742707",
     "status": "completed"
    },
    "tags": []
   },
   "source": [
    "Run the next code cell to calculate the cost of engraving `Charlie+Denver` on a solid gold ring."
   ]
  },
  {
   "cell_type": "code",
   "execution_count": 13,
   "id": "5a20979c",
   "metadata": {
    "execution": {
     "iopub.execute_input": "2023-08-03T01:45:45.763479Z",
     "iopub.status.busy": "2023-08-03T01:45:45.763141Z",
     "iopub.status.idle": "2023-08-03T01:45:45.768199Z",
     "shell.execute_reply": "2023-08-03T01:45:45.767169Z"
    },
    "papermill": {
     "duration": 0.014431,
     "end_time": "2023-08-03T01:45:45.769902",
     "exception": false,
     "start_time": "2023-08-03T01:45:45.755471",
     "status": "completed"
    },
    "tags": []
   },
   "outputs": [
    {
     "name": "stdout",
     "output_type": "stream",
     "text": [
      "<learntools.core.constants.PlaceholderValue object at 0x7af6c80b2c50>\n"
     ]
    }
   ],
   "source": [
    "project_one = cost_of_project(\"Charlie+Denver\", True)\n",
    "print(project_one)"
   ]
  },
  {
   "cell_type": "markdown",
   "id": "cd3257af",
   "metadata": {
    "papermill": {
     "duration": 0.00617,
     "end_time": "2023-08-03T01:45:45.782949",
     "exception": false,
     "start_time": "2023-08-03T01:45:45.776779",
     "status": "completed"
    },
    "tags": []
   },
   "source": [
    "Use the next code cell to calculate the cost of engraving `08/10/2000` on a gold plated ring."
   ]
  },
  {
   "cell_type": "code",
   "execution_count": 14,
   "id": "42cf77f0",
   "metadata": {
    "execution": {
     "iopub.execute_input": "2023-08-03T01:45:45.797631Z",
     "iopub.status.busy": "2023-08-03T01:45:45.797325Z",
     "iopub.status.idle": "2023-08-03T01:45:45.801605Z",
     "shell.execute_reply": "2023-08-03T01:45:45.800657Z"
    },
    "papermill": {
     "duration": 0.01399,
     "end_time": "2023-08-03T01:45:45.803475",
     "exception": false,
     "start_time": "2023-08-03T01:45:45.789485",
     "status": "completed"
    },
    "tags": []
   },
   "outputs": [
    {
     "name": "stdout",
     "output_type": "stream",
     "text": [
      "<learntools.core.constants.PlaceholderValue object at 0x7af6c80b2c50>\n"
     ]
    }
   ],
   "source": [
    "project_two = cost_of_project(\"08/10/2000\", False)\n",
    "print(project_two)"
   ]
  },
  {
   "cell_type": "markdown",
   "id": "fdef2218",
   "metadata": {
    "papermill": {
     "duration": 0.006351,
     "end_time": "2023-08-03T01:45:45.816795",
     "exception": false,
     "start_time": "2023-08-03T01:45:45.810444",
     "status": "completed"
    },
    "tags": []
   },
   "source": [
    "# Keep going\n",
    "\n",
    "Continue to the next lesson to **[learn about conditions and conditional statements](https://www.kaggle.com/alexisbcook/conditions-and-conditional-statements)**."
   ]
  },
  {
   "cell_type": "markdown",
   "id": "af980762",
   "metadata": {
    "papermill": {
     "duration": 0.006332,
     "end_time": "2023-08-03T01:45:45.829711",
     "exception": false,
     "start_time": "2023-08-03T01:45:45.823379",
     "status": "completed"
    },
    "tags": []
   },
   "source": [
    "---\n",
    "\n",
    "\n",
    "\n",
    "\n",
    "*Have questions or comments? Visit the [course discussion forum](https://www.kaggle.com/learn/intro-to-programming/discussion) to chat with other learners.*"
   ]
  }
 ],
 "metadata": {
  "kernelspec": {
   "display_name": "Python 3",
   "language": "python",
   "name": "python3"
  },
  "language_info": {
   "codemirror_mode": {
    "name": "ipython",
    "version": 3
   },
   "file_extension": ".py",
   "mimetype": "text/x-python",
   "name": "python",
   "nbconvert_exporter": "python",
   "pygments_lexer": "ipython3",
   "version": "3.10.12"
  },
  "papermill": {
   "default_parameters": {},
   "duration": 8.479411,
   "end_time": "2023-08-03T01:45:46.555111",
   "environment_variables": {},
   "exception": null,
   "input_path": "__notebook__.ipynb",
   "output_path": "__notebook__.ipynb",
   "parameters": {},
   "start_time": "2023-08-03T01:45:38.075700",
   "version": "2.4.0"
  }
 },
 "nbformat": 4,
 "nbformat_minor": 5
}
