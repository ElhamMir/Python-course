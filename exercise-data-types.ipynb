{
 "cells": [
  {
   "cell_type": "markdown",
   "id": "d14ba4cb",
   "metadata": {
    "papermill": {
     "duration": 0.00565,
     "end_time": "2023-08-03T01:39:55.332234",
     "exception": false,
     "start_time": "2023-08-03T01:39:55.326584",
     "status": "completed"
    },
    "tags": []
   },
   "source": [
    "**This notebook is an exercise in the [Intro to Programming](https://www.kaggle.com/learn/intro-to-programming) course.  You can reference the tutorial at [this link](https://www.kaggle.com/alexisbcook/data-types).**\n",
    "\n",
    "---\n"
   ]
  },
  {
   "cell_type": "markdown",
   "id": "34374fc4",
   "metadata": {
    "papermill": {
     "duration": 0.004815,
     "end_time": "2023-08-03T01:39:55.342180",
     "exception": false,
     "start_time": "2023-08-03T01:39:55.337365",
     "status": "completed"
    },
    "tags": []
   },
   "source": [
    "In the tutorial, you learned about four different data types: floats, integers, strings, and booleans.  In this exercise, you'll experiment with them.\n",
    "\n",
    "# Set up the notebook\n",
    "\n",
    "Run the next code cell without changes to set up the notebook."
   ]
  },
  {
   "cell_type": "code",
   "execution_count": 1,
   "id": "21f03a15",
   "metadata": {
    "execution": {
     "iopub.execute_input": "2023-08-03T01:39:55.355143Z",
     "iopub.status.busy": "2023-08-03T01:39:55.354704Z",
     "iopub.status.idle": "2023-08-03T01:39:55.410531Z",
     "shell.execute_reply": "2023-08-03T01:39:55.408418Z"
    },
    "papermill": {
     "duration": 0.065637,
     "end_time": "2023-08-03T01:39:55.413362",
     "exception": false,
     "start_time": "2023-08-03T01:39:55.347725",
     "status": "completed"
    },
    "tags": []
   },
   "outputs": [
    {
     "name": "stdout",
     "output_type": "stream",
     "text": [
      "Setup complete.\n"
     ]
    }
   ],
   "source": [
    "# Set up the exercise\n",
    "from learntools.core import binder\n",
    "binder.bind(globals())\n",
    "from learntools.intro_to_programming.ex3 import *\n",
    "print('Setup complete.')"
   ]
  },
  {
   "cell_type": "markdown",
   "id": "097d0348",
   "metadata": {
    "papermill": {
     "duration": 0.00493,
     "end_time": "2023-08-03T01:39:55.424069",
     "exception": false,
     "start_time": "2023-08-03T01:39:55.419139",
     "status": "completed"
    },
    "tags": []
   },
   "source": [
    "# Question 1\n",
    "\n",
    "You have seen how to convert a float to an integer with the `int` function.  Try this out yourself by running the code cell below."
   ]
  },
  {
   "cell_type": "code",
   "execution_count": 2,
   "id": "14ad73a8",
   "metadata": {
    "execution": {
     "iopub.execute_input": "2023-08-03T01:39:55.436274Z",
     "iopub.status.busy": "2023-08-03T01:39:55.435905Z",
     "iopub.status.idle": "2023-08-03T01:39:55.441815Z",
     "shell.execute_reply": "2023-08-03T01:39:55.440593Z"
    },
    "papermill": {
     "duration": 0.01469,
     "end_time": "2023-08-03T01:39:55.443952",
     "exception": false,
     "start_time": "2023-08-03T01:39:55.429262",
     "status": "completed"
    },
    "tags": []
   },
   "outputs": [
    {
     "name": "stdout",
     "output_type": "stream",
     "text": [
      "1.0\n",
      "<class 'float'>\n",
      "1\n",
      "<class 'int'>\n"
     ]
    }
   ],
   "source": [
    "# Define a float\n",
    "y = 1.\n",
    "print(y)\n",
    "print(type(y))\n",
    "\n",
    "# Convert float to integer with the int function\n",
    "z = int(y)\n",
    "print(z)\n",
    "print(type(z))"
   ]
  },
  {
   "cell_type": "markdown",
   "id": "d5fa7d26",
   "metadata": {
    "papermill": {
     "duration": 0.00496,
     "end_time": "2023-08-03T01:39:55.454300",
     "exception": false,
     "start_time": "2023-08-03T01:39:55.449340",
     "status": "completed"
    },
    "tags": []
   },
   "source": [
    "In this case, the float you are using has no numbers after the decimal.  \n",
    "- But what happens when you try to convert a float with a fractional part to an integer?  \n",
    "- How does the outcome of the `int` function change for positive and negative numbers?\n",
    "\n",
    "Use the next code cell to investigate and answer these questions.  Feel free to add or remove any lines of code -- it is your workspace!"
   ]
  },
  {
   "cell_type": "code",
   "execution_count": 3,
   "id": "69a62f73",
   "metadata": {
    "execution": {
     "iopub.execute_input": "2023-08-03T01:39:55.469989Z",
     "iopub.status.busy": "2023-08-03T01:39:55.469554Z",
     "iopub.status.idle": "2023-08-03T01:39:55.477423Z",
     "shell.execute_reply": "2023-08-03T01:39:55.474978Z"
    },
    "papermill": {
     "duration": 0.01923,
     "end_time": "2023-08-03T01:39:55.480858",
     "exception": false,
     "start_time": "2023-08-03T01:39:55.461628",
     "status": "completed"
    },
    "tags": []
   },
   "outputs": [
    {
     "name": "stdout",
     "output_type": "stream",
     "text": [
      "1\n",
      "1\n",
      "-3\n",
      "-2\n"
     ]
    }
   ],
   "source": [
    "# Uncomment and run this code to get started!\n",
    "print(int(1.2321))\n",
    "print(int(1.747))\n",
    "print(int(-3.94535))\n",
    "print(int(-2.19774))"
   ]
  },
  {
   "cell_type": "markdown",
   "id": "954af126",
   "metadata": {
    "papermill": {
     "duration": 0.004932,
     "end_time": "2023-08-03T01:39:55.491688",
     "exception": false,
     "start_time": "2023-08-03T01:39:55.486756",
     "status": "completed"
    },
    "tags": []
   },
   "source": [
    "Once you have an answer, run the code cell below to see the solution.  Viewing the solution will give you credit for answering the problem."
   ]
  },
  {
   "cell_type": "code",
   "execution_count": 4,
   "id": "e7ec9488",
   "metadata": {
    "execution": {
     "iopub.execute_input": "2023-08-03T01:39:55.503642Z",
     "iopub.status.busy": "2023-08-03T01:39:55.503293Z",
     "iopub.status.idle": "2023-08-03T01:39:55.513914Z",
     "shell.execute_reply": "2023-08-03T01:39:55.512508Z"
    },
    "papermill": {
     "duration": 0.019087,
     "end_time": "2023-08-03T01:39:55.515865",
     "exception": false,
     "start_time": "2023-08-03T01:39:55.496778",
     "status": "completed"
    },
    "tags": []
   },
   "outputs": [
    {
     "data": {
      "application/javascript": [
       "parent.postMessage({\"jupyterEvent\": \"custom.exercise_interaction\", \"data\": {\"outcomeType\": 1, \"valueTowardsCompletion\": 0.2, \"interactionType\": 1, \"questionType\": 4, \"questionId\": \"1_FloatToInt\", \"learnToolsVersion\": \"0.3.4\", \"failureMessage\": \"\", \"exceptionClass\": \"\", \"trace\": \"\"}}, \"*\")"
      ],
      "text/plain": [
       "<IPython.core.display.Javascript object>"
      ]
     },
     "metadata": {},
     "output_type": "display_data"
    },
    {
     "data": {
      "text/markdown": [
       "<span style=\"color:#33cc33\">Correct:</span> \n",
       "\n",
       "Negative floats are always rounded UP to the closest integer (for instance, both -1.1 and -1.9 are rounded up to -1). Positive floats are always rounded DOWN to the closest integer (for instance, 2.1 and 2.9 are rounded down to 2)."
      ],
      "text/plain": [
       "Correct: \n",
       "\n",
       "Negative floats are always rounded UP to the closest integer (for instance, both -1.1 and -1.9 are rounded up to -1). Positive floats are always rounded DOWN to the closest integer (for instance, 2.1 and 2.9 are rounded down to 2)."
      ]
     },
     "metadata": {},
     "output_type": "display_data"
    }
   ],
   "source": [
    "#Check your answer (Run this code cell to receive credit!)\n",
    "q1.check()"
   ]
  },
  {
   "cell_type": "markdown",
   "id": "07a9a573",
   "metadata": {
    "papermill": {
     "duration": 0.006081,
     "end_time": "2023-08-03T01:39:55.527833",
     "exception": false,
     "start_time": "2023-08-03T01:39:55.521752",
     "status": "completed"
    },
    "tags": []
   },
   "source": [
    "# Question 2\n",
    "\n",
    "In the tutorial, you learned about booleans (which can take a value of `True` or `False`), in addition to integers, floats, and strings.  For this question, your goal is to determine what happens when you multiply a boolean by any of these data types.  Specifically, \n",
    "- What happens when you multiply an integer or float by `True`?  What happens when you multiply them by `False`?  How does the answer change if the numbers are positive or negative?\n",
    "- What happens when you multiply a string by `True`?  By `False`?\n",
    "\n",
    "Use the next code cell for your investigation. "
   ]
  },
  {
   "cell_type": "code",
   "execution_count": 5,
   "id": "08f2dd67",
   "metadata": {
    "execution": {
     "iopub.execute_input": "2023-08-03T01:39:55.541771Z",
     "iopub.status.busy": "2023-08-03T01:39:55.541098Z",
     "iopub.status.idle": "2023-08-03T01:39:55.550774Z",
     "shell.execute_reply": "2023-08-03T01:39:55.548269Z"
    },
    "papermill": {
     "duration": 0.019826,
     "end_time": "2023-08-03T01:39:55.553413",
     "exception": false,
     "start_time": "2023-08-03T01:39:55.533587",
     "status": "completed"
    },
    "tags": []
   },
   "outputs": [
    {
     "name": "stdout",
     "output_type": "stream",
     "text": [
      "3\n",
      "-3.1\n",
      "<class 'str'>\n",
      "0\n"
     ]
    }
   ],
   "source": [
    "# Uncomment and run this code to get started!\n",
    "print(3 * True)\n",
    "print(-3.1 * True)\n",
    "print(type(\"abc\" * False))\n",
    "print(len(\"abc\" * False))"
   ]
  },
  {
   "cell_type": "markdown",
   "id": "f1d5c0d2",
   "metadata": {
    "papermill": {
     "duration": 0.005395,
     "end_time": "2023-08-03T01:39:55.564657",
     "exception": false,
     "start_time": "2023-08-03T01:39:55.559262",
     "status": "completed"
    },
    "tags": []
   },
   "source": [
    "Once you have an answer, run the code cell below to see the solution.  Viewing the solution will give you credit for answering the problem."
   ]
  },
  {
   "cell_type": "code",
   "execution_count": 6,
   "id": "6bbd016d",
   "metadata": {
    "execution": {
     "iopub.execute_input": "2023-08-03T01:39:55.578317Z",
     "iopub.status.busy": "2023-08-03T01:39:55.577925Z",
     "iopub.status.idle": "2023-08-03T01:39:55.589214Z",
     "shell.execute_reply": "2023-08-03T01:39:55.587175Z"
    },
    "papermill": {
     "duration": 0.02117,
     "end_time": "2023-08-03T01:39:55.591963",
     "exception": false,
     "start_time": "2023-08-03T01:39:55.570793",
     "status": "completed"
    },
    "tags": []
   },
   "outputs": [
    {
     "data": {
      "application/javascript": [
       "parent.postMessage({\"jupyterEvent\": \"custom.exercise_interaction\", \"data\": {\"outcomeType\": 1, \"valueTowardsCompletion\": 0.2, \"interactionType\": 1, \"questionType\": 4, \"questionId\": \"2_MultiplyBooleans\", \"learnToolsVersion\": \"0.3.4\", \"failureMessage\": \"\", \"exceptionClass\": \"\", \"trace\": \"\"}}, \"*\")"
      ],
      "text/plain": [
       "<IPython.core.display.Javascript object>"
      ]
     },
     "metadata": {},
     "output_type": "display_data"
    },
    {
     "data": {
      "text/markdown": [
       "<span style=\"color:#33cc33\">Correct:</span> \n",
       "\n",
       "When you multiple an integer or float by a boolean with value `True`, it just returns that same integer or float (and is equivalent to multiplying by 1).  If you multiply an integer or float by a boolean with value `False`, it always returns 0.  This is true for both positive and negative numbers.  If you multiply a string by a boolean with value `True`, it just returns that same string.  And if you multiply a string by a boolean with value `False`, it returns an empty string (or a string with length zero)."
      ],
      "text/plain": [
       "Correct: \n",
       "\n",
       "When you multiple an integer or float by a boolean with value `True`, it just returns that same integer or float (and is equivalent to multiplying by 1).  If you multiply an integer or float by a boolean with value `False`, it always returns 0.  This is true for both positive and negative numbers.  If you multiply a string by a boolean with value `True`, it just returns that same string.  And if you multiply a string by a boolean with value `False`, it returns an empty string (or a string with length zero)."
      ]
     },
     "metadata": {},
     "output_type": "display_data"
    }
   ],
   "source": [
    "# Check your answer (Run this code cell to receive credit!)\n",
    "q2.check()"
   ]
  },
  {
   "cell_type": "markdown",
   "id": "7c8183b0",
   "metadata": {
    "papermill": {
     "duration": 0.005568,
     "end_time": "2023-08-03T01:39:55.603636",
     "exception": false,
     "start_time": "2023-08-03T01:39:55.598068",
     "status": "completed"
    },
    "tags": []
   },
   "source": [
    "# Question 3\n",
    "\n",
    "In this question, you will build off your work from the previous exercise to write a function that estimates the value of a house.\n",
    "\n",
    "Use the next code cell to create a function `get_expected_cost` that takes as input three variables:\n",
    "- `beds` - number of bedrooms (data type float)\n",
    "- `baths` - number of bathrooms (data type float)\n",
    "- `has_basement` - whether or not the house has a basement (data type boolean)\n",
    "\n",
    "It should return the expected cost of a house with those characteristics. Assume that:\n",
    "- the expected cost for a house with 0 bedrooms and 0 bathrooms, and no basement is 80000, \n",
    "- each bedroom adds 30000 to the expected cost,\n",
    "- each bathroom adds 10000 to the expected cost, and\n",
    "- a basement adds 40000 to the expected cost.\n",
    "\n",
    "For instance,\n",
    "- a house with 1 bedroom, 1 bathroom, and no basement has an expected cost of 80000 + 30000 + 10000 = 120000.  This value will be calculated with `get_expected_cost(1, 1, False)`.\n",
    "- a house with 2 bedrooms, 1 bathroom, and a basement has an expected cost of 80000 + 2*30000 + 10000 + 40000 = 190000.  This value will be calculated with `get_expected_cost(2, 1, True)`.\n",
    "\n",
    "Remember you can always get a hint by uncommenting `q3.hint()` in the code cell following the next!"
   ]
  },
  {
   "cell_type": "code",
   "execution_count": 7,
   "id": "e1d3315b",
   "metadata": {
    "execution": {
     "iopub.execute_input": "2023-08-03T01:39:55.617650Z",
     "iopub.status.busy": "2023-08-03T01:39:55.617194Z",
     "iopub.status.idle": "2023-08-03T01:39:55.625923Z",
     "shell.execute_reply": "2023-08-03T01:39:55.624672Z"
    },
    "papermill": {
     "duration": 0.01896,
     "end_time": "2023-08-03T01:39:55.628631",
     "exception": false,
     "start_time": "2023-08-03T01:39:55.609671",
     "status": "completed"
    },
    "tags": []
   },
   "outputs": [
    {
     "data": {
      "application/javascript": [
       "parent.postMessage({\"jupyterEvent\": \"custom.exercise_interaction\", \"data\": {\"outcomeType\": 2, \"failureMessage\": \"Expected return value of `120000` given `beds=1`, `baths=1`, `has_basement=False`, but got `<learntools.core.constants.PlaceholderValue object at 0x78082662a9e0>` instead.\", \"interactionType\": 1, \"questionType\": 2, \"questionId\": \"3_EstimateHouseValueBool\", \"learnToolsVersion\": \"0.3.4\", \"valueTowardsCompletion\": 0.0, \"exceptionClass\": \"\", \"trace\": \"\"}}, \"*\")"
      ],
      "text/plain": [
       "<IPython.core.display.Javascript object>"
      ]
     },
     "metadata": {},
     "output_type": "display_data"
    },
    {
     "data": {
      "text/markdown": [
       "<span style=\"color:#cc3333\">Incorrect:</span> Expected return value of `120000` given `beds=1`, `baths=1`, `has_basement=False`, but got `<learntools.core.constants.PlaceholderValue object at 0x78082662a9e0>` instead."
      ],
      "text/plain": [
       "Incorrect: Expected return value of `120000` given `beds=1`, `baths=1`, `has_basement=False`, but got `<learntools.core.constants.PlaceholderValue object at 0x78082662a9e0>` instead."
      ]
     },
     "metadata": {},
     "output_type": "display_data"
    }
   ],
   "source": [
    "# TODO: Complete the function\n",
    "def get_expected_cost(beds, baths, has_basement):\n",
    "    value = ____\n",
    "    return value\n",
    "\n",
    "# Check your answer \n",
    "q3.check()"
   ]
  },
  {
   "cell_type": "code",
   "execution_count": 8,
   "id": "78b7f3b6",
   "metadata": {
    "execution": {
     "iopub.execute_input": "2023-08-03T01:39:55.642931Z",
     "iopub.status.busy": "2023-08-03T01:39:55.642563Z",
     "iopub.status.idle": "2023-08-03T01:39:55.646718Z",
     "shell.execute_reply": "2023-08-03T01:39:55.645831Z"
    },
    "papermill": {
     "duration": 0.01399,
     "end_time": "2023-08-03T01:39:55.649116",
     "exception": false,
     "start_time": "2023-08-03T01:39:55.635126",
     "status": "completed"
    },
    "tags": []
   },
   "outputs": [],
   "source": [
    "# Uncomment to see a hint\n",
    "#q3.hint()\n",
    "\n",
    "# Uncomment to view the solution\n",
    "#q3.solution()"
   ]
  },
  {
   "cell_type": "markdown",
   "id": "47162203",
   "metadata": {
    "papermill": {
     "duration": 0.006176,
     "end_time": "2023-08-03T01:39:55.661777",
     "exception": false,
     "start_time": "2023-08-03T01:39:55.655601",
     "status": "completed"
    },
    "tags": []
   },
   "source": [
    "# Question 4\n",
    "\n",
    "We'll continue our study of boolean arithmetic.  For this question, your task is to provide a description of what happpens when you add booleans. \n",
    "\n",
    "Use the next code cell for your investigation.  Feel free to add or remove any lines of code - use it as your workspace!"
   ]
  },
  {
   "cell_type": "code",
   "execution_count": 9,
   "id": "29196812",
   "metadata": {
    "execution": {
     "iopub.execute_input": "2023-08-03T01:39:55.675847Z",
     "iopub.status.busy": "2023-08-03T01:39:55.675468Z",
     "iopub.status.idle": "2023-08-03T01:39:55.681841Z",
     "shell.execute_reply": "2023-08-03T01:39:55.679929Z"
    },
    "papermill": {
     "duration": 0.015916,
     "end_time": "2023-08-03T01:39:55.683768",
     "exception": false,
     "start_time": "2023-08-03T01:39:55.667852",
     "status": "completed"
    },
    "tags": []
   },
   "outputs": [
    {
     "name": "stdout",
     "output_type": "stream",
     "text": [
      "0\n",
      "1\n",
      "1\n",
      "2\n",
      "3\n"
     ]
    }
   ],
   "source": [
    "print(False + False)\n",
    "print(True + False)\n",
    "print(False + True)\n",
    "print(True + True)\n",
    "print(False + True + True + True)"
   ]
  },
  {
   "cell_type": "markdown",
   "id": "5d873c61",
   "metadata": {
    "papermill": {
     "duration": 0.005841,
     "end_time": "2023-08-03T01:39:55.695777",
     "exception": false,
     "start_time": "2023-08-03T01:39:55.689936",
     "status": "completed"
    },
    "tags": []
   },
   "source": [
    "Once you have an answer, run the code cell below to see the solution.  Viewing the solution will give you credit for answering the problem."
   ]
  },
  {
   "cell_type": "code",
   "execution_count": 10,
   "id": "bec181c2",
   "metadata": {
    "execution": {
     "iopub.execute_input": "2023-08-03T01:39:55.709236Z",
     "iopub.status.busy": "2023-08-03T01:39:55.708924Z",
     "iopub.status.idle": "2023-08-03T01:39:55.717389Z",
     "shell.execute_reply": "2023-08-03T01:39:55.716515Z"
    },
    "papermill": {
     "duration": 0.018163,
     "end_time": "2023-08-03T01:39:55.719907",
     "exception": false,
     "start_time": "2023-08-03T01:39:55.701744",
     "status": "completed"
    },
    "tags": []
   },
   "outputs": [
    {
     "data": {
      "application/javascript": [
       "parent.postMessage({\"jupyterEvent\": \"custom.exercise_interaction\", \"data\": {\"outcomeType\": 1, \"valueTowardsCompletion\": 0.2, \"interactionType\": 1, \"questionType\": 4, \"questionId\": \"4_AddingBooleans\", \"learnToolsVersion\": \"0.3.4\", \"failureMessage\": \"\", \"exceptionClass\": \"\", \"trace\": \"\"}}, \"*\")"
      ],
      "text/plain": [
       "<IPython.core.display.Javascript object>"
      ]
     },
     "metadata": {},
     "output_type": "display_data"
    },
    {
     "data": {
      "text/markdown": [
       "<span style=\"color:#33cc33\">Correct:</span> \n",
       "\n",
       "When you add booleans, adding `False` is equivalent to adding 0, and adding `True` is equivalent to adding 1."
      ],
      "text/plain": [
       "Correct: \n",
       "\n",
       "When you add booleans, adding `False` is equivalent to adding 0, and adding `True` is equivalent to adding 1."
      ]
     },
     "metadata": {},
     "output_type": "display_data"
    }
   ],
   "source": [
    "# Check your answer (Run this code cell to receive credit!)\n",
    "q4.check()"
   ]
  },
  {
   "cell_type": "markdown",
   "id": "1d40c11d",
   "metadata": {
    "papermill": {
     "duration": 0.006049,
     "end_time": "2023-08-03T01:39:55.732930",
     "exception": false,
     "start_time": "2023-08-03T01:39:55.726881",
     "status": "completed"
    },
    "tags": []
   },
   "source": [
    "# 🌶️ Question 5\n",
    "\n",
    "You own an online shop where you sell rings with custom engravings.  You offer both gold plated and solid gold rings.\n",
    "- Gold plated rings have a base cost of \\\\$50, and you charge \\\\$7 per engraved unit.  \n",
    "- Solid gold rings have a base cost of \\\\$100, and you charge \\\\$10 per engraved unit.\n",
    "- Spaces and punctuation are counted as engraved units.\n",
    "\n",
    "Write a function `cost_of_project()` that takes two arguments:\n",
    "- `engraving` - a Python string with the text of the engraving\n",
    "- `solid_gold` - a Boolean that indicates whether the ring is solid gold\n",
    "\n",
    "It should return the cost of the project.  This question should be fairly challenging, and you may need a hint."
   ]
  },
  {
   "cell_type": "code",
   "execution_count": 11,
   "id": "153bb9da",
   "metadata": {
    "execution": {
     "iopub.execute_input": "2023-08-03T01:39:55.747428Z",
     "iopub.status.busy": "2023-08-03T01:39:55.747088Z",
     "iopub.status.idle": "2023-08-03T01:39:55.755695Z",
     "shell.execute_reply": "2023-08-03T01:39:55.754114Z"
    },
    "papermill": {
     "duration": 0.018895,
     "end_time": "2023-08-03T01:39:55.758128",
     "exception": false,
     "start_time": "2023-08-03T01:39:55.739233",
     "status": "completed"
    },
    "tags": []
   },
   "outputs": [
    {
     "data": {
      "application/javascript": [
       "parent.postMessage({\"jupyterEvent\": \"custom.exercise_interaction\", \"data\": {\"outcomeType\": 2, \"failureMessage\": \"Expected return value of `240` given `engraving='Charlie+Denver'`, `solid_gold=True`, but got `<learntools.core.constants.PlaceholderValue object at 0x78082662a9e0>` instead.\", \"interactionType\": 1, \"questionType\": 2, \"questionId\": \"5_CustomEngravings\", \"learnToolsVersion\": \"0.3.4\", \"valueTowardsCompletion\": 0.0, \"exceptionClass\": \"\", \"trace\": \"\"}}, \"*\")"
      ],
      "text/plain": [
       "<IPython.core.display.Javascript object>"
      ]
     },
     "metadata": {},
     "output_type": "display_data"
    },
    {
     "data": {
      "text/markdown": [
       "<span style=\"color:#cc3333\">Incorrect:</span> Expected return value of `240` given `engraving='Charlie+Denver'`, `solid_gold=True`, but got `<learntools.core.constants.PlaceholderValue object at 0x78082662a9e0>` instead."
      ],
      "text/plain": [
       "Incorrect: Expected return value of `240` given `engraving='Charlie+Denver'`, `solid_gold=True`, but got `<learntools.core.constants.PlaceholderValue object at 0x78082662a9e0>` instead."
      ]
     },
     "metadata": {},
     "output_type": "display_data"
    }
   ],
   "source": [
    "def cost_of_project(engraving, solid_gold):\n",
    "    cost = ____\n",
    "    return cost\n",
    "\n",
    "# Check your answer\n",
    "q5.check()"
   ]
  },
  {
   "cell_type": "code",
   "execution_count": 12,
   "id": "c46c3493",
   "metadata": {
    "execution": {
     "iopub.execute_input": "2023-08-03T01:39:55.773878Z",
     "iopub.status.busy": "2023-08-03T01:39:55.773549Z",
     "iopub.status.idle": "2023-08-03T01:39:55.776957Z",
     "shell.execute_reply": "2023-08-03T01:39:55.776046Z"
    },
    "papermill": {
     "duration": 0.013462,
     "end_time": "2023-08-03T01:39:55.778753",
     "exception": false,
     "start_time": "2023-08-03T01:39:55.765291",
     "status": "completed"
    },
    "tags": []
   },
   "outputs": [],
   "source": [
    "# Uncomment to see a hint\n",
    "#q5.hint()\n",
    "\n",
    "# Uncomment to view the solution\n",
    "#q5.solution()"
   ]
  },
  {
   "cell_type": "markdown",
   "id": "402ece00",
   "metadata": {
    "papermill": {
     "duration": 0.007017,
     "end_time": "2023-08-03T01:39:55.792718",
     "exception": false,
     "start_time": "2023-08-03T01:39:55.785701",
     "status": "completed"
    },
    "tags": []
   },
   "source": [
    "Run the next code cell to calculate the cost of engraving `Charlie+Denver` on a solid gold ring."
   ]
  },
  {
   "cell_type": "code",
   "execution_count": 13,
   "id": "912141a3",
   "metadata": {
    "execution": {
     "iopub.execute_input": "2023-08-03T01:39:55.812291Z",
     "iopub.status.busy": "2023-08-03T01:39:55.809943Z",
     "iopub.status.idle": "2023-08-03T01:39:55.818947Z",
     "shell.execute_reply": "2023-08-03T01:39:55.816936Z"
    },
    "papermill": {
     "duration": 0.02143,
     "end_time": "2023-08-03T01:39:55.821717",
     "exception": false,
     "start_time": "2023-08-03T01:39:55.800287",
     "status": "completed"
    },
    "tags": []
   },
   "outputs": [
    {
     "name": "stdout",
     "output_type": "stream",
     "text": [
      "<learntools.core.constants.PlaceholderValue object at 0x78082662a9e0>\n"
     ]
    }
   ],
   "source": [
    "project_one = cost_of_project(\"Charlie+Denver\", True)\n",
    "print(project_one)"
   ]
  },
  {
   "cell_type": "markdown",
   "id": "d7f76b3b",
   "metadata": {
    "papermill": {
     "duration": 0.006812,
     "end_time": "2023-08-03T01:39:55.835801",
     "exception": false,
     "start_time": "2023-08-03T01:39:55.828989",
     "status": "completed"
    },
    "tags": []
   },
   "source": [
    "Use the next code cell to calculate the cost of engraving `08/10/2000` on a gold plated ring."
   ]
  },
  {
   "cell_type": "code",
   "execution_count": 14,
   "id": "629194b3",
   "metadata": {
    "execution": {
     "iopub.execute_input": "2023-08-03T01:39:55.853143Z",
     "iopub.status.busy": "2023-08-03T01:39:55.852747Z",
     "iopub.status.idle": "2023-08-03T01:39:55.859425Z",
     "shell.execute_reply": "2023-08-03T01:39:55.857370Z"
    },
    "papermill": {
     "duration": 0.019253,
     "end_time": "2023-08-03T01:39:55.862352",
     "exception": false,
     "start_time": "2023-08-03T01:39:55.843099",
     "status": "completed"
    },
    "tags": []
   },
   "outputs": [
    {
     "name": "stdout",
     "output_type": "stream",
     "text": [
      "<learntools.core.constants.PlaceholderValue object at 0x78082662a9e0>\n"
     ]
    }
   ],
   "source": [
    "project_two = cost_of_project(\"08/10/2000\", False)\n",
    "print(project_two)"
   ]
  },
  {
   "cell_type": "markdown",
   "id": "dd3129f9",
   "metadata": {
    "papermill": {
     "duration": 0.007571,
     "end_time": "2023-08-03T01:39:55.877674",
     "exception": false,
     "start_time": "2023-08-03T01:39:55.870103",
     "status": "completed"
    },
    "tags": []
   },
   "source": [
    "# Keep going\n",
    "\n",
    "Continue to the next lesson to **[learn about conditions and conditional statements](https://www.kaggle.com/alexisbcook/conditions-and-conditional-statements)**."
   ]
  },
  {
   "cell_type": "markdown",
   "id": "efbbf4ff",
   "metadata": {
    "papermill": {
     "duration": 0.008041,
     "end_time": "2023-08-03T01:39:55.893089",
     "exception": false,
     "start_time": "2023-08-03T01:39:55.885048",
     "status": "completed"
    },
    "tags": []
   },
   "source": [
    "---\n",
    "\n",
    "\n",
    "\n",
    "\n",
    "*Have questions or comments? Visit the [course discussion forum](https://www.kaggle.com/learn/intro-to-programming/discussion) to chat with other learners.*"
   ]
  }
 ],
 "metadata": {
  "kernelspec": {
   "display_name": "Python 3",
   "language": "python",
   "name": "python3"
  },
  "language_info": {
   "codemirror_mode": {
    "name": "ipython",
    "version": 3
   },
   "file_extension": ".py",
   "mimetype": "text/x-python",
   "name": "python",
   "nbconvert_exporter": "python",
   "pygments_lexer": "ipython3",
   "version": "3.10.12"
  },
  "papermill": {
   "default_parameters": {},
   "duration": 11.130254,
   "end_time": "2023-08-03T01:39:56.824385",
   "environment_variables": {},
   "exception": null,
   "input_path": "__notebook__.ipynb",
   "output_path": "__notebook__.ipynb",
   "parameters": {},
   "start_time": "2023-08-03T01:39:45.694131",
   "version": "2.4.0"
  }
 },
 "nbformat": 4,
 "nbformat_minor": 5
}
