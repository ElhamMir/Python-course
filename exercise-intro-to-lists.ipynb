{
 "cells": [
  {
   "cell_type": "markdown",
   "id": "13f9b19b",
   "metadata": {
    "papermill": {
     "duration": 0.006822,
     "end_time": "2023-08-09T00:40:34.826867",
     "exception": false,
     "start_time": "2023-08-09T00:40:34.820045",
     "status": "completed"
    },
    "tags": []
   },
   "source": [
    "**This notebook is an exercise in the [Intro to Programming](https://www.kaggle.com/learn/intro-to-programming) course.  You can reference the tutorial at [this link](https://www.kaggle.com/alexisbcook/intro-to-lists).**\n",
    "\n",
    "---\n"
   ]
  },
  {
   "cell_type": "markdown",
   "id": "6be1f2ec",
   "metadata": {
    "papermill": {
     "duration": 0.005856,
     "end_time": "2023-08-09T00:40:34.839054",
     "exception": false,
     "start_time": "2023-08-09T00:40:34.833198",
     "status": "completed"
    },
    "tags": []
   },
   "source": [
    "In the tutorial, you learned how to define and modify Python lists.  In this exercise, you will use your new knowledge to solve several problems.\n",
    "\n",
    "# Set up the notebook\n",
    "\n",
    "Run the next code cell without changes to set up the notebook."
   ]
  },
  {
   "cell_type": "code",
   "execution_count": 1,
   "id": "113fa089",
   "metadata": {
    "execution": {
     "iopub.execute_input": "2023-08-09T00:40:34.853796Z",
     "iopub.status.busy": "2023-08-09T00:40:34.853336Z",
     "iopub.status.idle": "2023-08-09T00:40:34.906215Z",
     "shell.execute_reply": "2023-08-09T00:40:34.904853Z"
    },
    "papermill": {
     "duration": 0.063281,
     "end_time": "2023-08-09T00:40:34.909118",
     "exception": false,
     "start_time": "2023-08-09T00:40:34.845837",
     "status": "completed"
    },
    "tags": []
   },
   "outputs": [
    {
     "name": "stdout",
     "output_type": "stream",
     "text": [
      "Setup complete.\n"
     ]
    }
   ],
   "source": [
    "from learntools.core import binder\n",
    "binder.bind(globals())\n",
    "from learntools.intro_to_programming.ex5 import *\n",
    "print('Setup complete.')"
   ]
  },
  {
   "cell_type": "markdown",
   "id": "8fc83486",
   "metadata": {
    "papermill": {
     "duration": 0.006053,
     "end_time": "2023-08-09T00:40:34.921592",
     "exception": false,
     "start_time": "2023-08-09T00:40:34.915539",
     "status": "completed"
    },
    "tags": []
   },
   "source": [
    "# Question 1\n",
    "\n",
    "You own a restaurant with five food dishes, organized in the Python list `menu` below.  One day, you decide to:\n",
    "- remove bean soup (`'bean soup'`) from the menu, and\n",
    "- add roasted beet salad (`'roasted beet salad'`) to the menu.\n",
    "\n",
    "Implement this change to the list below.  While completing this task, \n",
    "- do not change the line that creates the `menu` list.  \n",
    "- your answer should use `.remove()` and `.append()`.  "
   ]
  },
  {
   "cell_type": "code",
   "execution_count": 2,
   "id": "b1503cff",
   "metadata": {
    "execution": {
     "iopub.execute_input": "2023-08-09T00:40:34.939018Z",
     "iopub.status.busy": "2023-08-09T00:40:34.938624Z",
     "iopub.status.idle": "2023-08-09T00:40:34.952419Z",
     "shell.execute_reply": "2023-08-09T00:40:34.950967Z"
    },
    "papermill": {
     "duration": 0.024424,
     "end_time": "2023-08-09T00:40:34.954748",
     "exception": false,
     "start_time": "2023-08-09T00:40:34.930324",
     "status": "completed"
    },
    "tags": []
   },
   "outputs": [
    {
     "name": "stdout",
     "output_type": "stream",
     "text": [
      "['stewed meat with onions', 'risotto with trout and shrimp', 'fish soup with cream and onion', 'gyro', 'roasted beet salad']\n"
     ]
    },
    {
     "data": {
      "application/javascript": [
       "parent.postMessage({\"jupyterEvent\": \"custom.exercise_interaction\", \"data\": {\"outcomeType\": 1, \"valueTowardsCompletion\": 0.2, \"interactionType\": 1, \"questionType\": 2, \"questionId\": \"1_FoodMenu\", \"learnToolsVersion\": \"0.3.4\", \"failureMessage\": \"\", \"exceptionClass\": \"\", \"trace\": \"\"}}, \"*\")"
      ],
      "text/plain": [
       "<IPython.core.display.Javascript object>"
      ]
     },
     "metadata": {},
     "output_type": "display_data"
    },
    {
     "data": {
      "text/markdown": [
       "<span style=\"color:#33cc33\">Correct</span>"
      ],
      "text/plain": [
       "Correct"
      ]
     },
     "metadata": {},
     "output_type": "display_data"
    }
   ],
   "source": [
    "# Do not change: Initial menu for your restaurant\n",
    "menu = ['stewed meat with onions', 'bean soup', 'risotto with trout and shrimp',\n",
    "       'fish soup with cream and onion', 'gyro']\n",
    "menu.remove('bean soup')\n",
    "menu.append('roasted beet salad')\n",
    "print(menu)\n",
    "\n",
    "# TODO: remove 'bean soup', and add 'roasted beet salad' to the end of the menu\n",
    "____\n",
    "\n",
    "# Do not change: Check your answer\n",
    "q1.check()"
   ]
  },
  {
   "cell_type": "code",
   "execution_count": 3,
   "id": "8d3b6668",
   "metadata": {
    "execution": {
     "iopub.execute_input": "2023-08-09T00:40:34.969922Z",
     "iopub.status.busy": "2023-08-09T00:40:34.969446Z",
     "iopub.status.idle": "2023-08-09T00:40:34.974126Z",
     "shell.execute_reply": "2023-08-09T00:40:34.973213Z"
    },
    "papermill": {
     "duration": 0.014817,
     "end_time": "2023-08-09T00:40:34.976185",
     "exception": false,
     "start_time": "2023-08-09T00:40:34.961368",
     "status": "completed"
    },
    "tags": []
   },
   "outputs": [],
   "source": [
    "# Uncomment to see a hint\n",
    "#q1.hint()\n",
    "\n",
    "# Uncomment to see the solution\n",
    "#q1.solution()"
   ]
  },
  {
   "cell_type": "markdown",
   "id": "e363e39a",
   "metadata": {
    "papermill": {
     "duration": 0.006298,
     "end_time": "2023-08-09T00:40:34.989016",
     "exception": false,
     "start_time": "2023-08-09T00:40:34.982718",
     "status": "completed"
    },
    "tags": []
   },
   "source": [
    "# Question 2\n",
    "\n",
    "The list `num_customers` contains the number of customers who came into your restaurant every day over the last month (which lasted thirty days).  Fill in values for each of the following:\n",
    "- `avg_first_seven` - average number of customers who visited in the first seven days\n",
    "- `avg_last_seven` - average number of customers who visited in the last seven days\n",
    "- `max_month` - number of customers on the day that got the most customers in the last month\n",
    "- `min_month` - number of customers on the day that got the least customers in the last month\n",
    "\n",
    "Answer this question by writing code.  For instance, if you have to find the minimum value in a list, use `min()` instead of scanning for the smallest value and directly filling in a number."
   ]
  },
  {
   "cell_type": "code",
   "execution_count": 4,
   "id": "9ed8dfa3",
   "metadata": {
    "execution": {
     "iopub.execute_input": "2023-08-09T00:40:35.005191Z",
     "iopub.status.busy": "2023-08-09T00:40:35.004828Z",
     "iopub.status.idle": "2023-08-09T00:40:35.015664Z",
     "shell.execute_reply": "2023-08-09T00:40:35.014394Z"
    },
    "papermill": {
     "duration": 0.021064,
     "end_time": "2023-08-09T00:40:35.017995",
     "exception": false,
     "start_time": "2023-08-09T00:40:34.996931",
     "status": "completed"
    },
    "tags": []
   },
   "outputs": [
    {
     "data": {
      "application/javascript": [
       "parent.postMessage({\"jupyterEvent\": \"custom.exercise_interaction\", \"data\": {\"outcomeType\": 1, \"valueTowardsCompletion\": 0.2, \"interactionType\": 1, \"questionType\": 1, \"questionId\": \"2_NumCustomers\", \"learnToolsVersion\": \"0.3.4\", \"failureMessage\": \"\", \"exceptionClass\": \"\", \"trace\": \"\"}}, \"*\")"
      ],
      "text/plain": [
       "<IPython.core.display.Javascript object>"
      ]
     },
     "metadata": {},
     "output_type": "display_data"
    },
    {
     "data": {
      "text/markdown": [
       "<span style=\"color:#33cc33\">Correct</span>"
      ],
      "text/plain": [
       "Correct"
      ]
     },
     "metadata": {},
     "output_type": "display_data"
    }
   ],
   "source": [
    "# Do not change: Number of customers each day for the last month\n",
    "num_customers = [137, 147, 135, 128, 170, 174, 165, 146, 126, 159,\n",
    "                 141, 148, 132, 147, 168, 153, 170, 161, 148, 152,\n",
    "                 141, 151, 131, 149, 164, 163, 143, 143, 166, 171]\n",
    "\n",
    "# TODO: Fill in values for the variables below\n",
    "avg_first_seven = sum(num_customers[0:7])/7 \n",
    "avg_last_seven = sum(num_customers[-7:])/7\n",
    "max_month =max(num_customers)\n",
    "min_month = min(num_customers)\n",
    "\n",
    "# Do not change: Check your answer\n",
    "q2.check()"
   ]
  },
  {
   "cell_type": "code",
   "execution_count": 5,
   "id": "91476b01",
   "metadata": {
    "execution": {
     "iopub.execute_input": "2023-08-09T00:40:35.033937Z",
     "iopub.status.busy": "2023-08-09T00:40:35.033527Z",
     "iopub.status.idle": "2023-08-09T00:40:35.038036Z",
     "shell.execute_reply": "2023-08-09T00:40:35.036846Z"
    },
    "papermill": {
     "duration": 0.015417,
     "end_time": "2023-08-09T00:40:35.040416",
     "exception": false,
     "start_time": "2023-08-09T00:40:35.024999",
     "status": "completed"
    },
    "tags": []
   },
   "outputs": [],
   "source": [
    "# Uncomment to see a hint\n",
    "#q2.hint()\n",
    "\n",
    "# Uncomment to see the solution\n",
    "#q2.solution()"
   ]
  },
  {
   "cell_type": "markdown",
   "id": "fc1b4c22",
   "metadata": {
    "papermill": {
     "duration": 0.007225,
     "end_time": "2023-08-09T00:40:35.054955",
     "exception": false,
     "start_time": "2023-08-09T00:40:35.047730",
     "status": "completed"
    },
    "tags": []
   },
   "source": [
    "# Question 3\n",
    "\n",
    "In the tutorial, we gave an example of a Python string with information that was better as a list."
   ]
  },
  {
   "cell_type": "code",
   "execution_count": 6,
   "id": "cbe6a17b",
   "metadata": {
    "execution": {
     "iopub.execute_input": "2023-08-09T00:40:35.070841Z",
     "iopub.status.busy": "2023-08-09T00:40:35.070392Z",
     "iopub.status.idle": "2023-08-09T00:40:35.075481Z",
     "shell.execute_reply": "2023-08-09T00:40:35.074296Z"
    },
    "papermill": {
     "duration": 0.015616,
     "end_time": "2023-08-09T00:40:35.077833",
     "exception": false,
     "start_time": "2023-08-09T00:40:35.062217",
     "status": "completed"
    },
    "tags": []
   },
   "outputs": [],
   "source": [
    "flowers = \"pink primrose,hard-leaved pocket orchid,canterbury bells,sweet pea,english marigold,tiger lily,moon orchid,bird of paradise,monkshood,globe thistle\""
   ]
  },
  {
   "cell_type": "markdown",
   "id": "7d1a8293",
   "metadata": {
    "papermill": {
     "duration": 0.006471,
     "end_time": "2023-08-09T00:40:35.091249",
     "exception": false,
     "start_time": "2023-08-09T00:40:35.084778",
     "status": "completed"
    },
    "tags": []
   },
   "source": [
    "You can actually use Python to quickly turn this string into a list with `.split()`.  In the parentheses, we need to provide the character should be used to mark the end of one list item and the beginning of another, and enclose it in quotation marks.  In this case, that character is a comma."
   ]
  },
  {
   "cell_type": "code",
   "execution_count": 7,
   "id": "34337ecf",
   "metadata": {
    "execution": {
     "iopub.execute_input": "2023-08-09T00:40:35.107323Z",
     "iopub.status.busy": "2023-08-09T00:40:35.106818Z",
     "iopub.status.idle": "2023-08-09T00:40:35.112445Z",
     "shell.execute_reply": "2023-08-09T00:40:35.111142Z"
    },
    "papermill": {
     "duration": 0.017551,
     "end_time": "2023-08-09T00:40:35.115519",
     "exception": false,
     "start_time": "2023-08-09T00:40:35.097968",
     "status": "completed"
    },
    "tags": []
   },
   "outputs": [
    {
     "name": "stdout",
     "output_type": "stream",
     "text": [
      "['pink primrose', 'hard-leaved pocket orchid', 'canterbury bells', 'sweet pea', 'english marigold', 'tiger lily', 'moon orchid', 'bird of paradise', 'monkshood', 'globe thistle']\n"
     ]
    }
   ],
   "source": [
    " print(flowers.split(\",\"))"
   ]
  },
  {
   "cell_type": "markdown",
   "id": "fd242586",
   "metadata": {
    "papermill": {
     "duration": 0.00662,
     "end_time": "2023-08-09T00:40:35.129219",
     "exception": false,
     "start_time": "2023-08-09T00:40:35.122599",
     "status": "completed"
    },
    "tags": []
   },
   "source": [
    "Now it is your turn to try this out!  Create two Python lists:\n",
    "- `letters` should be a Python list where each entry is an uppercase letter of the English alphabet.  For instance, the first two entries should be `\"A\"` and `\"B\"`, and the final two entries should be `\"Y\"` and `\"Z\"`.  Use the string `alphabet` to create this list.\n",
    "- `address` should be a Python list where each row in `address` is a different item in the list.  Currently, each row in `address` is separated by a comma. "
   ]
  },
  {
   "cell_type": "code",
   "execution_count": 8,
   "id": "9ba2d4a2",
   "metadata": {
    "execution": {
     "iopub.execute_input": "2023-08-09T00:40:35.144772Z",
     "iopub.status.busy": "2023-08-09T00:40:35.144384Z",
     "iopub.status.idle": "2023-08-09T00:40:35.152699Z",
     "shell.execute_reply": "2023-08-09T00:40:35.151833Z"
    },
    "papermill": {
     "duration": 0.018524,
     "end_time": "2023-08-09T00:40:35.154750",
     "exception": false,
     "start_time": "2023-08-09T00:40:35.136226",
     "status": "completed"
    },
    "tags": []
   },
   "outputs": [
    {
     "data": {
      "application/javascript": [
       "parent.postMessage({\"jupyterEvent\": \"custom.exercise_interaction\", \"data\": {\"outcomeType\": 1, \"valueTowardsCompletion\": 0.2, \"interactionType\": 1, \"questionType\": 1, \"questionId\": \"3_SplitString\", \"learnToolsVersion\": \"0.3.4\", \"failureMessage\": \"\", \"exceptionClass\": \"\", \"trace\": \"\"}}, \"*\")"
      ],
      "text/plain": [
       "<IPython.core.display.Javascript object>"
      ]
     },
     "metadata": {},
     "output_type": "display_data"
    },
    {
     "data": {
      "text/markdown": [
       "<span style=\"color:#33cc33\">Correct</span>"
      ],
      "text/plain": [
       "Correct"
      ]
     },
     "metadata": {},
     "output_type": "display_data"
    }
   ],
   "source": [
    "# DO not change: Define two Python strings\n",
    "alphabet = \"A.B.C.D.E.F.G.H.I.J.K.L.M.N.O.P.Q.R.S.T.U.V.W.X.Y.Z\"\n",
    "address = \"Mr. H. Potter,The cupboard under the Stairs,4 Privet Drive,Little Whinging,Surrey\"\n",
    "\n",
    "# TODO: Convert strings into Python lists\n",
    "letters = alphabet.split('.')\n",
    "formatted_address = address.split(',')\n",
    "\n",
    "# Do not change: Check your answer\n",
    "q3.check()"
   ]
  },
  {
   "cell_type": "code",
   "execution_count": 9,
   "id": "c06ebc6f",
   "metadata": {
    "execution": {
     "iopub.execute_input": "2023-08-09T00:40:35.171122Z",
     "iopub.status.busy": "2023-08-09T00:40:35.170738Z",
     "iopub.status.idle": "2023-08-09T00:40:35.174400Z",
     "shell.execute_reply": "2023-08-09T00:40:35.173478Z"
    },
    "papermill": {
     "duration": 0.014749,
     "end_time": "2023-08-09T00:40:35.176812",
     "exception": false,
     "start_time": "2023-08-09T00:40:35.162063",
     "status": "completed"
    },
    "tags": []
   },
   "outputs": [],
   "source": [
    "# Uncomment to see a hint\n",
    "#q3.hint()\n",
    "\n",
    "# Uncomment to see the solution\n",
    "#q3.solution()"
   ]
  },
  {
   "cell_type": "markdown",
   "id": "191b8ccc",
   "metadata": {
    "papermill": {
     "duration": 0.006884,
     "end_time": "2023-08-09T00:40:35.191049",
     "exception": false,
     "start_time": "2023-08-09T00:40:35.184165",
     "status": "completed"
    },
    "tags": []
   },
   "source": [
    "# Question 4\n",
    "\n",
    "In the Python course, you'll learn all about **list comprehensions**, which allow you to create a list based on the values in another list.  In this question, you'll get a brief preview of how they work.\n",
    "\n",
    "Say we're working with the list below."
   ]
  },
  {
   "cell_type": "code",
   "execution_count": 10,
   "id": "9d5e04ce",
   "metadata": {
    "execution": {
     "iopub.execute_input": "2023-08-09T00:40:35.207785Z",
     "iopub.status.busy": "2023-08-09T00:40:35.207378Z",
     "iopub.status.idle": "2023-08-09T00:40:35.212297Z",
     "shell.execute_reply": "2023-08-09T00:40:35.211253Z"
    },
    "papermill": {
     "duration": 0.015991,
     "end_time": "2023-08-09T00:40:35.214689",
     "exception": false,
     "start_time": "2023-08-09T00:40:35.198698",
     "status": "completed"
    },
    "tags": []
   },
   "outputs": [],
   "source": [
    "test_ratings = [1, 2, 3, 4, 5]"
   ]
  },
  {
   "cell_type": "markdown",
   "id": "513a65d5",
   "metadata": {
    "papermill": {
     "duration": 0.006773,
     "end_time": "2023-08-09T00:40:35.228629",
     "exception": false,
     "start_time": "2023-08-09T00:40:35.221856",
     "status": "completed"
    },
    "tags": []
   },
   "source": [
    "Then we can use this list (`test_ratings`) to create a new list (`test_liked`) where each item has been turned into a boolean, depending on whether or not the item is greater than or equal to four."
   ]
  },
  {
   "cell_type": "code",
   "execution_count": 11,
   "id": "a67b966d",
   "metadata": {
    "execution": {
     "iopub.execute_input": "2023-08-09T00:40:35.245998Z",
     "iopub.status.busy": "2023-08-09T00:40:35.245334Z",
     "iopub.status.idle": "2023-08-09T00:40:35.251100Z",
     "shell.execute_reply": "2023-08-09T00:40:35.249909Z"
    },
    "papermill": {
     "duration": 0.017741,
     "end_time": "2023-08-09T00:40:35.254472",
     "exception": false,
     "start_time": "2023-08-09T00:40:35.236731",
     "status": "completed"
    },
    "tags": []
   },
   "outputs": [
    {
     "name": "stdout",
     "output_type": "stream",
     "text": [
      "[False, False, False, True, True]\n"
     ]
    }
   ],
   "source": [
    "test_liked = [i>=4 for i in test_ratings]\n",
    "print(test_liked)"
   ]
  },
  {
   "cell_type": "markdown",
   "id": "f52e8778",
   "metadata": {
    "papermill": {
     "duration": 0.007057,
     "end_time": "2023-08-09T00:40:35.268691",
     "exception": false,
     "start_time": "2023-08-09T00:40:35.261634",
     "status": "completed"
    },
    "tags": []
   },
   "source": [
    "In this question, you'll use this list comprehension to define a function `percentage_liked()` that takes one argument as input:\n",
    "- `ratings`: list of ratings that people gave to a movie, where each rating is a number between 1-5, inclusive\n",
    "\n",
    "We say someone liked the movie, if they gave a rating of either 4 or 5.  Your function should return the percentage of people who liked the movie.\n",
    "\n",
    "For instance, if we supply a value of `[1, 2, 3, 4, 5, 4, 5, 1]`, then 50% (4/8) of the people liked the movie, and the function should return `0.5`.\n",
    "\n",
    "Part of the function has already been completed for you.  You need only use `list_liked` to calculate `percentage_liked`."
   ]
  },
  {
   "cell_type": "code",
   "execution_count": 12,
   "id": "2797f96a",
   "metadata": {
    "execution": {
     "iopub.execute_input": "2023-08-09T00:40:35.285375Z",
     "iopub.status.busy": "2023-08-09T00:40:35.284985Z",
     "iopub.status.idle": "2023-08-09T00:40:35.294847Z",
     "shell.execute_reply": "2023-08-09T00:40:35.293544Z"
    },
    "papermill": {
     "duration": 0.020937,
     "end_time": "2023-08-09T00:40:35.297110",
     "exception": false,
     "start_time": "2023-08-09T00:40:35.276173",
     "status": "completed"
    },
    "tags": []
   },
   "outputs": [
    {
     "data": {
      "application/javascript": [
       "parent.postMessage({\"jupyterEvent\": \"custom.exercise_interaction\", \"data\": {\"outcomeType\": 1, \"valueTowardsCompletion\": 0.2, \"interactionType\": 1, \"questionType\": 2, \"questionId\": \"4_PercentageLiked\", \"learnToolsVersion\": \"0.3.4\", \"failureMessage\": \"\", \"exceptionClass\": \"\", \"trace\": \"\"}}, \"*\")"
      ],
      "text/plain": [
       "<IPython.core.display.Javascript object>"
      ]
     },
     "metadata": {},
     "output_type": "display_data"
    },
    {
     "data": {
      "text/markdown": [
       "<span style=\"color:#33cc33\">Correct</span>"
      ],
      "text/plain": [
       "Correct"
      ]
     },
     "metadata": {},
     "output_type": "display_data"
    }
   ],
   "source": [
    "\n",
    "def percentage_liked(ratings):\n",
    "    list_liked = [i>=4 for i in ratings]\n",
    "    # TODO: Complete the function\n",
    "    percentage_liked =(sum(list_liked)/len(ratings))\n",
    "    return percentage_liked\n",
    "\n",
    "# Do not change: should return 0.5\n",
    "percentage_liked([1, 2, 3, 4, 5, 4, 5, 1])\n",
    "\n",
    "# Do not change: Check your answer\n",
    "q4.check()"
   ]
  },
  {
   "cell_type": "code",
   "execution_count": 13,
   "id": "fa70d006",
   "metadata": {
    "execution": {
     "iopub.execute_input": "2023-08-09T00:40:35.313633Z",
     "iopub.status.busy": "2023-08-09T00:40:35.313273Z",
     "iopub.status.idle": "2023-08-09T00:40:35.321095Z",
     "shell.execute_reply": "2023-08-09T00:40:35.319915Z"
    },
    "papermill": {
     "duration": 0.018992,
     "end_time": "2023-08-09T00:40:35.323378",
     "exception": false,
     "start_time": "2023-08-09T00:40:35.304386",
     "status": "completed"
    },
    "tags": []
   },
   "outputs": [
    {
     "data": {
      "application/javascript": [
       "parent.postMessage({\"jupyterEvent\": \"custom.exercise_interaction\", \"data\": {\"interactionType\": 3, \"questionType\": 2, \"questionId\": \"4_PercentageLiked\", \"learnToolsVersion\": \"0.3.4\", \"valueTowardsCompletion\": 0.0, \"failureMessage\": \"\", \"exceptionClass\": \"\", \"trace\": \"\", \"outcomeType\": 4}}, \"*\")"
      ],
      "text/plain": [
       "<IPython.core.display.Javascript object>"
      ]
     },
     "metadata": {},
     "output_type": "display_data"
    },
    {
     "data": {
      "text/markdown": [
       "<span style=\"color:#33cc99\">Solution:</span> \n",
       "```python\n",
       "\n",
       "# Complete the function\n",
       "def percentage_liked(ratings):\n",
       "    list_liked = [i >= 4 for i in ratings]\n",
       "    percentage_liked = sum(list_liked)/len(list_liked)\n",
       "    return percentage_liked\n",
       "\n",
       "```"
      ],
      "text/plain": [
       "Solution: \n",
       "```python\n",
       "\n",
       "# Complete the function\n",
       "def percentage_liked(ratings):\n",
       "    list_liked = [i >= 4 for i in ratings]\n",
       "    percentage_liked = sum(list_liked)/len(list_liked)\n",
       "    return percentage_liked\n",
       "\n",
       "```"
      ]
     },
     "metadata": {},
     "output_type": "display_data"
    }
   ],
   "source": [
    "# Uncomment to see a hint\n",
    "#q4.hint()\n",
    "\n",
    "# Uncomment to see the solution\n",
    "q4.solution()"
   ]
  },
  {
   "cell_type": "markdown",
   "id": "a5b120d3",
   "metadata": {
    "papermill": {
     "duration": 0.007234,
     "end_time": "2023-08-09T00:40:35.338465",
     "exception": false,
     "start_time": "2023-08-09T00:40:35.331231",
     "status": "completed"
    },
    "tags": []
   },
   "source": [
    "# 🌶️ Question 5\n",
    " \n",
    "Say you're doing analytics for a website.  You need to write a function that returns the percentage growth in the total number of users relative to a specified number of years ago.\n",
    "\n",
    "Your function `percentage_growth()` should take two arguments as input:\n",
    "- `num_users` = Python list with the total number of users each year.  So `num_users[0]` is the total number of users in the first year, `num_users[1]` is the total number of users in the second year, and so on.  The final entry in the list gives the total number of users in the most recently completed year.\n",
    "- `yrs_ago` = number of years to go back in time when calculating the growth percentage\n",
    "\n",
    "For instance, say `num_users = [920344, 1043553, 1204334, 1458996, 1503323, 1593432, 1623463, 1843064, 1930992, 2001078]`.\n",
    "- if `yrs_ago = 1`, we want the function to return a value of about `0.036`. This corresponds to a percentage growth of approximately 3.6%, calculated as (2001078 - 1930992)/1930992.\n",
    "- if `years_ago = 7`, we would want to return approximately `0.66`.  This corresponds to a percentage growth of approximately 66%, calculated as (2001078 - 1204334)/1204334.\n",
    "\n",
    "Your coworker sent you a draft of a function, but it doesn't seem to be doing the correct calculation.  Can you figure out what has gone wrong and make the needed changes?"
   ]
  },
  {
   "cell_type": "code",
   "execution_count": 14,
   "id": "bc233d0c",
   "metadata": {
    "execution": {
     "iopub.execute_input": "2023-08-09T00:40:35.356163Z",
     "iopub.status.busy": "2023-08-09T00:40:35.355742Z",
     "iopub.status.idle": "2023-08-09T00:40:35.367391Z",
     "shell.execute_reply": "2023-08-09T00:40:35.366191Z"
    },
    "papermill": {
     "duration": 0.023429,
     "end_time": "2023-08-09T00:40:35.369571",
     "exception": false,
     "start_time": "2023-08-09T00:40:35.346142",
     "status": "completed"
    },
    "tags": []
   },
   "outputs": [
    {
     "name": "stdout",
     "output_type": "stream",
     "text": [
      "0.03629533421163837\n",
      "0.6615639847417742\n"
     ]
    },
    {
     "data": {
      "application/javascript": [
       "parent.postMessage({\"jupyterEvent\": \"custom.exercise_interaction\", \"data\": {\"outcomeType\": 1, \"valueTowardsCompletion\": 0.2, \"interactionType\": 1, \"questionType\": 2, \"questionId\": \"5_WebsiteAnalytics\", \"learnToolsVersion\": \"0.3.4\", \"failureMessage\": \"\", \"exceptionClass\": \"\", \"trace\": \"\"}}, \"*\")"
      ],
      "text/plain": [
       "<IPython.core.display.Javascript object>"
      ]
     },
     "metadata": {},
     "output_type": "display_data"
    },
    {
     "data": {
      "text/markdown": [
       "<span style=\"color:#33cc33\">Correct</span>"
      ],
      "text/plain": [
       "Correct"
      ]
     },
     "metadata": {},
     "output_type": "display_data"
    }
   ],
   "source": [
    "# TODO: Edit the function\n",
    "def percentage_growth(num_users, yrs_ago):\n",
    "    growth = (num_users[len(num_users)-1] - num_users[len(num_users)-yrs_ago-1])/num_users[len(num_users)-yrs_ago-1]\n",
    "    return growth\n",
    "\n",
    "# Do not change: Variable for calculating some test examples\n",
    "num_users_test = [920344, 1043553, 1204334, 1458996, 1503323, 1593432, 1623463, 1843064, 1930992, 2001078]\n",
    "\n",
    "# Do not change: Should return .036\n",
    "print(percentage_growth(num_users_test, 1))\n",
    "\n",
    "# Do not change: Should return 0.66\n",
    "print(percentage_growth(num_users_test, 7))\n",
    "\n",
    "# Do not change: Check your answer\n",
    "q5.check()"
   ]
  },
  {
   "cell_type": "code",
   "execution_count": 15,
   "id": "a6cc3e86",
   "metadata": {
    "execution": {
     "iopub.execute_input": "2023-08-09T00:40:35.387108Z",
     "iopub.status.busy": "2023-08-09T00:40:35.386699Z",
     "iopub.status.idle": "2023-08-09T00:40:35.395506Z",
     "shell.execute_reply": "2023-08-09T00:40:35.394468Z"
    },
    "papermill": {
     "duration": 0.020369,
     "end_time": "2023-08-09T00:40:35.397714",
     "exception": false,
     "start_time": "2023-08-09T00:40:35.377345",
     "status": "completed"
    },
    "tags": []
   },
   "outputs": [
    {
     "data": {
      "application/javascript": [
       "parent.postMessage({\"jupyterEvent\": \"custom.exercise_interaction\", \"data\": {\"interactionType\": 3, \"questionType\": 2, \"questionId\": \"5_WebsiteAnalytics\", \"learnToolsVersion\": \"0.3.4\", \"valueTowardsCompletion\": 0.0, \"failureMessage\": \"\", \"exceptionClass\": \"\", \"trace\": \"\", \"outcomeType\": 4}}, \"*\")"
      ],
      "text/plain": [
       "<IPython.core.display.Javascript object>"
      ]
     },
     "metadata": {},
     "output_type": "display_data"
    },
    {
     "data": {
      "text/markdown": [
       "<span style=\"color:#33cc99\">Solution:</span> \n",
       "```python\n",
       "def percentage_growth(num_users, yrs_ago):\n",
       "    growth = (num_users[len(num_users)-1] - num_users[len(num_users)-yrs_ago-1])/num_users[len(num_users)-yrs_ago-1]\n",
       "    return growth\n",
       "\n",
       "```"
      ],
      "text/plain": [
       "Solution: \n",
       "```python\n",
       "def percentage_growth(num_users, yrs_ago):\n",
       "    growth = (num_users[len(num_users)-1] - num_users[len(num_users)-yrs_ago-1])/num_users[len(num_users)-yrs_ago-1]\n",
       "    return growth\n",
       "\n",
       "```"
      ]
     },
     "metadata": {},
     "output_type": "display_data"
    }
   ],
   "source": [
    "# Uncomment to see a hint\n",
    "#q5.hint()\n",
    "\n",
    "# Uncomment to see the solution\n",
    "q5.solution()"
   ]
  },
  {
   "cell_type": "markdown",
   "id": "b6c1c8a0",
   "metadata": {
    "papermill": {
     "duration": 0.008227,
     "end_time": "2023-08-09T00:40:35.414724",
     "exception": false,
     "start_time": "2023-08-09T00:40:35.406497",
     "status": "completed"
    },
    "tags": []
   },
   "source": [
    "# Congratulations!\n",
    "\n",
    "Congratulations for finishing the Intro to Programming course!  You should be proud of your very first steps with learning programming.  As next steps, we recommend taking:\n",
    "- the **[Python course](http://www.kaggle.com/learn/python)**, and \n",
    "- the **[Intro to Machine Learning course](https://www.kaggle.com/learn/intro-to-machine-learning)**."
   ]
  },
  {
   "cell_type": "markdown",
   "id": "cb07b989",
   "metadata": {
    "papermill": {
     "duration": 0.007906,
     "end_time": "2023-08-09T00:40:35.430790",
     "exception": false,
     "start_time": "2023-08-09T00:40:35.422884",
     "status": "completed"
    },
    "tags": []
   },
   "source": [
    "---\n",
    "\n",
    "\n",
    "\n",
    "\n",
    "*Have questions or comments? Visit the [course discussion forum](https://www.kaggle.com/learn/intro-to-programming/discussion) to chat with other learners.*"
   ]
  }
 ],
 "metadata": {
  "kernelspec": {
   "display_name": "Python 3",
   "language": "python",
   "name": "python3"
  },
  "language_info": {
   "codemirror_mode": {
    "name": "ipython",
    "version": 3
   },
   "file_extension": ".py",
   "mimetype": "text/x-python",
   "name": "python",
   "nbconvert_exporter": "python",
   "pygments_lexer": "ipython3",
   "version": "3.10.12"
  },
  "papermill": {
   "default_parameters": {},
   "duration": 12.01205,
   "end_time": "2023-08-09T00:40:36.362345",
   "environment_variables": {},
   "exception": null,
   "input_path": "__notebook__.ipynb",
   "output_path": "__notebook__.ipynb",
   "parameters": {},
   "start_time": "2023-08-09T00:40:24.350295",
   "version": "2.4.0"
  }
 },
 "nbformat": 4,
 "nbformat_minor": 5
}
